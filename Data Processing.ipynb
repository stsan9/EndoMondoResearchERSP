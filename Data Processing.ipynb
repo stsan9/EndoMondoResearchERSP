{
  "nbformat": 4,
  "nbformat_minor": 0,
  "metadata": {
    "colab": {
      "name": "Re-processing.ipynb",
      "provenance": [],
      "authorship_tag": "ABX9TyMWWftVOirl6RGbVwIrS2n6",
      "include_colab_link": true
    },
    "kernelspec": {
      "name": "python3",
      "display_name": "Python 3"
    }
  },
  "cells": [
    {
      "cell_type": "markdown",
      "metadata": {
        "id": "view-in-github",
        "colab_type": "text"
      },
      "source": [
        "<a href=\"https://colab.research.google.com/github/stsan9/EndoMondoResearchERSP/blob/master/Data%20Processing.ipynb\" target=\"_parent\"><img src=\"https://colab.research.google.com/assets/colab-badge.svg\" alt=\"Open In Colab\"/></a>"
      ]
    },
    {
      "cell_type": "code",
      "metadata": {
        "id": "rdyMyYm1hmaN",
        "colab_type": "code",
        "colab": {}
      },
      "source": [
        "import pandas as pd\n",
        "import json\n",
        "import numpy as np\n",
        "import math\n",
        "from datetime import datetime"
      ],
      "execution_count": 0,
      "outputs": []
    },
    {
      "cell_type": "code",
      "metadata": {
        "id": "cYlx3_VVh0E-",
        "colab_type": "code",
        "outputId": "8b79c9c4-e77f-40d8-bba9-f6e3a2485183",
        "colab": {
          "base_uri": "https://localhost:8080/",
          "height": 126
        }
      },
      "source": [
        "from google.colab import drive\n",
        "drive.mount('/content/gdrive')"
      ],
      "execution_count": 0,
      "outputs": [
        {
          "output_type": "stream",
          "text": [
            "Go to this URL in a browser: https://accounts.google.com/o/oauth2/auth?client_id=947318989803-6bn6qk8qdgf4n4g3pfee6491hc0brc4i.apps.googleusercontent.com&redirect_uri=urn%3aietf%3awg%3aoauth%3a2.0%3aoob&response_type=code&scope=email%20https%3a%2f%2fwww.googleapis.com%2fauth%2fdocs.test%20https%3a%2f%2fwww.googleapis.com%2fauth%2fdrive%20https%3a%2f%2fwww.googleapis.com%2fauth%2fdrive.photos.readonly%20https%3a%2f%2fwww.googleapis.com%2fauth%2fpeopleapi.readonly\n",
            "\n",
            "Enter your authorization code:\n",
            "··········\n",
            "Mounted at /content/gdrive\n"
          ],
          "name": "stdout"
        }
      ]
    },
    {
      "cell_type": "code",
      "metadata": {
        "id": "5nY5hziJh3Zi",
        "colab_type": "code",
        "colab": {}
      },
      "source": [
        "properPath = '/content/gdrive/My Drive/EndoMondoData/endomondoHR_proper.json'"
      ],
      "execution_count": 0,
      "outputs": []
    },
    {
      "cell_type": "code",
      "metadata": {
        "id": "hEBBIL_1h-zH",
        "colab_type": "code",
        "colab": {}
      },
      "source": [
        "data = []\n",
        "with open(properPath) as f:\n",
        "    for l in f:\n",
        "        data.append(eval(l))"
      ],
      "execution_count": 0,
      "outputs": []
    },
    {
      "cell_type": "code",
      "metadata": {
        "id": "opcSYAGfiBer",
        "colab_type": "code",
        "colab": {}
      },
      "source": [
        "dataframe = pd.DataFrame.from_dict(data)"
      ],
      "execution_count": 0,
      "outputs": []
    },
    {
      "cell_type": "code",
      "metadata": {
        "id": "a4FAdda3kLrm",
        "colab_type": "code",
        "colab": {}
      },
      "source": [
        "dataframe['average_altitude'] = dataframe['altitude'].apply(np.mean)\n",
        "dataframe['time_start'] = dataframe['timestamp'].apply(lambda x: x[0])\n",
        "dataframe['average_heart_rate'] = dataframe['heart_rate'].apply(np.mean)\n",
        "dataframe.drop(columns=['speed', 'url', 'altitude'], inplace=True)"
      ],
      "execution_count": 0,
      "outputs": []
    },
    {
      "cell_type": "code",
      "metadata": {
        "id": "Wa7MZAK9krEe",
        "colab_type": "code",
        "colab": {}
      },
      "source": [
        "dataframe = pd.concat([dataframe,pd.get_dummies(dataframe['gender'], prefix='gender')],axis=1)\n",
        "dataframe.drop(['gender'],axis=1, inplace=True)"
      ],
      "execution_count": 0,
      "outputs": []
    },
    {
      "cell_type": "code",
      "metadata": {
        "id": "Gxcgi5NAlz3i",
        "colab_type": "code",
        "colab": {}
      },
      "source": [
        "lat_list = dataframe['latitude']\n",
        "long_list = dataframe['longitude']\n",
        "\n",
        "dist_list = []\n",
        "time_list = []\n",
        "\n",
        "for i in range(dataframe.shape[0]):\n",
        "  dist = 0\n",
        "  time_list.append(dataframe['timestamp'][i][-1] - dataframe['timestamp'][i][0])\n",
        "  for j in range(len(dataframe['latitude'][i]) -1):\n",
        "    lat1 = math.radians(lat_list[i][j])\n",
        "    lon1 = math.radians(long_list[i][j])\n",
        "    lat2 = math.radians(lat_list[i][j + 1])\n",
        "    lon2 = math.radians(long_list[i][j + 1])\n",
        "\n",
        "    R = 6373.0\n",
        "\n",
        "    dlon = lon2 - lon1\n",
        "    dlat = lat2 - lat1\n",
        "\n",
        "    a = math.sin(dlat / 2)**2 + math.cos(lat1) * math.cos(lat2) * math.sin(dlon / 2)**2\n",
        "    c = 2 * math.atan2(math.sqrt(a), math.sqrt(1 - a))\n",
        "\n",
        "    dist += R * c\n",
        "  dist_list.append(dist)"
      ],
      "execution_count": 0,
      "outputs": []
    },
    {
      "cell_type": "code",
      "metadata": {
        "id": "IgrXmjbXl1Py",
        "colab_type": "code",
        "colab": {}
      },
      "source": [
        "def time_scale(num):\n",
        "  return num/60/60"
      ],
      "execution_count": 0,
      "outputs": []
    },
    {
      "cell_type": "code",
      "metadata": {
        "id": "XV2QY7qSmrX5",
        "colab_type": "code",
        "colab": {}
      },
      "source": [
        "dataframe['derived_distance (km)'] = dist_list\n",
        "dataframe['dervided_speed (km/h)'] = dataframe['derived_distance (km)'] / pd.Series(time_list).apply(time_scale)"
      ],
      "execution_count": 0,
      "outputs": []
    },
    {
      "cell_type": "code",
      "metadata": {
        "id": "BVNOfzJQn0uu",
        "colab_type": "code",
        "colab": {}
      },
      "source": [
        "sport_key = list(dataframe['sport'].unique())\n",
        "\n",
        "def sport_convert(sport):\n",
        "  for i in range(len(sport_key)):\n",
        "    if sport_key[i] == sport:\n",
        "      return i+1\n",
        "\n",
        "dataframe['sport'] = dataframe['sport'].apply(sport_convert)"
      ],
      "execution_count": 0,
      "outputs": []
    },
    {
      "cell_type": "code",
      "metadata": {
        "id": "xvDtlc1un3wg",
        "colab_type": "code",
        "colab": {}
      },
      "source": [
        "all_users=dataframe[\"userId\"].unique()\n",
        "saved_stamps = list(dataframe['time_start'])\n",
        "times = []\n",
        "for user in all_users:\n",
        "  user_data = dataframe.loc[dataframe[\"userId\"] == user].sort_values(\"time_start\")\n",
        "  arr = np.diff(user_data[\"time_start\"])\n",
        "  arr=np.append(arr,[0])\n",
        "  user_data[\"time_start\"]=arr.tolist()\n",
        "  indexNames = dataframe[dataframe[\"userId\"] == user].index\n",
        "  dataframe.drop(indexNames,inplace=True)\n",
        "  dataframe = dataframe.append(user_data,ignore_index = True)\n",
        "\n",
        "dataframe = dataframe.rename( columns= { \"time_start\" : \"hrs_to_next\" } )\n",
        "dataframe['time_start'] = saved_stamps\n",
        "dataframe['hrs_to_next'] = dataframe['hrs_to_next'].apply(time_scale)"
      ],
      "execution_count": 0,
      "outputs": []
    },
    {
      "cell_type": "code",
      "metadata": {
        "id": "vnyXO1AA_bhP",
        "colab_type": "code",
        "outputId": "338ff284-14fd-4e42-dbcf-7314e969dec9",
        "colab": {
          "base_uri": "https://localhost:8080/",
          "height": 35
        }
      },
      "source": [
        "df = dataframe.copy()\n",
        "df = df[df['hrs_to_next'] != 0]\n",
        "median_gap = np.median(df['hrs_to_next'])\n",
        "print(median_gap/24)"
      ],
      "execution_count": 0,
      "outputs": [
        {
          "output_type": "stream",
          "text": [
            "1.9372280092592593\n"
          ],
          "name": "stdout"
        }
      ]
    },
    {
      "cell_type": "code",
      "metadata": {
        "id": "KY8HZCFCXZDO",
        "colab_type": "code",
        "colab": {}
      },
      "source": [
        "#Converting hrs_to_next to month ranges\n",
        "def hrs_to_month(num):\n",
        "  return num/24/30\n",
        "dataframe[\"months_to_next\"]=dataframe[\"hrs_to_next\"].apply(hrs_to_month)"
      ],
      "execution_count": 0,
      "outputs": []
    },
    {
      "cell_type": "code",
      "metadata": {
        "id": "6N66Hp5tfQnQ",
        "colab_type": "code",
        "colab": {}
      },
      "source": [
        "#Converting time_start to number of month\n",
        "def extract_month(num):\n",
        "  date=datetime.fromtimestamp(num)\n",
        "  return date.month\n",
        "dataframe[\"month\"]=dataframe[\"time_start\"].apply(extract_month)"
      ],
      "execution_count": 0,
      "outputs": []
    },
    {
      "cell_type": "code",
      "metadata": {
        "id": "hHs6r95Ba6Xi",
        "colab_type": "code",
        "outputId": "85c94964-fc4c-4151-d848-0c1b396d359c",
        "colab": {
          "base_uri": "https://localhost:8080/",
          "height": 568
        }
      },
      "source": [
        "dataframe = df.sort_values('time_start', ascending=False).reset_index(drop=True)\n",
        "dataframe.head()"
      ],
      "execution_count": 0,
      "outputs": [
        {
          "output_type": "execute_result",
          "data": {
            "text/html": [
              "<div>\n",
              "<style scoped>\n",
              "    .dataframe tbody tr th:only-of-type {\n",
              "        vertical-align: middle;\n",
              "    }\n",
              "\n",
              "    .dataframe tbody tr th {\n",
              "        vertical-align: top;\n",
              "    }\n",
              "\n",
              "    .dataframe thead th {\n",
              "        text-align: right;\n",
              "    }\n",
              "</style>\n",
              "<table border=\"1\" class=\"dataframe\">\n",
              "  <thead>\n",
              "    <tr style=\"text-align: right;\">\n",
              "      <th></th>\n",
              "      <th>longitude</th>\n",
              "      <th>latitude</th>\n",
              "      <th>sport</th>\n",
              "      <th>id</th>\n",
              "      <th>heart_rate</th>\n",
              "      <th>timestamp</th>\n",
              "      <th>userId</th>\n",
              "      <th>average_altitude</th>\n",
              "      <th>hrs_to_next</th>\n",
              "      <th>average_heart_rate</th>\n",
              "      <th>gender_female</th>\n",
              "      <th>gender_male</th>\n",
              "      <th>gender_unknown</th>\n",
              "      <th>derived_distance (km)</th>\n",
              "      <th>dervided_speed (km/h)</th>\n",
              "      <th>time_start</th>\n",
              "    </tr>\n",
              "  </thead>\n",
              "  <tbody>\n",
              "    <tr>\n",
              "      <th>0</th>\n",
              "      <td>[18.3869108, 18.3868904, 18.3865188, 18.385767...</td>\n",
              "      <td>[54.71762, 54.7176174, 54.7175796, 54.7174957,...</td>\n",
              "      <td>1</td>\n",
              "      <td>472806542</td>\n",
              "      <td>[83, 84, 89, 94, 98, 98, 101, 100, 107, 110, 1...</td>\n",
              "      <td>[1223070209, 1223070210, 1223070218, 122307022...</td>\n",
              "      <td>653747</td>\n",
              "      <td>32.822155</td>\n",
              "      <td>72.064722</td>\n",
              "      <td>107.978</td>\n",
              "      <td>0</td>\n",
              "      <td>1</td>\n",
              "      <td>0</td>\n",
              "      <td>30.013173</td>\n",
              "      <td>23.524368</td>\n",
              "      <td>1554623190</td>\n",
              "    </tr>\n",
              "    <tr>\n",
              "      <th>1</th>\n",
              "      <td>[128.29841653816402, 128.2981062401086, 128.29...</td>\n",
              "      <td>[36.23876868747175, 36.23854053206742, 36.2387...</td>\n",
              "      <td>1</td>\n",
              "      <td>610057267</td>\n",
              "      <td>[108, 103, 103, 104, 106, 111, 121, 123, 133, ...</td>\n",
              "      <td>[1443534904, 1443534929, 1443534945, 144353496...</td>\n",
              "      <td>11002376</td>\n",
              "      <td>96.758000</td>\n",
              "      <td>89.077778</td>\n",
              "      <td>140.666</td>\n",
              "      <td>0</td>\n",
              "      <td>1</td>\n",
              "      <td>0</td>\n",
              "      <td>37.319676</td>\n",
              "      <td>12.836884</td>\n",
              "      <td>1550233552</td>\n",
              "    </tr>\n",
              "    <tr>\n",
              "      <th>2</th>\n",
              "      <td>[127.32873830012977, 127.32873444445431, 127.3...</td>\n",
              "      <td>[37.54560286179185, 37.54556933417916, 37.5453...</td>\n",
              "      <td>1</td>\n",
              "      <td>612019809</td>\n",
              "      <td>[80, 99, 108, 115, 108, 106, 118, 127, 126, 12...</td>\n",
              "      <td>[1443855584, 1443855620, 1443855639, 144385565...</td>\n",
              "      <td>11002376</td>\n",
              "      <td>110.415600</td>\n",
              "      <td>29547.230833</td>\n",
              "      <td>155.180</td>\n",
              "      <td>0</td>\n",
              "      <td>1</td>\n",
              "      <td>0</td>\n",
              "      <td>31.841821</td>\n",
              "      <td>19.887327</td>\n",
              "      <td>1550225615</td>\n",
              "    </tr>\n",
              "    <tr>\n",
              "      <th>3</th>\n",
              "      <td>[18.642657, 18.642637, 18.642661, 18.642731, 1...</td>\n",
              "      <td>[-33.854448, -33.85428, -33.853918, -33.85349,...</td>\n",
              "      <td>1</td>\n",
              "      <td>32971195</td>\n",
              "      <td>[108, 110, 113, 114, 109, 104, 97, 102, 111, 1...</td>\n",
              "      <td>[1208975271, 1208975278, 1208975286, 120897529...</td>\n",
              "      <td>28064</td>\n",
              "      <td>164.366084</td>\n",
              "      <td>47.340556</td>\n",
              "      <td>146.902</td>\n",
              "      <td>0</td>\n",
              "      <td>1</td>\n",
              "      <td>0</td>\n",
              "      <td>27.571008</td>\n",
              "      <td>24.926074</td>\n",
              "      <td>1451658916</td>\n",
              "    </tr>\n",
              "    <tr>\n",
              "      <th>4</th>\n",
              "      <td>[28.2229102, 28.2229031, 28.2229155, 28.222928...</td>\n",
              "      <td>[-25.7221224, -25.7221948, -25.7223643, -25.72...</td>\n",
              "      <td>3</td>\n",
              "      <td>101087026</td>\n",
              "      <td>[83, 84, 100, 115, 125, 129, 131, 132, 136, 13...</td>\n",
              "      <td>[1350559938, 1350559942, 1350559947, 135055995...</td>\n",
              "      <td>860533</td>\n",
              "      <td>1294.496800</td>\n",
              "      <td>23.987500</td>\n",
              "      <td>164.566</td>\n",
              "      <td>0</td>\n",
              "      <td>1</td>\n",
              "      <td>0</td>\n",
              "      <td>11.740080</td>\n",
              "      <td>11.547620</td>\n",
              "      <td>1451653209</td>\n",
              "    </tr>\n",
              "  </tbody>\n",
              "</table>\n",
              "</div>"
            ],
            "text/plain": [
              "                                           longitude  ...  time_start\n",
              "0  [18.3869108, 18.3868904, 18.3865188, 18.385767...  ...  1554623190\n",
              "1  [128.29841653816402, 128.2981062401086, 128.29...  ...  1550233552\n",
              "2  [127.32873830012977, 127.32873444445431, 127.3...  ...  1550225615\n",
              "3  [18.642657, 18.642637, 18.642661, 18.642731, 1...  ...  1451658916\n",
              "4  [28.2229102, 28.2229031, 28.2229155, 28.222928...  ...  1451653209\n",
              "\n",
              "[5 rows x 16 columns]"
            ]
          },
          "metadata": {
            "tags": []
          },
          "execution_count": 31
        }
      ]
    },
    {
      "cell_type": "code",
      "metadata": {
        "id": "41BsWqnicbcC",
        "colab_type": "code",
        "colab": {}
      },
      "source": [
        "a = dataframe.groupby('userId').count()\n",
        "good_users = list(a[a['id'] > 20].index)\n",
        "dataframe = dataframe[dataframe['userId'].isin(good_users)]\n",
        "dataframe['hrs_to_next2'] = dataframe['hrs_to_next'].copy()\n",
        "dataframe[\"months_to_next\"]=dataframe[\"hrs_to_next\"].apply(hrs_to_month)"
      ],
      "execution_count": 0,
      "outputs": []
    },
    {
      "cell_type": "code",
      "metadata": {
        "id": "IUvlG35EZdn0",
        "colab_type": "code",
        "colab": {}
      },
      "source": [
        "\n",
        "utt1 = dataframe.groupby('userId').agg(\n",
        "    {'hrs_to_next': np.median,\n",
        "     'time_start': lambda x: x[x >= (x.iloc[1] - median_gap*60*60)].count()-2,\n",
        "     'sport': lambda x: x.iloc[1],\n",
        "     'hrs_to_next2': lambda x: int(x.iloc[1] <= median_gap),\n",
        "     'average_heart_rate': lambda x: x.iloc[1],\n",
        "     'dervided_speed (km/h)': lambda x: x.iloc[1],\n",
        "     'derived_distance (km)': lambda x: x.iloc[1],\n",
        "     'average_altitude': lambda x: x.iloc[1],\n",
        "     'months_to_next': lambda x: x.iloc[2],\n",
        "     'gender_female': lambda x: x.iloc[1],\n",
        "     'gender_male': lambda x: x.iloc[1],\n",
        "     'gender_unknown': lambda x: x.iloc[1]\n",
        "     }\n",
        "    )\n",
        "utt2 = dataframe.groupby('userId').agg(\n",
        "    {'hrs_to_next': lambda x: x.iloc[2],\n",
        "     'hrs_to_next2': lambda x: x.iloc[3],\n",
        "     'months_to_next': lambda x: x.iloc[3]\n",
        "     }\n",
        "     )"
      ],
      "execution_count": 0,
      "outputs": []
    },
    {
      "cell_type": "code",
      "metadata": {
        "id": "QtAr56R_jA6J",
        "colab_type": "code",
        "colab": {}
      },
      "source": [
        "utt1.columns = [\n",
        "                'user_median', 'num_recent_workouts', 'recent_sport', \n",
        "                'workout_soon', 'recent_heart_rate', 'recent_speed',\n",
        "                'recent_distance', 'recent_altitude', 'months_to_next1',\n",
        "                'gender_female', 'gender_male', 'gender_unknown'\n",
        "                ]\n",
        "utt2.columns = [\n",
        "                'hrs_to_next1', 'hrs_to_next2', 'months_to_next2'\n",
        "                ]"
      ],
      "execution_count": 0,
      "outputs": []
    },
    {
      "cell_type": "code",
      "metadata": {
        "id": "rX8GcLqMm2Ww",
        "colab_type": "code",
        "colab": {}
      },
      "source": [
        "new_user_time_table = utt1.merge(utt2, left_index=True, right_index=True)\n",
        "new_user_time_table.to_csv(r'/content/gdrive/My Drive/Group Research Materials/McAuley/NewUserTimeTable.csv')"
      ],
      "execution_count": 0,
      "outputs": []
    }
  ]
}