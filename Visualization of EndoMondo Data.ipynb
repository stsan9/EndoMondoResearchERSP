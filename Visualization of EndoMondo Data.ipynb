{
 "cells": [
  {
   "cell_type": "markdown",
   "metadata": {},
   "source": [
    "# Importing necessaty packages"
   ]
  },
  {
   "cell_type": "code",
   "execution_count": 164,
   "metadata": {},
   "outputs": [],
   "source": [
    "import pandas as pd\n",
    "import numpy as np\n",
    "from matplotlib import pyplot as plt\n",
    "import json\n",
    "import os\n",
    "import seaborn as sns\n",
    "\n",
    "#this will make any graphs to be outputed on the cell below\n",
    "%matplotlib inline"
   ]
  },
  {
   "cell_type": "markdown",
   "metadata": {},
   "source": [
    "## Truncate the data \n",
    "This will allow for faster processing and will not fill up the RAM"
   ]
  },
  {
   "cell_type": "code",
   "execution_count": 165,
   "metadata": {},
   "outputs": [
    {
     "data": {
      "text/plain": [
       "0"
      ]
     },
     "execution_count": 165,
     "metadata": {},
     "output_type": "execute_result"
    }
   ],
   "source": [
    "data = []\n",
    "path = '/Users/gtierrez_andres/Desktop/practice/Practice 1/endomondoHR_proper.json'\n",
    "os.system('head -n 1000 endomondoHR_proper.json > truncatedData.json')"
   ]
  },
  {
   "cell_type": "markdown",
   "metadata": {},
   "source": [
    "# Loading Data"
   ]
  },
  {
   "cell_type": "code",
   "execution_count": 166,
   "metadata": {},
   "outputs": [],
   "source": [
    "with open('truncatedData.json') as f:\n",
    "    for l in f:\n",
    "        data.append(eval(l))"
   ]
  },
  {
   "cell_type": "markdown",
   "metadata": {},
   "source": [
    "# Converting into a dataframe"
   ]
  },
  {
   "cell_type": "code",
   "execution_count": 167,
   "metadata": {
    "scrolled": true
   },
   "outputs": [
    {
     "data": {
      "text/html": [
       "<div>\n",
       "<style scoped>\n",
       "    .dataframe tbody tr th:only-of-type {\n",
       "        vertical-align: middle;\n",
       "    }\n",
       "\n",
       "    .dataframe tbody tr th {\n",
       "        vertical-align: top;\n",
       "    }\n",
       "\n",
       "    .dataframe thead th {\n",
       "        text-align: right;\n",
       "    }\n",
       "</style>\n",
       "<table border=\"1\" class=\"dataframe\">\n",
       "  <thead>\n",
       "    <tr style=\"text-align: right;\">\n",
       "      <th></th>\n",
       "      <th>longitude</th>\n",
       "      <th>altitude</th>\n",
       "      <th>latitude</th>\n",
       "      <th>sport</th>\n",
       "      <th>id</th>\n",
       "      <th>heart_rate</th>\n",
       "      <th>gender</th>\n",
       "      <th>timestamp</th>\n",
       "      <th>url</th>\n",
       "      <th>userId</th>\n",
       "      <th>speed</th>\n",
       "    </tr>\n",
       "  </thead>\n",
       "  <tbody>\n",
       "    <tr>\n",
       "      <td>0</td>\n",
       "      <td>[24.64977040886879, 24.65014273300767, 24.6509...</td>\n",
       "      <td>[41.6, 40.6, 40.6, 38.4, 37.0, 34.0, 34.0, 34....</td>\n",
       "      <td>[60.173348765820265, 60.173239801079035, 60.17...</td>\n",
       "      <td>bike</td>\n",
       "      <td>396826535</td>\n",
       "      <td>[100, 111, 120, 119, 120, 116, 125, 128, 131, ...</td>\n",
       "      <td>male</td>\n",
       "      <td>[1408898746, 1408898754, 1408898765, 140889877...</td>\n",
       "      <td>https://www.endomondo.com/users/10921915/worko...</td>\n",
       "      <td>10921915</td>\n",
       "      <td>[6.8652, 16.4736, 19.1988, 20.4804, 31.3956, 3...</td>\n",
       "    </tr>\n",
       "    <tr>\n",
       "      <td>1</td>\n",
       "      <td>[24.649855233728886, 24.65015547350049, 24.650...</td>\n",
       "      <td>[38.4, 39.0, 39.0, 38.2, 36.8, 36.8, 36.8, 35....</td>\n",
       "      <td>[60.173247596248984, 60.17320962622762, 60.172...</td>\n",
       "      <td>bike</td>\n",
       "      <td>392337038</td>\n",
       "      <td>[100, 105, 111, 110, 108, 115, 126, 130, 132, ...</td>\n",
       "      <td>male</td>\n",
       "      <td>[1408221682, 1408221687, 1408221699, 140822170...</td>\n",
       "      <td>https://www.endomondo.com/users/10921915/worko...</td>\n",
       "      <td>10921915</td>\n",
       "      <td>[9.0792, 13.284, 15.9336, 10.9476, 16.1676, 30...</td>\n",
       "    </tr>\n",
       "    <tr>\n",
       "      <td>2</td>\n",
       "      <td>[24.64995657093823, 24.650197718292475, 24.651...</td>\n",
       "      <td>[76.4, 73.2, 72.4, 73.0, 73.0, 70.8, 69.2, 69....</td>\n",
       "      <td>[60.17326201312244, 60.173205351457, 60.172969...</td>\n",
       "      <td>bike</td>\n",
       "      <td>389643739</td>\n",
       "      <td>[99, 105, 113, 110, 109, 110, 108, 121, 116, 1...</td>\n",
       "      <td>male</td>\n",
       "      <td>[1407858459, 1407858466, 1407858478, 140785849...</td>\n",
       "      <td>https://www.endomondo.com/users/10921915/worko...</td>\n",
       "      <td>10921915</td>\n",
       "      <td>[4.0464, 13.8204, 16.9776, 19.9404, 28.7856, 3...</td>\n",
       "    </tr>\n",
       "    <tr>\n",
       "      <td>3</td>\n",
       "      <td>[24.649874344468117, 24.650242729112506, 24.65...</td>\n",
       "      <td>[28.6, 29.4, 29.4, 29.4, 28.0, 27.0, 25.2, 23....</td>\n",
       "      <td>[60.173286236822605, 60.17323946580291, 60.173...</td>\n",
       "      <td>bike</td>\n",
       "      <td>386729739</td>\n",
       "      <td>[99, 105, 113, 109, 112, 116, 116, 114, 114, 1...</td>\n",
       "      <td>male</td>\n",
       "      <td>[1407432042, 1407432048, 1407432056, 140743206...</td>\n",
       "      <td>https://www.endomondo.com/users/10921915/worko...</td>\n",
       "      <td>10921915</td>\n",
       "      <td>[7.4988, 15.4008, 17.8668, 21.5712, 24.1416, 3...</td>\n",
       "    </tr>\n",
       "    <tr>\n",
       "      <td>4</td>\n",
       "      <td>[24.64979832060635, 24.64992195367813, 24.6500...</td>\n",
       "      <td>[32.0, 32.0, 32.0, 35.8, 36.2, 36.2, 36.2, 36....</td>\n",
       "      <td>[60.17329327762127, 60.17327332869172, 60.1732...</td>\n",
       "      <td>bike (transport)</td>\n",
       "      <td>383186560</td>\n",
       "      <td>[110, 113, 114, 116, 123, 126, 129, 135, 137, ...</td>\n",
       "      <td>male</td>\n",
       "      <td>[1406909434, 1406909436, 1406909437, 140690943...</td>\n",
       "      <td>https://www.endomondo.com/users/10921915/worko...</td>\n",
       "      <td>10921915</td>\n",
       "      <td>NaN</td>\n",
       "    </tr>\n",
       "  </tbody>\n",
       "</table>\n",
       "</div>"
      ],
      "text/plain": [
       "                                           longitude  \\\n",
       "0  [24.64977040886879, 24.65014273300767, 24.6509...   \n",
       "1  [24.649855233728886, 24.65015547350049, 24.650...   \n",
       "2  [24.64995657093823, 24.650197718292475, 24.651...   \n",
       "3  [24.649874344468117, 24.650242729112506, 24.65...   \n",
       "4  [24.64979832060635, 24.64992195367813, 24.6500...   \n",
       "\n",
       "                                            altitude  \\\n",
       "0  [41.6, 40.6, 40.6, 38.4, 37.0, 34.0, 34.0, 34....   \n",
       "1  [38.4, 39.0, 39.0, 38.2, 36.8, 36.8, 36.8, 35....   \n",
       "2  [76.4, 73.2, 72.4, 73.0, 73.0, 70.8, 69.2, 69....   \n",
       "3  [28.6, 29.4, 29.4, 29.4, 28.0, 27.0, 25.2, 23....   \n",
       "4  [32.0, 32.0, 32.0, 35.8, 36.2, 36.2, 36.2, 36....   \n",
       "\n",
       "                                            latitude             sport  \\\n",
       "0  [60.173348765820265, 60.173239801079035, 60.17...              bike   \n",
       "1  [60.173247596248984, 60.17320962622762, 60.172...              bike   \n",
       "2  [60.17326201312244, 60.173205351457, 60.172969...              bike   \n",
       "3  [60.173286236822605, 60.17323946580291, 60.173...              bike   \n",
       "4  [60.17329327762127, 60.17327332869172, 60.1732...  bike (transport)   \n",
       "\n",
       "          id                                         heart_rate gender  \\\n",
       "0  396826535  [100, 111, 120, 119, 120, 116, 125, 128, 131, ...   male   \n",
       "1  392337038  [100, 105, 111, 110, 108, 115, 126, 130, 132, ...   male   \n",
       "2  389643739  [99, 105, 113, 110, 109, 110, 108, 121, 116, 1...   male   \n",
       "3  386729739  [99, 105, 113, 109, 112, 116, 116, 114, 114, 1...   male   \n",
       "4  383186560  [110, 113, 114, 116, 123, 126, 129, 135, 137, ...   male   \n",
       "\n",
       "                                           timestamp  \\\n",
       "0  [1408898746, 1408898754, 1408898765, 140889877...   \n",
       "1  [1408221682, 1408221687, 1408221699, 140822170...   \n",
       "2  [1407858459, 1407858466, 1407858478, 140785849...   \n",
       "3  [1407432042, 1407432048, 1407432056, 140743206...   \n",
       "4  [1406909434, 1406909436, 1406909437, 140690943...   \n",
       "\n",
       "                                                 url    userId  \\\n",
       "0  https://www.endomondo.com/users/10921915/worko...  10921915   \n",
       "1  https://www.endomondo.com/users/10921915/worko...  10921915   \n",
       "2  https://www.endomondo.com/users/10921915/worko...  10921915   \n",
       "3  https://www.endomondo.com/users/10921915/worko...  10921915   \n",
       "4  https://www.endomondo.com/users/10921915/worko...  10921915   \n",
       "\n",
       "                                               speed  \n",
       "0  [6.8652, 16.4736, 19.1988, 20.4804, 31.3956, 3...  \n",
       "1  [9.0792, 13.284, 15.9336, 10.9476, 16.1676, 30...  \n",
       "2  [4.0464, 13.8204, 16.9776, 19.9404, 28.7856, 3...  \n",
       "3  [7.4988, 15.4008, 17.8668, 21.5712, 24.1416, 3...  \n",
       "4                                                NaN  "
      ]
     },
     "execution_count": 167,
     "metadata": {},
     "output_type": "execute_result"
    }
   ],
   "source": [
    "df = pd.DataFrame.from_dict(data)\n",
    "df.head()"
   ]
  },
  {
   "cell_type": "markdown",
   "metadata": {},
   "source": [
    "# Print out all the different types of sports"
   ]
  },
  {
   "cell_type": "code",
   "execution_count": 168,
   "metadata": {},
   "outputs": [
    {
     "name": "stdout",
     "output_type": "stream",
     "text": [
      "['bike' 'bike (transport)' 'run' 'mountain bike' 'rowing' 'orienteering'\n",
      " 'tennis' 'kayaking']\n"
     ]
    }
   ],
   "source": [
    "sports = df['sport'].unique()\n",
    "print(sports)"
   ]
  },
  {
   "cell_type": "markdown",
   "metadata": {},
   "source": [
    "## Drop the columns \"id\" and \"url\" Since these seem useless for now"
   ]
  },
  {
   "cell_type": "code",
   "execution_count": 169,
   "metadata": {},
   "outputs": [
    {
     "data": {
      "text/html": [
       "<div>\n",
       "<style scoped>\n",
       "    .dataframe tbody tr th:only-of-type {\n",
       "        vertical-align: middle;\n",
       "    }\n",
       "\n",
       "    .dataframe tbody tr th {\n",
       "        vertical-align: top;\n",
       "    }\n",
       "\n",
       "    .dataframe thead th {\n",
       "        text-align: right;\n",
       "    }\n",
       "</style>\n",
       "<table border=\"1\" class=\"dataframe\">\n",
       "  <thead>\n",
       "    <tr style=\"text-align: right;\">\n",
       "      <th></th>\n",
       "      <th>longitude</th>\n",
       "      <th>altitude</th>\n",
       "      <th>latitude</th>\n",
       "      <th>sport</th>\n",
       "      <th>heart_rate</th>\n",
       "      <th>gender</th>\n",
       "      <th>timestamp</th>\n",
       "      <th>userId</th>\n",
       "      <th>speed</th>\n",
       "    </tr>\n",
       "  </thead>\n",
       "  <tbody>\n",
       "    <tr>\n",
       "      <td>0</td>\n",
       "      <td>[24.64977040886879, 24.65014273300767, 24.6509...</td>\n",
       "      <td>[41.6, 40.6, 40.6, 38.4, 37.0, 34.0, 34.0, 34....</td>\n",
       "      <td>[60.173348765820265, 60.173239801079035, 60.17...</td>\n",
       "      <td>bike</td>\n",
       "      <td>[100, 111, 120, 119, 120, 116, 125, 128, 131, ...</td>\n",
       "      <td>male</td>\n",
       "      <td>[1408898746, 1408898754, 1408898765, 140889877...</td>\n",
       "      <td>10921915</td>\n",
       "      <td>[6.8652, 16.4736, 19.1988, 20.4804, 31.3956, 3...</td>\n",
       "    </tr>\n",
       "  </tbody>\n",
       "</table>\n",
       "</div>"
      ],
      "text/plain": [
       "                                           longitude  \\\n",
       "0  [24.64977040886879, 24.65014273300767, 24.6509...   \n",
       "\n",
       "                                            altitude  \\\n",
       "0  [41.6, 40.6, 40.6, 38.4, 37.0, 34.0, 34.0, 34....   \n",
       "\n",
       "                                            latitude sport  \\\n",
       "0  [60.173348765820265, 60.173239801079035, 60.17...  bike   \n",
       "\n",
       "                                          heart_rate gender  \\\n",
       "0  [100, 111, 120, 119, 120, 116, 125, 128, 131, ...   male   \n",
       "\n",
       "                                           timestamp    userId  \\\n",
       "0  [1408898746, 1408898754, 1408898765, 140889877...  10921915   \n",
       "\n",
       "                                               speed  \n",
       "0  [6.8652, 16.4736, 19.1988, 20.4804, 31.3956, 3...  "
      ]
     },
     "execution_count": 169,
     "metadata": {},
     "output_type": "execute_result"
    }
   ],
   "source": [
    "df = df.drop(['id', 'url'], axis = 1)\n",
    "df.head(1)"
   ]
  },
  {
   "cell_type": "code",
   "execution_count": 310,
   "metadata": {},
   "outputs": [
    {
     "name": "stdout",
     "output_type": "stream",
     "text": [
      "[10921915  4969375   430859   279317  3905196 11889307  6479229   854368\n",
      "  9815069  4419649  4007546]\n"
     ]
    }
   ],
   "source": [
    "print(df['userId'].unique())"
   ]
  },
  {
   "cell_type": "code",
   "execution_count": 313,
   "metadata": {},
   "outputs": [],
   "source": [
    "x = df['speed'][0]\n",
    "y = df['heart_rate'][0]"
   ]
  },
  {
   "cell_type": "code",
   "execution_count": 314,
   "metadata": {},
   "outputs": [
    {
     "data": {
      "image/png": "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\n",
      "text/plain": [
       "<Figure size 432x288 with 1 Axes>"
      ]
     },
     "metadata": {
      "needs_background": "light"
     },
     "output_type": "display_data"
    }
   ],
   "source": [
    "plt.scatter(x, y, color='g', s=6)\n",
    "plt.xlabel('Speed')\n",
    "plt.ylabel('Heart Rate')\n",
    "plt.show()"
   ]
  },
  {
   "cell_type": "code",
   "execution_count": 360,
   "metadata": {},
   "outputs": [],
   "source": [
    "id_ = 10921915
    "x = df[df['userId'] == id_]['speed']\n",
    "y = df[df['userId'] == id_]['heart_rate']\n",
    "z = df[df['userId'] == id_]['sport']"
   ]
  },
  {
   "cell_type": "code",
   "execution_count": 350,
   "metadata": {},
   "outputs": [
    {
     "data": {
      "image/png": "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\n",
      "text/plain": [
       "<Figure size 432x288 with 1 Axes>"
      ]
     },
     "metadata": {
      "needs_background": "light"
     },
     "output_type": "display_data"
    }
   ],
   "source": [
    "for i in range(0, 4):\n",
    "    if z[i] == 'bike':\n",
    "        plt.scatter(x[i], y[i], s=8, c='b')\n",
    "    elif z[i] == 'bike (transport)':\n",
    "        plt.scatter(x[i], y[i], s=20, c='r')\n",
    "    \n",
    "\n",
    "plt.title('Heart Rate vs Speed Scatter plot (Biking and Running)')\n",
    "plt.xlabel('Heart Rate')\n",
    "plt.ylabel('Speed')\n",
    "plt.show()"
   ]
  },
  {
   "cell_type": "code",
   "execution_count": null,
   "metadata": {},
   "outputs": [],
   "source": []
  }
 ],
 "metadata": {
  "kernelspec": {
   "display_name": "Python 3",
   "language": "python",
   "name": "python3"
  },
  "language_info": {
   "codemirror_mode": {
    "name": "ipython",
    "version": 3
   },
   "file_extension": ".py",
   "mimetype": "text/x-python",
   "name": "python",
   "nbconvert_exporter": "python",
   "pygments_lexer": "ipython3",
   "version": "3.7.4"
  }
 },
 "nbformat": 4,
 "nbformat_minor": 2
}
