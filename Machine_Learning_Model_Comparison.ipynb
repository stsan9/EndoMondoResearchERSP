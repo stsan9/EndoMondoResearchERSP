{
  "nbformat": 4,
  "nbformat_minor": 0,
  "metadata": {
    "colab": {
      "name": "Machine Learning Model Comparison",
      "provenance": [],
      "collapsed_sections": [],
      "machine_shape": "hm",
      "include_colab_link": true
    },
    "kernelspec": {
      "name": "python3",
      "display_name": "Python 3"
    }
  },
  "cells": [
    {
      "cell_type": "markdown",
      "metadata": {
        "id": "view-in-github",
        "colab_type": "text"
      },
      "source": [
        "<a href=\"https://colab.research.google.com/github/stsan9/EndoMondoResearchERSP/blob/master/Machine_Learning_Model_Comparison.ipynb\" target=\"_parent\"><img src=\"https://colab.research.google.com/assets/colab-badge.svg\" alt=\"Open In Colab\"/></a>"
      ]
    },
    {
      "cell_type": "code",
      "metadata": {
        "id": "pEdDz-WVHqV5",
        "colab_type": "code",
        "colab": {}
      },
      "source": [
        "import pandas as pd\n",
        "import numpy as np\n",
        "from matplotlib import pyplot as plt\n",
        "import math\n",
        "from random import sample \n",
        "import statistics"
      ],
      "execution_count": 0,
      "outputs": []
    },
    {
      "cell_type": "code",
      "metadata": {
        "id": "c9bSQge4HsfH",
        "colab_type": "code",
        "outputId": "b6277394-eae7-43e0-c655-2351914bd31e",
        "colab": {
          "base_uri": "https://localhost:8080/",
          "height": 122
        }
      },
      "source": [
        "# Mount the google drive file system\n",
        "from google.colab import drive\n",
        "drive.mount('/content/gdrive/')"
      ],
      "execution_count": 2,
      "outputs": [
        {
          "output_type": "stream",
          "text": [
            "Go to this URL in a browser: https://accounts.google.com/o/oauth2/auth?client_id=947318989803-6bn6qk8qdgf4n4g3pfee6491hc0brc4i.apps.googleusercontent.com&redirect_uri=urn%3aietf%3awg%3aoauth%3a2.0%3aoob&response_type=code&scope=email%20https%3a%2f%2fwww.googleapis.com%2fauth%2fdocs.test%20https%3a%2f%2fwww.googleapis.com%2fauth%2fdrive%20https%3a%2f%2fwww.googleapis.com%2fauth%2fdrive.photos.readonly%20https%3a%2f%2fwww.googleapis.com%2fauth%2fpeopleapi.readonly\n",
            "\n",
            "Enter your authorization code:\n",
            "··········\n",
            "Mounted at /content/gdrive/\n"
          ],
          "name": "stdout"
        }
      ]
    },
    {
      "cell_type": "code",
      "metadata": {
        "id": "cnjgwz02Eygl",
        "colab_type": "code",
        "outputId": "aa6ad68c-0f84-4666-fe79-2b084c20da3d",
        "colab": {
          "base_uri": "https://localhost:8080/",
          "height": 284
        }
      },
      "source": [
        "path = '/content/gdrive/My Drive/McAuley/EndoMondoSportsTable.csv'\n",
        "dataframe = pd.read_csv(path)\n",
        "dataframe.head(2)"
      ],
      "execution_count": 3,
      "outputs": [
        {
          "output_type": "execute_result",
          "data": {
            "text/html": [
              "<div>\n",
              "<style scoped>\n",
              "    .dataframe tbody tr th:only-of-type {\n",
              "        vertical-align: middle;\n",
              "    }\n",
              "\n",
              "    .dataframe tbody tr th {\n",
              "        vertical-align: top;\n",
              "    }\n",
              "\n",
              "    .dataframe thead th {\n",
              "        text-align: right;\n",
              "    }\n",
              "</style>\n",
              "<table border=\"1\" class=\"dataframe\">\n",
              "  <thead>\n",
              "    <tr style=\"text-align: right;\">\n",
              "      <th></th>\n",
              "      <th>longitude</th>\n",
              "      <th>altitude</th>\n",
              "      <th>latitude</th>\n",
              "      <th>sport</th>\n",
              "      <th>id</th>\n",
              "      <th>heart_rate</th>\n",
              "      <th>timestamp</th>\n",
              "      <th>userId</th>\n",
              "      <th>derived_distance (km)</th>\n",
              "      <th>total_time</th>\n",
              "      <th>dervided_speed (km/h)</th>\n",
              "      <th>average_altitude</th>\n",
              "      <th>average_heart_rate</th>\n",
              "      <th>time_start</th>\n",
              "      <th>gender_female</th>\n",
              "      <th>gender_male</th>\n",
              "      <th>gender_unknown</th>\n",
              "    </tr>\n",
              "  </thead>\n",
              "  <tbody>\n",
              "    <tr>\n",
              "      <th>0</th>\n",
              "      <td>[24.64977040886879, 24.65014273300767, 24.6509...</td>\n",
              "      <td>[41.6, 40.6, 40.6, 38.4, 37.0, 34.0, 34.0, 34....</td>\n",
              "      <td>[60.173348765820265, 60.173239801079035, 60.17...</td>\n",
              "      <td>1</td>\n",
              "      <td>396826535</td>\n",
              "      <td>[100, 111, 120, 119, 120, 116, 125, 128, 131, ...</td>\n",
              "      <td>[1408898746, 1408898754, 1408898765, 140889877...</td>\n",
              "      <td>10921915</td>\n",
              "      <td>52.909534</td>\n",
              "      <td>2.108056</td>\n",
              "      <td>25.098738</td>\n",
              "      <td>43.0712</td>\n",
              "      <td>152.65</td>\n",
              "      <td>1408898746</td>\n",
              "      <td>0</td>\n",
              "      <td>1</td>\n",
              "      <td>0</td>\n",
              "    </tr>\n",
              "    <tr>\n",
              "      <th>1</th>\n",
              "      <td>[24.649855233728886, 24.65015547350049, 24.650...</td>\n",
              "      <td>[38.4, 39.0, 39.0, 38.2, 36.8, 36.8, 36.8, 35....</td>\n",
              "      <td>[60.173247596248984, 60.17320962622762, 60.172...</td>\n",
              "      <td>1</td>\n",
              "      <td>392337038</td>\n",
              "      <td>[100, 105, 111, 110, 108, 115, 126, 130, 132, ...</td>\n",
              "      <td>[1408221682, 1408221687, 1408221699, 140822170...</td>\n",
              "      <td>10921915</td>\n",
              "      <td>32.382759</td>\n",
              "      <td>1.233333</td>\n",
              "      <td>26.256291</td>\n",
              "      <td>35.7248</td>\n",
              "      <td>147.71</td>\n",
              "      <td>1408221682</td>\n",
              "      <td>0</td>\n",
              "      <td>1</td>\n",
              "      <td>0</td>\n",
              "    </tr>\n",
              "  </tbody>\n",
              "</table>\n",
              "</div>"
            ],
            "text/plain": [
              "                                           longitude  ... gender_unknown\n",
              "0  [24.64977040886879, 24.65014273300767, 24.6509...  ...              0\n",
              "1  [24.649855233728886, 24.65015547350049, 24.650...  ...              0\n",
              "\n",
              "[2 rows x 17 columns]"
            ]
          },
          "metadata": {
            "tags": []
          },
          "execution_count": 3
        }
      ]
    },
    {
      "cell_type": "code",
      "metadata": {
        "id": "7zGFvk0mdH5-",
        "colab_type": "code",
        "colab": {}
      },
      "source": [
        "def time_scale(num):\n",
        "  return num/60/60"
      ],
      "execution_count": 0,
      "outputs": []
    },
    {
      "cell_type": "code",
      "metadata": {
        "id": "ieciQX1YdLuW",
        "colab_type": "code",
        "colab": {}
      },
      "source": [
        "all_users=dataframe[\"userId\"].unique()\n",
        "saved_stamps = list(dataframe['time_start'])\n",
        "times = []\n",
        "for user in all_users:\n",
        "  user_data = dataframe.loc[dataframe[\"userId\"] == user].sort_values(\"time_start\")\n",
        "  arr = np.diff(user_data[\"time_start\"])\n",
        "  arr=np.append(arr,[0])\n",
        "  user_data[\"time_start\"]=arr.tolist()\n",
        "  indexNames = dataframe[dataframe[\"userId\"] == user].index\n",
        "  dataframe.drop(indexNames,inplace=True)\n",
        "  dataframe = dataframe.append(user_data,ignore_index = True)\n",
        "\n",
        "dataframe = dataframe.rename( columns= { \"time_start\" : \"hrs_to_next\" } )\n",
        "dataframe['time_start'] = saved_stamps\n",
        "dataframe['hrs_to_next'] = dataframe['hrs_to_next'].apply(time_scale)"
      ],
      "execution_count": 0,
      "outputs": []
    },
    {
      "cell_type": "code",
      "metadata": {
        "id": "nBvgL_JIfKzg",
        "colab_type": "code",
        "outputId": "08ef5ef8-c063-4297-cbb1-4d7f643441a5",
        "colab": {
          "base_uri": "https://localhost:8080/",
          "height": 34
        }
      },
      "source": [
        "df = dataframe.copy()\n",
        "df = df[df['hrs_to_next'] != 0]\n",
        "median_gap = np.median(df['hrs_to_next'])\n",
        "print(median_gap/24)"
      ],
      "execution_count": 6,
      "outputs": [
        {
          "output_type": "stream",
          "text": [
            "1.9372280092592593\n"
          ],
          "name": "stdout"
        }
      ]
    },
    {
      "cell_type": "code",
      "metadata": {
        "id": "3VGSKjpxwVtG",
        "colab_type": "code",
        "colab": {}
      },
      "source": [
        "user_time_table = pd.DataFrame(columns=['userId', 'median_hrs_to_next', 'workout_in_median'])\n",
        "\n",
        "variable_dict = {'user_median': [], 'recent_workouts': [], 'workout_soon': [], 'recent_sport': [], 'recent_heart_rate': [], 'recent_speed': [], 'recent_distance': [],\n",
        "                 'recent_altitude': [], 'good_users': [], 'hrs_to_next1': [], 'hrs_to_next2': [], 'gender_female': [], 'gender_male': [], 'gender_unknown': []}\n",
        "\n",
        "for user in all_users:\n",
        "  user_data = dataframe.loc[dataframe[\"userId\"] == user].loc[dataframe['hrs_to_next'] != 0].sort_values(\"time_start\", ascending=False)\n",
        "  if len(user_data) < 20:\n",
        "    continue\n",
        "  else:\n",
        "    variable_dict['good_users'].append(user)\n",
        "    variable_dict['user_median'].append(np.median(user_data['hrs_to_next']))\n",
        "    workouts = user_data[user_data['time_start'] >= (user_data['time_start'].iloc[1] - median_gap*60*60)]\n",
        "    variable_dict['recent_workouts'].append(len(workouts) - 2)\n",
        "    variable_dict['recent_sport'].append(user_data['sport'].iloc[1])\n",
        "    variable_dict['workout_soon'].append(int(user_data['hrs_to_next'].iloc[1] <= median_gap))\n",
        "    variable_dict['recent_heart_rate'].append(user_data['average_heart_rate'].iloc[1])\n",
        "    variable_dict['recent_speed'].append(user_data['dervided_speed (km/h)'].iloc[1])\n",
        "    variable_dict['recent_distance'].append(user_data['derived_distance (km)'].iloc[1])\n",
        "    variable_dict['recent_altitude'].append(user_data['average_altitude'].iloc[1])\n",
        "    variable_dict['hrs_to_next1'].append(user_data['hrs_to_next'].iloc[2])\n",
        "    variable_dict['hrs_to_next2'].append(user_data['hrs_to_next'].iloc[3])\n",
        "    variable_dict['gender_female'].append(user_data['gender_female'].iloc[1])\n",
        "    variable_dict['gender_male'].append(user_data['gender_male'].iloc[1])\n",
        "    variable_dict['gender_unknown'].append(user_data['gender_unknown'].iloc[1])\n",
        "\n",
        "user_time_table = pd.DataFrame.from_dict(variable_dict)"
      ],
      "execution_count": 0,
      "outputs": []
    },
    {
      "cell_type": "code",
      "metadata": {
        "id": "KE2sC92xfZb7",
        "colab_type": "code",
        "outputId": "618bd885-c5b3-4d6c-f240-3f02d34ad5d9",
        "colab": {
          "base_uri": "https://localhost:8080/",
          "height": 439
        }
      },
      "source": [
        "user_time_table"
      ],
      "execution_count": 8,
      "outputs": [
        {
          "output_type": "execute_result",
          "data": {
            "text/html": [
              "<div>\n",
              "<style scoped>\n",
              "    .dataframe tbody tr th:only-of-type {\n",
              "        vertical-align: middle;\n",
              "    }\n",
              "\n",
              "    .dataframe tbody tr th {\n",
              "        vertical-align: top;\n",
              "    }\n",
              "\n",
              "    .dataframe thead th {\n",
              "        text-align: right;\n",
              "    }\n",
              "</style>\n",
              "<table border=\"1\" class=\"dataframe\">\n",
              "  <thead>\n",
              "    <tr style=\"text-align: right;\">\n",
              "      <th></th>\n",
              "      <th>user_median</th>\n",
              "      <th>recent_workouts</th>\n",
              "      <th>workout_soon</th>\n",
              "      <th>recent_sport</th>\n",
              "      <th>recent_heart_rate</th>\n",
              "      <th>recent_speed</th>\n",
              "      <th>recent_distance</th>\n",
              "      <th>recent_altitude</th>\n",
              "      <th>good_users</th>\n",
              "      <th>hrs_to_next1</th>\n",
              "      <th>hrs_to_next2</th>\n",
              "      <th>gender_female</th>\n",
              "      <th>gender_male</th>\n",
              "      <th>gender_unknown</th>\n",
              "    </tr>\n",
              "  </thead>\n",
              "  <tbody>\n",
              "    <tr>\n",
              "      <th>0</th>\n",
              "      <td>71.240139</td>\n",
              "      <td>0</td>\n",
              "      <td>0</td>\n",
              "      <td>1</td>\n",
              "      <td>133.150</td>\n",
              "      <td>21.559784</td>\n",
              "      <td>71.566504</td>\n",
              "      <td>25.613600</td>\n",
              "      <td>10921915</td>\n",
              "      <td>0.637222</td>\n",
              "      <td>189.626111</td>\n",
              "      <td>0</td>\n",
              "      <td>1</td>\n",
              "      <td>0</td>\n",
              "    </tr>\n",
              "    <tr>\n",
              "      <th>1</th>\n",
              "      <td>83.151667</td>\n",
              "      <td>0</td>\n",
              "      <td>0</td>\n",
              "      <td>3</td>\n",
              "      <td>158.360</td>\n",
              "      <td>15.441569</td>\n",
              "      <td>16.110704</td>\n",
              "      <td>38.309200</td>\n",
              "      <td>4969375</td>\n",
              "      <td>42.661389</td>\n",
              "      <td>1.004444</td>\n",
              "      <td>0</td>\n",
              "      <td>1</td>\n",
              "      <td>0</td>\n",
              "    </tr>\n",
              "    <tr>\n",
              "      <th>2</th>\n",
              "      <td>48.513056</td>\n",
              "      <td>0</td>\n",
              "      <td>1</td>\n",
              "      <td>1</td>\n",
              "      <td>129.540</td>\n",
              "      <td>19.769798</td>\n",
              "      <td>25.211984</td>\n",
              "      <td>18.770000</td>\n",
              "      <td>430859</td>\n",
              "      <td>25.537222</td>\n",
              "      <td>263.652222</td>\n",
              "      <td>0</td>\n",
              "      <td>1</td>\n",
              "      <td>0</td>\n",
              "    </tr>\n",
              "    <tr>\n",
              "      <th>3</th>\n",
              "      <td>170.656667</td>\n",
              "      <td>0</td>\n",
              "      <td>0</td>\n",
              "      <td>5</td>\n",
              "      <td>164.216</td>\n",
              "      <td>12.761924</td>\n",
              "      <td>11.974939</td>\n",
              "      <td>349.229566</td>\n",
              "      <td>279317</td>\n",
              "      <td>457.178056</td>\n",
              "      <td>310.076111</td>\n",
              "      <td>1</td>\n",
              "      <td>0</td>\n",
              "      <td>0</td>\n",
              "    </tr>\n",
              "    <tr>\n",
              "      <th>4</th>\n",
              "      <td>83.536250</td>\n",
              "      <td>0</td>\n",
              "      <td>0</td>\n",
              "      <td>3</td>\n",
              "      <td>155.834</td>\n",
              "      <td>11.850943</td>\n",
              "      <td>15.498399</td>\n",
              "      <td>618.792000</td>\n",
              "      <td>3905196</td>\n",
              "      <td>133.382500</td>\n",
              "      <td>124.712500</td>\n",
              "      <td>0</td>\n",
              "      <td>1</td>\n",
              "      <td>0</td>\n",
              "    </tr>\n",
              "    <tr>\n",
              "      <th>...</th>\n",
              "      <td>...</td>\n",
              "      <td>...</td>\n",
              "      <td>...</td>\n",
              "      <td>...</td>\n",
              "      <td>...</td>\n",
              "      <td>...</td>\n",
              "      <td>...</td>\n",
              "      <td>...</td>\n",
              "      <td>...</td>\n",
              "      <td>...</td>\n",
              "      <td>...</td>\n",
              "      <td>...</td>\n",
              "      <td>...</td>\n",
              "      <td>...</td>\n",
              "    </tr>\n",
              "    <tr>\n",
              "      <th>875</th>\n",
              "      <td>44.947917</td>\n",
              "      <td>0</td>\n",
              "      <td>1</td>\n",
              "      <td>3</td>\n",
              "      <td>158.080</td>\n",
              "      <td>12.843435</td>\n",
              "      <td>6.393176</td>\n",
              "      <td>63.724000</td>\n",
              "      <td>4101</td>\n",
              "      <td>49.293056</td>\n",
              "      <td>25.586389</td>\n",
              "      <td>0</td>\n",
              "      <td>1</td>\n",
              "      <td>0</td>\n",
              "    </tr>\n",
              "    <tr>\n",
              "      <th>876</th>\n",
              "      <td>73.405694</td>\n",
              "      <td>1</td>\n",
              "      <td>1</td>\n",
              "      <td>1</td>\n",
              "      <td>135.606</td>\n",
              "      <td>19.431514</td>\n",
              "      <td>80.370900</td>\n",
              "      <td>74.558118</td>\n",
              "      <td>1875839</td>\n",
              "      <td>43.576667</td>\n",
              "      <td>13.663611</td>\n",
              "      <td>0</td>\n",
              "      <td>1</td>\n",
              "      <td>0</td>\n",
              "    </tr>\n",
              "    <tr>\n",
              "      <th>877</th>\n",
              "      <td>334.048889</td>\n",
              "      <td>0</td>\n",
              "      <td>0</td>\n",
              "      <td>3</td>\n",
              "      <td>154.418</td>\n",
              "      <td>9.522620</td>\n",
              "      <td>10.268559</td>\n",
              "      <td>724.509600</td>\n",
              "      <td>3743021</td>\n",
              "      <td>70.734444</td>\n",
              "      <td>168.317500</td>\n",
              "      <td>0</td>\n",
              "      <td>1</td>\n",
              "      <td>0</td>\n",
              "    </tr>\n",
              "    <tr>\n",
              "      <th>878</th>\n",
              "      <td>50.630139</td>\n",
              "      <td>1</td>\n",
              "      <td>0</td>\n",
              "      <td>3</td>\n",
              "      <td>134.726</td>\n",
              "      <td>12.025299</td>\n",
              "      <td>14.874627</td>\n",
              "      <td>9.969200</td>\n",
              "      <td>431375</td>\n",
              "      <td>9537.523333</td>\n",
              "      <td>10120.676111</td>\n",
              "      <td>0</td>\n",
              "      <td>1</td>\n",
              "      <td>0</td>\n",
              "    </tr>\n",
              "    <tr>\n",
              "      <th>879</th>\n",
              "      <td>83.720278</td>\n",
              "      <td>1</td>\n",
              "      <td>0</td>\n",
              "      <td>1</td>\n",
              "      <td>113.518</td>\n",
              "      <td>6.193348</td>\n",
              "      <td>7.062137</td>\n",
              "      <td>14.380400</td>\n",
              "      <td>69</td>\n",
              "      <td>654.561389</td>\n",
              "      <td>786.826111</td>\n",
              "      <td>0</td>\n",
              "      <td>1</td>\n",
              "      <td>0</td>\n",
              "    </tr>\n",
              "  </tbody>\n",
              "</table>\n",
              "<p>880 rows × 14 columns</p>\n",
              "</div>"
            ],
            "text/plain": [
              "     user_median  recent_workouts  ...  gender_male  gender_unknown\n",
              "0      71.240139                0  ...            1               0\n",
              "1      83.151667                0  ...            1               0\n",
              "2      48.513056                0  ...            1               0\n",
              "3     170.656667                0  ...            0               0\n",
              "4      83.536250                0  ...            1               0\n",
              "..           ...              ...  ...          ...             ...\n",
              "875    44.947917                0  ...            1               0\n",
              "876    73.405694                1  ...            1               0\n",
              "877   334.048889                0  ...            1               0\n",
              "878    50.630139                1  ...            1               0\n",
              "879    83.720278                1  ...            1               0\n",
              "\n",
              "[880 rows x 14 columns]"
            ]
          },
          "metadata": {
            "tags": []
          },
          "execution_count": 8
        }
      ]
    },
    {
      "cell_type": "code",
      "metadata": {
        "id": "aXHNkSd5H3Xw",
        "colab_type": "code",
        "colab": {}
      },
      "source": [
        "x = user_time_table.iloc[:, [0, 1, 4, 5, 6, 7, 8, 9, 11, 12]].values\n",
        "y = user_time_table.iloc[:, 2].values"
      ],
      "execution_count": 0,
      "outputs": []
    },
    {
      "cell_type": "code",
      "metadata": {
        "id": "6KuHGEtEH9e7",
        "colab_type": "code",
        "colab": {}
      },
      "source": [
        "from sklearn.model_selection import train_test_split\n",
        "x_train, x_test, y_train, y_test = train_test_split(x, y, test_size=0.2, random_state=0)"
      ],
      "execution_count": 0,
      "outputs": []
    },
    {
      "cell_type": "code",
      "metadata": {
        "id": "j3ABY2MMIBQ0",
        "colab_type": "code",
        "colab": {}
      },
      "source": [
        "from sklearn.preprocessing import StandardScaler\n",
        "sc_x = StandardScaler()\n",
        "x_train = sc_x.fit_transform(x_train)\n",
        "x_test = sc_x.transform(x_test)"
      ],
      "execution_count": 0,
      "outputs": []
    },
    {
      "cell_type": "code",
      "metadata": {
        "id": "eTWHbH_DYR7i",
        "colab_type": "code",
        "colab": {},
        "cellView": "form"
      },
      "source": [
        "#@title SVM Model (RBF Kernel)\n"
      ],
      "execution_count": 0,
      "outputs": []
    },
    {
      "cell_type": "code",
      "metadata": {
        "id": "OToRo9YRIDe-",
        "colab_type": "code",
        "outputId": "30641af0-3bac-4d7a-9e5e-efaae64e0cf8",
        "colab": {
          "base_uri": "https://localhost:8080/",
          "height": 85
        }
      },
      "source": [
        "from sklearn.svm import SVC\n",
        "classifier = SVC(kernel = 'rbf', random_state = 0)\n",
        "classifier.fit(x_train, y_train)"
      ],
      "execution_count": 64,
      "outputs": [
        {
          "output_type": "execute_result",
          "data": {
            "text/plain": [
              "SVC(C=1.0, break_ties=False, cache_size=200, class_weight=None, coef0=0.0,\n",
              "    decision_function_shape='ovr', degree=3, gamma='scale', kernel='rbf',\n",
              "    max_iter=-1, probability=False, random_state=0, shrinking=True, tol=0.001,\n",
              "    verbose=False)"
            ]
          },
          "metadata": {
            "tags": []
          },
          "execution_count": 64
        }
      ]
    },
    {
      "cell_type": "code",
      "metadata": {
        "id": "7tISNiaJIFcx",
        "colab_type": "code",
        "colab": {}
      },
      "source": [
        "y_pred = classifier.predict(x_test)"
      ],
      "execution_count": 0,
      "outputs": []
    },
    {
      "cell_type": "code",
      "metadata": {
        "id": "NVDL0r39IIC8",
        "colab_type": "code",
        "outputId": "8e0585ac-94d7-418d-cf55-88c480aa887b",
        "colab": {
          "base_uri": "https://localhost:8080/",
          "height": 136
        }
      },
      "source": [
        "from sklearn.metrics import confusion_matrix\n",
        "cm = confusion_matrix(y_test, y_pred)\n",
        "print(cm)\n",
        "print(cm[0][0])\n",
        "print(cm[1][1])\n",
        "print(cm[0][1])\n",
        "print(cm[1][0])\n",
        "print(\"SVM Accuracy (RBF): \" + str((cm[0][0]+cm[1][1])/(cm[0][1]+cm[1][0]+cm[0][0]+cm[0][1])*100) + \"%\")"
      ],
      "execution_count": 66,
      "outputs": [
        {
          "output_type": "stream",
          "text": [
            "[[114   6]\n",
            " [ 45  11]]\n",
            "114\n",
            "11\n",
            "6\n",
            "45\n",
            "SVM Accuracy (RBF): 73.09941520467837%\n"
          ],
          "name": "stdout"
        }
      ]
    },
    {
      "cell_type": "code",
      "metadata": {
        "id": "Oucqyq2_YvBU",
        "colab_type": "code",
        "colab": {},
        "cellView": "form"
      },
      "source": [
        "#@title SVM Model (Linear Kernel)\n"
      ],
      "execution_count": 0,
      "outputs": []
    },
    {
      "cell_type": "code",
      "metadata": {
        "id": "mmX5SU4BX5MQ",
        "colab_type": "code",
        "colab": {
          "base_uri": "https://localhost:8080/",
          "height": 85
        },
        "outputId": "0391da78-a291-499a-8393-9160c287a95c"
      },
      "source": [
        "from sklearn.svm import SVC\n",
        "classifier = SVC(kernel = 'linear', random_state = 0)\n",
        "classifier.fit(x_train, y_train)"
      ],
      "execution_count": 58,
      "outputs": [
        {
          "output_type": "execute_result",
          "data": {
            "text/plain": [
              "SVC(C=1.0, break_ties=False, cache_size=200, class_weight=None, coef0=0.0,\n",
              "    decision_function_shape='ovr', degree=3, gamma='scale', kernel='linear',\n",
              "    max_iter=-1, probability=False, random_state=0, shrinking=True, tol=0.001,\n",
              "    verbose=False)"
            ]
          },
          "metadata": {
            "tags": []
          },
          "execution_count": 58
        }
      ]
    },
    {
      "cell_type": "code",
      "metadata": {
        "id": "CcbOidHUYGhb",
        "colab_type": "code",
        "colab": {}
      },
      "source": [
        "y_pred = classifier.predict(x_test)"
      ],
      "execution_count": 0,
      "outputs": []
    },
    {
      "cell_type": "code",
      "metadata": {
        "id": "K_rUMX8UYGmq",
        "colab_type": "code",
        "colab": {
          "base_uri": "https://localhost:8080/",
          "height": 136
        },
        "outputId": "015ced53-cdbf-43b9-f143-f278163704cf"
      },
      "source": [
        "from sklearn.metrics import confusion_matrix\n",
        "cm = confusion_matrix(y_test, y_pred)\n",
        "print(cm)\n",
        "print(cm[0][0])\n",
        "print(cm[1][1])\n",
        "print(cm[0][1])\n",
        "print(cm[1][0])\n",
        "print(\"SVC Accuracy (Linear): \" + str((cm[0][0]+cm[1][1])/(cm[0][1]+cm[1][0]+cm[0][0]+cm[0][1])*100) + \"%\")"
      ],
      "execution_count": 60,
      "outputs": [
        {
          "output_type": "stream",
          "text": [
            "[[118   2]\n",
            " [ 55   1]]\n",
            "118\n",
            "1\n",
            "2\n",
            "55\n",
            "SVC Accuracy (Linear): 67.2316384180791%\n"
          ],
          "name": "stdout"
        }
      ]
    },
    {
      "cell_type": "code",
      "metadata": {
        "id": "EJ0p5bmsY3ju",
        "colab_type": "code",
        "colab": {},
        "cellView": "form"
      },
      "source": [
        "#@title KNN Model\n"
      ],
      "execution_count": 0,
      "outputs": []
    },
    {
      "cell_type": "code",
      "metadata": {
        "id": "BQ9b9cMcX5XK",
        "colab_type": "code",
        "colab": {
          "base_uri": "https://localhost:8080/",
          "height": 68
        },
        "outputId": "c9cda71f-f398-4888-dfe0-5b0e1b9e061c"
      },
      "source": [
        "from sklearn.neighbors import KNeighborsClassifier\n",
        "classifier = KNeighborsClassifier(n_neighbors=5, metric='minkowski', p=2)\n",
        "classifier.fit(x_train, y_train)"
      ],
      "execution_count": 34,
      "outputs": [
        {
          "output_type": "execute_result",
          "data": {
            "text/plain": [
              "KNeighborsClassifier(algorithm='auto', leaf_size=30, metric='minkowski',\n",
              "                     metric_params=None, n_jobs=None, n_neighbors=5, p=2,\n",
              "                     weights='uniform')"
            ]
          },
          "metadata": {
            "tags": []
          },
          "execution_count": 34
        }
      ]
    },
    {
      "cell_type": "code",
      "metadata": {
        "id": "j2IMI3AZYHWe",
        "colab_type": "code",
        "colab": {}
      },
      "source": [
        "y_pred = classifier.predict(x_test)"
      ],
      "execution_count": 0,
      "outputs": []
    },
    {
      "cell_type": "code",
      "metadata": {
        "id": "PWRMGZ0vYHbg",
        "colab_type": "code",
        "colab": {
          "base_uri": "https://localhost:8080/",
          "height": 136
        },
        "outputId": "b23359ab-6f6d-4291-e128-fb9071b95efe"
      },
      "source": [
        "from sklearn.metrics import confusion_matrix\n",
        "cm = confusion_matrix(y_test, y_pred)\n",
        "print(cm)\n",
        "print(cm[0][0])\n",
        "print(cm[1][1])\n",
        "print(cm[0][1])\n",
        "print(cm[1][0])\n",
        "print(\"KNN Accuracy: \" + str((cm[0][0]+cm[1][1])/(cm[0][1]+cm[1][0]+cm[0][0]+cm[0][1])*100) + \"%\")"
      ],
      "execution_count": 36,
      "outputs": [
        {
          "output_type": "stream",
          "text": [
            "[[97 23]\n",
            " [40 16]]\n",
            "97\n",
            "16\n",
            "23\n",
            "40\n",
            "KNN Accuracy: 61.74863387978142%\n"
          ],
          "name": "stdout"
        }
      ]
    },
    {
      "cell_type": "code",
      "metadata": {
        "id": "FpGL2U7fY7vI",
        "colab_type": "code",
        "colab": {},
        "cellView": "form"
      },
      "source": [
        "#@title Logistic Regression Model\n"
      ],
      "execution_count": 0,
      "outputs": []
    },
    {
      "cell_type": "code",
      "metadata": {
        "id": "fEygBMyYX5uI",
        "colab_type": "code",
        "colab": {
          "base_uri": "https://localhost:8080/",
          "height": 102
        },
        "outputId": "508ec1a1-aea7-4621-e2c8-00be65c5296b"
      },
      "source": [
        "from sklearn.linear_model import LogisticRegression\n",
        "classifier = LogisticRegression(random_state=0)\n",
        "classifier.fit(x_train, y_train)"
      ],
      "execution_count": 37,
      "outputs": [
        {
          "output_type": "execute_result",
          "data": {
            "text/plain": [
              "LogisticRegression(C=1.0, class_weight=None, dual=False, fit_intercept=True,\n",
              "                   intercept_scaling=1, l1_ratio=None, max_iter=100,\n",
              "                   multi_class='auto', n_jobs=None, penalty='l2',\n",
              "                   random_state=0, solver='lbfgs', tol=0.0001, verbose=0,\n",
              "                   warm_start=False)"
            ]
          },
          "metadata": {
            "tags": []
          },
          "execution_count": 37
        }
      ]
    },
    {
      "cell_type": "code",
      "metadata": {
        "id": "LiPRAFowYIMu",
        "colab_type": "code",
        "colab": {}
      },
      "source": [
        "y_pred = classifier.predict(x_test)"
      ],
      "execution_count": 0,
      "outputs": []
    },
    {
      "cell_type": "code",
      "metadata": {
        "id": "maq_2mxZYIiI",
        "colab_type": "code",
        "colab": {
          "base_uri": "https://localhost:8080/",
          "height": 136
        },
        "outputId": "4e82947d-7b38-41a4-cc58-241cc4b32c2a"
      },
      "source": [
        "from sklearn.metrics import confusion_matrix\n",
        "cm = confusion_matrix(y_test, y_pred)\n",
        "print(cm)\n",
        "print(cm[0][0])\n",
        "print(cm[1][1])\n",
        "print(cm[0][1])\n",
        "print(cm[1][0])\n",
        "print(\"Logistic Regression Accuracy: \" + str((cm[0][0]+cm[1][1])/(cm[0][1]+cm[1][0]+cm[0][0]+cm[0][1])*100) + \"%\")"
      ],
      "execution_count": 39,
      "outputs": [
        {
          "output_type": "stream",
          "text": [
            "[[109  11]\n",
            " [ 43  13]]\n",
            "109\n",
            "13\n",
            "11\n",
            "43\n",
            "Logistic Regression Accuracy: 70.11494252873564%\n"
          ],
          "name": "stdout"
        }
      ]
    },
    {
      "cell_type": "code",
      "metadata": {
        "id": "vuru52xkwwxR",
        "colab_type": "code",
        "outputId": "2224b7dc-c483-4c43-9c87-b06dc62a85b9",
        "colab": {
          "base_uri": "https://localhost:8080/",
          "height": 34
        }
      },
      "source": [
        "all_users = dataframe['userId'].unique()\n",
        "score = 0\n",
        "\n",
        "for user_x in all_users:\n",
        "  workouts = dataframe.loc[dataframe[\"userId\"] == user_x].sort_values(\"time_start\", ascending=False)\n",
        "  actual = workouts['sport'].iloc[0]\n",
        "  predicted = workouts['sport'].sample()\n",
        "  if int(predicted) == int(actual):\n",
        "    score += 1\n",
        "\n",
        "print('Accuracy: ' + str((score/len(all_users)) * 100) + '%')"
      ],
      "execution_count": 40,
      "outputs": [
        {
          "output_type": "stream",
          "text": [
            "Accuracy: 75.92067988668555%\n"
          ],
          "name": "stdout"
        }
      ]
    },
    {
      "cell_type": "code",
      "metadata": {
        "id": "XOTXNCjgwzLQ",
        "colab_type": "code",
        "outputId": "6c077fe6-45c9-4f6a-adcb-26b52afd08e2",
        "colab": {
          "base_uri": "https://localhost:8080/",
          "height": 34
        }
      },
      "source": [
        "count = 0\n",
        "for i in range(len(user_time_table['workout_soon'])):\n",
        " if user_time_table['workout_soon'][i] == 1:\n",
        "   count += 1\n",
        "print('Percent of Users Who Workout in Median: ' + str((count/len(user_time_table)) * 100) + '%')"
      ],
      "execution_count": 41,
      "outputs": [
        {
          "output_type": "stream",
          "text": [
            "Percent of Users Who Workout in Median: 31.25%\n"
          ],
          "name": "stdout"
        }
      ]
    },
    {
      "cell_type": "code",
      "metadata": {
        "id": "OwYtSUL9w43H",
        "colab_type": "code",
        "outputId": "ca9a8beb-7492-42c5-d12b-b1a7be794b2f",
        "colab": {
          "base_uri": "https://localhost:8080/",
          "height": 34
        }
      },
      "source": [
        "count = 0\n",
        "for i in range(len(user_time_table['workout_soon'])):\n",
        " if user_time_table['user_median'][i] <= median_gap and user_time_table['workout_soon'][i] == 1:\n",
        "   count += 1\n",
        " if user_time_table['user_median'][i] > median_gap and user_time_table['workout_soon'][i] == 0:\n",
        "   count += 1\n",
        "print('Baseline Percent Accuracy: ' + str((count/len(user_time_table)) * 100) + '%')"
      ],
      "execution_count": 42,
      "outputs": [
        {
          "output_type": "stream",
          "text": [
            "Baseline Percent Accuracy: 69.54545454545455%\n"
          ],
          "name": "stdout"
        }
      ]
    },
    {
      "cell_type": "code",
      "metadata": {
        "id": "SmUyAV_uPJZ2",
        "colab_type": "code",
        "outputId": "a30f872c-1df3-44b8-c2da-51df62a7dcdd",
        "colab": {
          "base_uri": "https://localhost:8080/",
          "height": 34
        }
      },
      "source": [
        "count = 0\n",
        "for i in range(len(user_time_table['workout_soon'])):\n",
        " if user_time_table['hrs_to_next1'][i] <= median_gap and user_time_table['workout_soon'][i] == 1:\n",
        "   count += 1\n",
        " if user_time_table['hrs_to_next1'][i] > median_gap and user_time_table['workout_soon'][i] == 0:\n",
        "   count += 1\n",
        "print('Baseline Percent Accuracy: ' + str((count/len(user_time_table)) * 100) + '%')"
      ],
      "execution_count": 43,
      "outputs": [
        {
          "output_type": "stream",
          "text": [
            "Baseline Percent Accuracy: 66.81818181818183%\n"
          ],
          "name": "stdout"
        }
      ]
    },
    {
      "cell_type": "code",
      "metadata": {
        "id": "574H4D3GIJuz",
        "colab_type": "code",
        "outputId": "7b18766d-443c-41e6-b591-c07f5b793565",
        "colab": {
          "base_uri": "https://localhost:8080/",
          "height": 335
        }
      },
      "source": [
        "# Visualising the Training set results\n",
        "from matplotlib.colors import ListedColormap\n",
        "X_set, y_set = x_train, y_train\n",
        "X1, X2 = np.meshgrid(np.arange(start = X_set[:, 0].min() - 1, stop = X_set[:, 0].max() + 1, step = 0.01),\n",
        "                     np.arange(start = X_set[:, 1].min() - 1, stop = X_set[:, 1].max() + 1, step = 0.01))\n",
        "# plt.contourf(X1, X2, classifier.predict(np.array([X1.ravel(), X2.ravel()]).T).reshape(X1.shape),\n",
        "#              alpha = 0.75, cmap = ListedColormap(('red', 'blue')))\n",
        "plt.xlim(X1.min(), X1.max())\n",
        "plt.ylim(X2.min(), X2.max())\n",
        "for i, j in enumerate(np.unique(y_set)):\n",
        "    plt.scatter(X_set[y_set == j, 0], X_set[y_set == j, 1],\n",
        "                c = ListedColormap(('red', 'blue'))(i), label = j, s=15, edgecolors='k')\n",
        "plt.title('SVM-RBF (Training set)')\n",
        "plt.legend()\n",
        "plt.show()"
      ],
      "execution_count": 69,
      "outputs": [
        {
          "output_type": "stream",
          "text": [
            "'c' argument looks like a single numeric RGB or RGBA sequence, which should be avoided as value-mapping will have precedence in case its length matches with 'x' & 'y'.  Please use a 2-D array with a single row if you really want to specify the same RGB or RGBA value for all points.\n",
            "'c' argument looks like a single numeric RGB or RGBA sequence, which should be avoided as value-mapping will have precedence in case its length matches with 'x' & 'y'.  Please use a 2-D array with a single row if you really want to specify the same RGB or RGBA value for all points.\n"
          ],
          "name": "stderr"
        },
        {
          "output_type": "display_data",
          "data": {
            "image/png": "[encoded data removed]",
            "text/plain": [
              "<Figure size 432x288 with 1 Axes>"
            ]
          },
          "metadata": {
            "tags": []
          }
        }
      ]
    },
    {
      "cell_type": "code",
      "metadata": {
        "id": "BE6pRH42IMqN",
        "colab_type": "code",
        "outputId": "cc00d62a-0cf2-4c69-a7ac-0642a232395b",
        "colab": {
          "base_uri": "https://localhost:8080/",
          "height": 335
        }
      },
      "source": [
        "# Visualising the Test set results\n",
        "from matplotlib.colors import ListedColormap\n",
        "X_set, y_set = x_test, y_test\n",
        "X1, X2 = np.meshgrid(np.arange(start = X_set[:, 0].min() - 1, stop = X_set[:, 0].max() + 1, step = 0.01),\n",
        "                     np.arange(start = X_set[:, 1].min() - 1, stop = X_set[:, 1].max() + 1, step = 0.01))\n",
        "# plt.contourf(X1, X2, classifier.predict(np.array([X1.ravel(), X2.ravel()]).T).reshape(X1.shape),\n",
        "#              alpha = 0.75, cmap = ListedColormap(('red', 'blue')))\n",
        "plt.xlim(X1.min(), X1.max())\n",
        "plt.ylim(X2.min(), X2.max())\n",
        "for i, j in enumerate(np.unique(y_set)):\n",
        "    plt.scatter(X_set[y_set == j, 0], X_set[y_set == j, 1],\n",
        "                c = ListedColormap(('red', 'blue'))(i), label = j, s=15, edgecolors='k')\n",
        "plt.title('SVM-RBF (Test set)')\n",
        "plt.legend()\n",
        "plt.show()"
      ],
      "execution_count": 70,
      "outputs": [
        {
          "output_type": "stream",
          "text": [
            "'c' argument looks like a single numeric RGB or RGBA sequence, which should be avoided as value-mapping will have precedence in case its length matches with 'x' & 'y'.  Please use a 2-D array with a single row if you really want to specify the same RGB or RGBA value for all points.\n",
            "'c' argument looks like a single numeric RGB or RGBA sequence, which should be avoided as value-mapping will have precedence in case its length matches with 'x' & 'y'.  Please use a 2-D array with a single row if you really want to specify the same RGB or RGBA value for all points.\n"
          ],
          "name": "stderr"
        },
        {
          "output_type": "display_data",
          "data": {
            "image/png": "[encoded data removed]",
            "text/plain": [
              "<Figure size 432x288 with 1 Axes>"
            ]
          },
          "metadata": {
            "tags": []
          }
        }
      ]
    },
    {
      "cell_type": "code",
      "metadata": {
        "id": "XYWE0DUGISkh",
        "colab_type": "code",
        "colab": {}
      },
      "source": [
        ""
      ],
      "execution_count": 0,
      "outputs": []
    }
  ]
}