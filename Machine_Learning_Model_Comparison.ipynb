{
  "nbformat": 4,
  "nbformat_minor": 0,
  "metadata": {
    "colab": {
      "name": "Machine Learning Model Comparison",
      "provenance": [],
      "collapsed_sections": [
        "ZeD1dgDsFdZ9",
        "HIF02vH2ciE5"
      ],
      "machine_shape": "hm",
      "include_colab_link": true
    },
    "kernelspec": {
      "name": "python3",
      "display_name": "Python 3"
    }
  },
  "cells": [
    {
      "cell_type": "markdown",
      "metadata": {
        "id": "view-in-github",
        "colab_type": "text"
      },
      "source": [
        "<a href=\"https://colab.research.google.com/github/stsan9/EndoMondoResearchERSP/blob/master/Machine_Learning_Model_Comparison.ipynb\" target=\"_parent\"><img src=\"https://colab.research.google.com/assets/colab-badge.svg\" alt=\"Open In Colab\"/></a>"
      ]
    },
    {
      "cell_type": "code",
      "metadata": {
        "id": "pEdDz-WVHqV5",
        "colab_type": "code",
        "colab": {}
      },
      "source": [
        "# imports\n",
        "import pandas as pd\n",
        "import numpy as np\n",
        "from matplotlib import pyplot as plt\n",
        "import math\n",
        "from random import sample \n",
        "import statistics\n",
        "from datetime import datetime"
      ],
      "execution_count": 0,
      "outputs": []
    },
    {
      "cell_type": "code",
      "metadata": {
        "id": "c9bSQge4HsfH",
        "colab_type": "code",
        "outputId": "117e787c-74ca-4828-c327-06dd609ce82e",
        "colab": {
          "base_uri": "https://localhost:8080/",
          "height": 118
        }
      },
      "source": [
        "# Mount the google drive file system\n",
        "from google.colab import drive\n",
        "drive.mount('/content/gdrive/')"
      ],
      "execution_count": 0,
      "outputs": [
        {
          "output_type": "stream",
          "text": [
            "Go to this URL in a browser: https://accounts.google.com/o/oauth2/auth?client_id=947318989803-6bn6qk8qdgf4n4g3pfee6491hc0brc4i.apps.googleusercontent.com&redirect_uri=urn%3aietf%3awg%3aoauth%3a2.0%3aoob&response_type=code&scope=email%20https%3a%2f%2fwww.googleapis.com%2fauth%2fdocs.test%20https%3a%2f%2fwww.googleapis.com%2fauth%2fdrive%20https%3a%2f%2fwww.googleapis.com%2fauth%2fdrive.photos.readonly%20https%3a%2f%2fwww.googleapis.com%2fauth%2fpeopleapi.readonly\n",
            "\n",
            "Enter your authorization code:\n",
            "··········\n",
            "Mounted at /content/gdrive/\n"
          ],
          "name": "stdout"
        }
      ]
    },
    {
      "cell_type": "code",
      "metadata": {
        "id": "cnjgwz02Eygl",
        "colab_type": "code",
        "outputId": "b60770aa-8915-4e35-b215-58e9eba1ce3f",
        "colab": {
          "base_uri": "https://localhost:8080/",
          "height": 125
        }
      },
      "source": [
        "# load dataset\n",
        "path = '/content/gdrive/My Drive/McAuley/NewUserTimeTable.csv'\n",
        "user_time_table = pd.read_csv(path)\n",
        "user_time_table.head(2)"
      ],
      "execution_count": 0,
      "outputs": [
        {
          "output_type": "execute_result",
          "data": {
            "text/html": [
              "<div>\n",
              "<style scoped>\n",
              "    .dataframe tbody tr th:only-of-type {\n",
              "        vertical-align: middle;\n",
              "    }\n",
              "\n",
              "    .dataframe tbody tr th {\n",
              "        vertical-align: top;\n",
              "    }\n",
              "\n",
              "    .dataframe thead th {\n",
              "        text-align: right;\n",
              "    }\n",
              "</style>\n",
              "<table border=\"1\" class=\"dataframe\">\n",
              "  <thead>\n",
              "    <tr style=\"text-align: right;\">\n",
              "      <th></th>\n",
              "      <th>userId</th>\n",
              "      <th>user_median</th>\n",
              "      <th>num_recent_workouts</th>\n",
              "      <th>recent_sport</th>\n",
              "      <th>workout_soon</th>\n",
              "      <th>recent_heart_rate</th>\n",
              "      <th>recent_speed</th>\n",
              "      <th>recent_distance</th>\n",
              "      <th>recent_altitude</th>\n",
              "      <th>months_to_next1</th>\n",
              "      <th>gender_female</th>\n",
              "      <th>gender_male</th>\n",
              "      <th>gender_unknown</th>\n",
              "      <th>hrs_to_next1</th>\n",
              "      <th>hrs_to_next2</th>\n",
              "      <th>months_to_next2</th>\n",
              "    </tr>\n",
              "  </thead>\n",
              "  <tbody>\n",
              "    <tr>\n",
              "      <th>0</th>\n",
              "      <td>69</td>\n",
              "      <td>83.720278</td>\n",
              "      <td>1</td>\n",
              "      <td>1</td>\n",
              "      <td>0.0</td>\n",
              "      <td>113.518</td>\n",
              "      <td>6.193348</td>\n",
              "      <td>7.062137</td>\n",
              "      <td>14.3804</td>\n",
              "      <td>0.909113</td>\n",
              "      <td>0</td>\n",
              "      <td>1</td>\n",
              "      <td>0</td>\n",
              "      <td>654.561389</td>\n",
              "      <td>786.826111</td>\n",
              "      <td>1.092814</td>\n",
              "    </tr>\n",
              "    <tr>\n",
              "      <th>1</th>\n",
              "      <td>2358</td>\n",
              "      <td>29.547778</td>\n",
              "      <td>1</td>\n",
              "      <td>3</td>\n",
              "      <td>0.0</td>\n",
              "      <td>169.216</td>\n",
              "      <td>15.791680</td>\n",
              "      <td>7.601939</td>\n",
              "      <td>132.9952</td>\n",
              "      <td>0.017045</td>\n",
              "      <td>0</td>\n",
              "      <td>1</td>\n",
              "      <td>0</td>\n",
              "      <td>12.272500</td>\n",
              "      <td>204.958611</td>\n",
              "      <td>0.284665</td>\n",
              "    </tr>\n",
              "  </tbody>\n",
              "</table>\n",
              "</div>"
            ],
            "text/plain": [
              "   userId  user_median  ...  hrs_to_next2  months_to_next2\n",
              "0      69    83.720278  ...    786.826111         1.092814\n",
              "1    2358    29.547778  ...    204.958611         0.284665\n",
              "\n",
              "[2 rows x 16 columns]"
            ]
          },
          "metadata": {
            "tags": []
          },
          "execution_count": 3
        }
      ]
    },
    {
      "cell_type": "markdown",
      "metadata": {
        "id": "ZeD1dgDsFdZ9",
        "colab_type": "text"
      },
      "source": [
        "# No need to run the code below"
      ]
    },
    {
      "cell_type": "code",
      "metadata": {
        "id": "7zGFvk0mdH5-",
        "colab_type": "code",
        "colab": {}
      },
      "source": [
        "def time_scale(num):\n",
        "  return num/60/60"
      ],
      "execution_count": 0,
      "outputs": []
    },
    {
      "cell_type": "code",
      "metadata": {
        "id": "ieciQX1YdLuW",
        "colab_type": "code",
        "colab": {}
      },
      "source": [
        "all_users=dataframe[\"userId\"].unique()\n",
        "saved_stamps = list(dataframe['time_start'])\n",
        "times = []\n",
        "for user in all_users:\n",
        "  user_data = dataframe.loc[dataframe[\"userId\"] == user].sort_values(\"time_start\")\n",
        "  arr = np.diff(user_data[\"time_start\"])\n",
        "  arr=np.append(arr,[0])\n",
        "  user_data[\"time_start\"]=arr.tolist()\n",
        "  indexNames = dataframe[dataframe[\"userId\"] == user].index\n",
        "  dataframe.drop(indexNames,inplace=True)\n",
        "  dataframe = dataframe.append(user_data,ignore_index = True)\n",
        "\n",
        "dataframe = dataframe.rename( columns= { \"time_start\" : \"hrs_to_next\" } )\n",
        "dataframe['time_start'] = saved_stamps\n",
        "dataframe['hrs_to_next'] = dataframe['hrs_to_next'].apply(time_scale)"
      ],
      "execution_count": 0,
      "outputs": []
    },
    {
      "cell_type": "code",
      "metadata": {
        "id": "nBvgL_JIfKzg",
        "colab_type": "code",
        "outputId": "63a6f053-261c-4afb-b47a-97be02cdda41",
        "colab": {
          "base_uri": "https://localhost:8080/",
          "height": 34
        }
      },
      "source": [
        "df = dataframe.copy()\n",
        "df = df[df['hrs_to_next'] != 0]\n",
        "median_gap = np.median(df['hrs_to_next'])\n",
        "print(median_gap/24)"
      ],
      "execution_count": 0,
      "outputs": [
        {
          "output_type": "stream",
          "text": [
            "1.9372280092592593\n"
          ],
          "name": "stdout"
        }
      ]
    },
    {
      "cell_type": "code",
      "metadata": {
        "id": "XCoREETGGbdp",
        "colab_type": "code",
        "colab": {}
      },
      "source": [
        "#Converting hrs_to_next to month ranges\n",
        "def hrs_to_month(num):\n",
        "  return num/24/30\n",
        "dataframe[\"months_to_next\"]=dataframe[\"hrs_to_next\"].apply(hrs_to_month)"
      ],
      "execution_count": 0,
      "outputs": []
    },
    {
      "cell_type": "code",
      "metadata": {
        "id": "PvnsrA4FGeiv",
        "colab_type": "code",
        "colab": {}
      },
      "source": [
        "#Converting time_start to number of month\n",
        "def extract_month(num):\n",
        "  date=datetime.fromtimestamp(num)\n",
        "  return date.month\n",
        "dataframe[\"month\"]=dataframe[\"time_start\"].apply(extract_month)"
      ],
      "execution_count": 0,
      "outputs": []
    },
    {
      "cell_type": "code",
      "metadata": {
        "id": "3VGSKjpxwVtG",
        "colab_type": "code",
        "colab": {}
      },
      "source": [
        "user_time_table = pd.DataFrame(columns=['userId', 'median_hrs_to_next', 'workout_in_median'])\n",
        "\n",
        "variable_dict = {'user_median': [], 'recent_workouts': [], 'workout_soon': [], 'recent_sport': [], 'recent_heart_rate': [], 'recent_speed': [], 'recent_distance': [],\n",
        "                 'recent_altitude': [], 'good_users': [], 'hrs_to_next1': [], 'hrs_to_next2': [], 'gender_female': [], 'gender_male': [], 'gender_unknown': [], 'months_to_next1': [],\n",
        "                 'months_to_next2': [], 'recent_month1': [], 'recent_month2': [], 'time_int_deviation': []}\n",
        "\n",
        "for user in all_users:\n",
        "  user_data = dataframe.loc[dataframe[\"userId\"] == user].loc[dataframe['hrs_to_next'] != 0].sort_values(\"time_start\", ascending=False)\n",
        "  user_data['time_int_deviation'] = pd.DataFrame.std(user_data.hrs_to_next)   # calculate time deviation per user here\n",
        "  if len(user_data) >= 20:\n",
        "    variable_dict['good_users'].append(user)\n",
        "    variable_dict['user_median'].append(np.median(user_data['hrs_to_next']))\n",
        "    workouts = user_data[user_data['time_start'] >= (user_data['time_start'].iloc[1] - median_gap*60*60)]\n",
        "    variable_dict['recent_workouts'].append(len(workouts) - 2)\n",
        "    variable_dict['recent_sport'].append(user_data['sport'].iloc[1])\n",
        "    variable_dict['workout_soon'].append(int(user_data['hrs_to_next'].iloc[1] <= median_gap))\n",
        "    variable_dict['recent_heart_rate'].append(user_data['average_heart_rate'].iloc[1])\n",
        "    variable_dict['recent_speed'].append(user_data['dervided_speed (km/h)'].iloc[1])\n",
        "    variable_dict['recent_distance'].append(user_data['derived_distance (km)'].iloc[1])\n",
        "    variable_dict['recent_altitude'].append(user_data['average_altitude'].iloc[1])\n",
        "    variable_dict['hrs_to_next1'].append(user_data['hrs_to_next'].iloc[2])\n",
        "    variable_dict['hrs_to_next2'].append(user_data['hrs_to_next'].iloc[3])\n",
        "    variable_dict['months_to_next1'].append(user_data['months_to_next'].iloc[2])\n",
        "    variable_dict['months_to_next2'].append(user_data['months_to_next'].iloc[3])\n",
        "    variable_dict['gender_female'].append(user_data['gender_female'].iloc[1])\n",
        "    variable_dict['gender_male'].append(user_data['gender_male'].iloc[1])\n",
        "    variable_dict['gender_unknown'].append(user_data['gender_unknown'].iloc[1])\n",
        "    variable_dict['recent_month1'].append(user_data['month'].iloc[2])\n",
        "    variable_dict['recent_month2'].append(user_data['month'].iloc[3])\n",
        "    variable_dict['time_int_deviation'].append(user_data['time_int_deviation'].iloc[1])\n",
        "\n",
        "user_time_table = pd.DataFrame.from_dict(variable_dict)"
      ],
      "execution_count": 0,
      "outputs": []
    },
    {
      "cell_type": "code",
      "metadata": {
        "id": "Yqj9woppeENv",
        "colab_type": "code",
        "colab": {}
      },
      "source": [
        "user_time_table.to_csv(r'/content/gdrive/My Drive/McAuley/UserTimeTable.csv', index = False)"
      ],
      "execution_count": 0,
      "outputs": []
    },
    {
      "cell_type": "markdown",
      "metadata": {
        "id": "mtquyYVGYTH_",
        "colab_type": "text"
      },
      "source": [
        "# Table\n"
      ]
    },
    {
      "cell_type": "code",
      "metadata": {
        "id": "b4jj_SgYXEJD",
        "colab_type": "code",
        "outputId": "a8843889-e4f8-43a5-84da-a329c275e879",
        "colab": {
          "base_uri": "https://localhost:8080/",
          "height": 411
        }
      },
      "source": [
        "# DataFrame table\n",
        "user_time_table"
      ],
      "execution_count": 0,
      "outputs": [
        {
          "output_type": "execute_result",
          "data": {
            "text/html": [
              "<div>\n",
              "<style scoped>\n",
              "    .dataframe tbody tr th:only-of-type {\n",
              "        vertical-align: middle;\n",
              "    }\n",
              "\n",
              "    .dataframe tbody tr th {\n",
              "        vertical-align: top;\n",
              "    }\n",
              "\n",
              "    .dataframe thead th {\n",
              "        text-align: right;\n",
              "    }\n",
              "</style>\n",
              "<table border=\"1\" class=\"dataframe\">\n",
              "  <thead>\n",
              "    <tr style=\"text-align: right;\">\n",
              "      <th></th>\n",
              "      <th>userId</th>\n",
              "      <th>user_median</th>\n",
              "      <th>num_recent_workouts</th>\n",
              "      <th>recent_sport</th>\n",
              "      <th>workout_soon</th>\n",
              "      <th>recent_heart_rate</th>\n",
              "      <th>recent_speed</th>\n",
              "      <th>recent_distance</th>\n",
              "      <th>recent_altitude</th>\n",
              "      <th>months_to_next1</th>\n",
              "      <th>gender_female</th>\n",
              "      <th>gender_male</th>\n",
              "      <th>gender_unknown</th>\n",
              "      <th>hrs_to_next1</th>\n",
              "      <th>hrs_to_next2</th>\n",
              "      <th>months_to_next2</th>\n",
              "    </tr>\n",
              "  </thead>\n",
              "  <tbody>\n",
              "    <tr>\n",
              "      <th>0</th>\n",
              "      <td>69</td>\n",
              "      <td>83.720278</td>\n",
              "      <td>1</td>\n",
              "      <td>1</td>\n",
              "      <td>0.0</td>\n",
              "      <td>113.518</td>\n",
              "      <td>6.193348</td>\n",
              "      <td>7.062137</td>\n",
              "      <td>14.3804</td>\n",
              "      <td>0.909113</td>\n",
              "      <td>0</td>\n",
              "      <td>1</td>\n",
              "      <td>0</td>\n",
              "      <td>654.561389</td>\n",
              "      <td>786.826111</td>\n",
              "      <td>1.092814</td>\n",
              "    </tr>\n",
              "    <tr>\n",
              "      <th>1</th>\n",
              "      <td>2358</td>\n",
              "      <td>29.547778</td>\n",
              "      <td>1</td>\n",
              "      <td>3</td>\n",
              "      <td>0.0</td>\n",
              "      <td>169.216</td>\n",
              "      <td>15.791680</td>\n",
              "      <td>7.601939</td>\n",
              "      <td>132.9952</td>\n",
              "      <td>0.017045</td>\n",
              "      <td>0</td>\n",
              "      <td>1</td>\n",
              "      <td>0</td>\n",
              "      <td>12.272500</td>\n",
              "      <td>204.958611</td>\n",
              "      <td>0.284665</td>\n",
              "    </tr>\n",
              "    <tr>\n",
              "      <th>2</th>\n",
              "      <td>3808</td>\n",
              "      <td>92.468333</td>\n",
              "      <td>0</td>\n",
              "      <td>1</td>\n",
              "      <td>0.0</td>\n",
              "      <td>139.416</td>\n",
              "      <td>23.996349</td>\n",
              "      <td>49.585790</td>\n",
              "      <td>11.6404</td>\n",
              "      <td>0.584983</td>\n",
              "      <td>0</td>\n",
              "      <td>1</td>\n",
              "      <td>0</td>\n",
              "      <td>421.187778</td>\n",
              "      <td>23.906667</td>\n",
              "      <td>0.033204</td>\n",
              "    </tr>\n",
              "    <tr>\n",
              "      <th>3</th>\n",
              "      <td>4101</td>\n",
              "      <td>44.947917</td>\n",
              "      <td>0</td>\n",
              "      <td>3</td>\n",
              "      <td>1.0</td>\n",
              "      <td>158.080</td>\n",
              "      <td>12.843435</td>\n",
              "      <td>6.393176</td>\n",
              "      <td>63.7240</td>\n",
              "      <td>0.068463</td>\n",
              "      <td>0</td>\n",
              "      <td>1</td>\n",
              "      <td>0</td>\n",
              "      <td>49.293056</td>\n",
              "      <td>25.586389</td>\n",
              "      <td>0.035537</td>\n",
              "    </tr>\n",
              "    <tr>\n",
              "      <th>4</th>\n",
              "      <td>4434</td>\n",
              "      <td>12.255000</td>\n",
              "      <td>1</td>\n",
              "      <td>2</td>\n",
              "      <td>1.0</td>\n",
              "      <td>129.446</td>\n",
              "      <td>27.704460</td>\n",
              "      <td>25.895974</td>\n",
              "      <td>12.0428</td>\n",
              "      <td>0.086622</td>\n",
              "      <td>0</td>\n",
              "      <td>1</td>\n",
              "      <td>0</td>\n",
              "      <td>62.367500</td>\n",
              "      <td>10.373611</td>\n",
              "      <td>0.014408</td>\n",
              "    </tr>\n",
              "    <tr>\n",
              "      <th>...</th>\n",
              "      <td>...</td>\n",
              "      <td>...</td>\n",
              "      <td>...</td>\n",
              "      <td>...</td>\n",
              "      <td>...</td>\n",
              "      <td>...</td>\n",
              "      <td>...</td>\n",
              "      <td>...</td>\n",
              "      <td>...</td>\n",
              "      <td>...</td>\n",
              "      <td>...</td>\n",
              "      <td>...</td>\n",
              "      <td>...</td>\n",
              "      <td>...</td>\n",
              "      <td>...</td>\n",
              "      <td>...</td>\n",
              "    </tr>\n",
              "    <tr>\n",
              "      <th>868</th>\n",
              "      <td>14544270</td>\n",
              "      <td>34.933333</td>\n",
              "      <td>0</td>\n",
              "      <td>3</td>\n",
              "      <td>0.0</td>\n",
              "      <td>178.098</td>\n",
              "      <td>12.300091</td>\n",
              "      <td>10.010908</td>\n",
              "      <td>111.1168</td>\n",
              "      <td>2.213419</td>\n",
              "      <td>0</td>\n",
              "      <td>1</td>\n",
              "      <td>0</td>\n",
              "      <td>1593.661944</td>\n",
              "      <td>321.138889</td>\n",
              "      <td>0.446026</td>\n",
              "    </tr>\n",
              "    <tr>\n",
              "      <th>869</th>\n",
              "      <td>14671923</td>\n",
              "      <td>76.025139</td>\n",
              "      <td>0</td>\n",
              "      <td>3</td>\n",
              "      <td>0.0</td>\n",
              "      <td>164.736</td>\n",
              "      <td>8.703396</td>\n",
              "      <td>7.231071</td>\n",
              "      <td>16.5840</td>\n",
              "      <td>0.233212</td>\n",
              "      <td>0</td>\n",
              "      <td>1</td>\n",
              "      <td>0</td>\n",
              "      <td>167.912778</td>\n",
              "      <td>169.050000</td>\n",
              "      <td>0.234792</td>\n",
              "    </tr>\n",
              "    <tr>\n",
              "      <th>870</th>\n",
              "      <td>14779650</td>\n",
              "      <td>88.589722</td>\n",
              "      <td>0</td>\n",
              "      <td>3</td>\n",
              "      <td>0.0</td>\n",
              "      <td>176.236</td>\n",
              "      <td>10.573623</td>\n",
              "      <td>6.285431</td>\n",
              "      <td>26.7112</td>\n",
              "      <td>0.088035</td>\n",
              "      <td>0</td>\n",
              "      <td>1</td>\n",
              "      <td>0</td>\n",
              "      <td>63.385556</td>\n",
              "      <td>26.188056</td>\n",
              "      <td>0.036372</td>\n",
              "    </tr>\n",
              "    <tr>\n",
              "      <th>871</th>\n",
              "      <td>15279967</td>\n",
              "      <td>65.406944</td>\n",
              "      <td>0</td>\n",
              "      <td>3</td>\n",
              "      <td>0.0</td>\n",
              "      <td>148.248</td>\n",
              "      <td>9.275948</td>\n",
              "      <td>9.987104</td>\n",
              "      <td>54.9224</td>\n",
              "      <td>0.076142</td>\n",
              "      <td>0</td>\n",
              "      <td>1</td>\n",
              "      <td>0</td>\n",
              "      <td>54.822222</td>\n",
              "      <td>65.405278</td>\n",
              "      <td>0.090841</td>\n",
              "    </tr>\n",
              "    <tr>\n",
              "      <th>872</th>\n",
              "      <td>15481421</td>\n",
              "      <td>95.883056</td>\n",
              "      <td>0</td>\n",
              "      <td>3</td>\n",
              "      <td>1.0</td>\n",
              "      <td>151.376</td>\n",
              "      <td>10.023986</td>\n",
              "      <td>2.714829</td>\n",
              "      <td>695.3440</td>\n",
              "      <td>0.128424</td>\n",
              "      <td>0</td>\n",
              "      <td>1</td>\n",
              "      <td>0</td>\n",
              "      <td>92.465000</td>\n",
              "      <td>121.203056</td>\n",
              "      <td>0.168338</td>\n",
              "    </tr>\n",
              "  </tbody>\n",
              "</table>\n",
              "<p>873 rows × 16 columns</p>\n",
              "</div>"
            ],
            "text/plain": [
              "       userId  user_median  ...  hrs_to_next2  months_to_next2\n",
              "0          69    83.720278  ...    786.826111         1.092814\n",
              "1        2358    29.547778  ...    204.958611         0.284665\n",
              "2        3808    92.468333  ...     23.906667         0.033204\n",
              "3        4101    44.947917  ...     25.586389         0.035537\n",
              "4        4434    12.255000  ...     10.373611         0.014408\n",
              "..        ...          ...  ...           ...              ...\n",
              "868  14544270    34.933333  ...    321.138889         0.446026\n",
              "869  14671923    76.025139  ...    169.050000         0.234792\n",
              "870  14779650    88.589722  ...     26.188056         0.036372\n",
              "871  15279967    65.406944  ...     65.405278         0.090841\n",
              "872  15481421    95.883056  ...    121.203056         0.168338\n",
              "\n",
              "[873 rows x 16 columns]"
            ]
          },
          "metadata": {
            "tags": []
          },
          "execution_count": 4
        }
      ]
    },
    {
      "cell_type": "code",
      "metadata": {
        "id": "KE2sC92xfZb7",
        "colab_type": "code",
        "outputId": "1b3ebff4-ed32-4638-b4d8-fd5c218b73aa",
        "colab": {
          "base_uri": "https://localhost:8080/",
          "height": 507
        }
      },
      "source": [
        "# Indices for features\n",
        "pd.DataFrame({'features': user_time_table.columns})"
      ],
      "execution_count": 0,
      "outputs": [
        {
          "output_type": "execute_result",
          "data": {
            "text/html": [
              "<div>\n",
              "<style scoped>\n",
              "    .dataframe tbody tr th:only-of-type {\n",
              "        vertical-align: middle;\n",
              "    }\n",
              "\n",
              "    .dataframe tbody tr th {\n",
              "        vertical-align: top;\n",
              "    }\n",
              "\n",
              "    .dataframe thead th {\n",
              "        text-align: right;\n",
              "    }\n",
              "</style>\n",
              "<table border=\"1\" class=\"dataframe\">\n",
              "  <thead>\n",
              "    <tr style=\"text-align: right;\">\n",
              "      <th></th>\n",
              "      <th>features</th>\n",
              "    </tr>\n",
              "  </thead>\n",
              "  <tbody>\n",
              "    <tr>\n",
              "      <th>0</th>\n",
              "      <td>userId</td>\n",
              "    </tr>\n",
              "    <tr>\n",
              "      <th>1</th>\n",
              "      <td>user_median</td>\n",
              "    </tr>\n",
              "    <tr>\n",
              "      <th>2</th>\n",
              "      <td>num_recent_workouts</td>\n",
              "    </tr>\n",
              "    <tr>\n",
              "      <th>3</th>\n",
              "      <td>recent_sport</td>\n",
              "    </tr>\n",
              "    <tr>\n",
              "      <th>4</th>\n",
              "      <td>workout_soon</td>\n",
              "    </tr>\n",
              "    <tr>\n",
              "      <th>5</th>\n",
              "      <td>recent_heart_rate</td>\n",
              "    </tr>\n",
              "    <tr>\n",
              "      <th>6</th>\n",
              "      <td>recent_speed</td>\n",
              "    </tr>\n",
              "    <tr>\n",
              "      <th>7</th>\n",
              "      <td>recent_distance</td>\n",
              "    </tr>\n",
              "    <tr>\n",
              "      <th>8</th>\n",
              "      <td>recent_altitude</td>\n",
              "    </tr>\n",
              "    <tr>\n",
              "      <th>9</th>\n",
              "      <td>months_to_next1</td>\n",
              "    </tr>\n",
              "    <tr>\n",
              "      <th>10</th>\n",
              "      <td>gender_female</td>\n",
              "    </tr>\n",
              "    <tr>\n",
              "      <th>11</th>\n",
              "      <td>gender_male</td>\n",
              "    </tr>\n",
              "    <tr>\n",
              "      <th>12</th>\n",
              "      <td>gender_unknown</td>\n",
              "    </tr>\n",
              "    <tr>\n",
              "      <th>13</th>\n",
              "      <td>hrs_to_next1</td>\n",
              "    </tr>\n",
              "    <tr>\n",
              "      <th>14</th>\n",
              "      <td>hrs_to_next2</td>\n",
              "    </tr>\n",
              "    <tr>\n",
              "      <th>15</th>\n",
              "      <td>months_to_next2</td>\n",
              "    </tr>\n",
              "  </tbody>\n",
              "</table>\n",
              "</div>"
            ],
            "text/plain": [
              "               features\n",
              "0                userId\n",
              "1           user_median\n",
              "2   num_recent_workouts\n",
              "3          recent_sport\n",
              "4          workout_soon\n",
              "5     recent_heart_rate\n",
              "6          recent_speed\n",
              "7       recent_distance\n",
              "8       recent_altitude\n",
              "9       months_to_next1\n",
              "10        gender_female\n",
              "11          gender_male\n",
              "12       gender_unknown\n",
              "13         hrs_to_next1\n",
              "14         hrs_to_next2\n",
              "15      months_to_next2"
            ]
          },
          "metadata": {
            "tags": []
          },
          "execution_count": 5
        }
      ]
    },
    {
      "cell_type": "markdown",
      "metadata": {
        "id": "byLfjOM3Fzuz",
        "colab_type": "text"
      },
      "source": [
        "# Metrics"
      ]
    },
    {
      "cell_type": "code",
      "metadata": {
        "id": "aXHNkSd5H3Xw",
        "colab_type": "code",
        "colab": {}
      },
      "source": [
        "# Feature Selection\n",
        "\n",
        "# Best results: 0, 5, 6, 8, 10, 12, 14\n",
        "# All the features: 0, 1, 2, 3, 4, 5, 6, 7, 8, 9, 10, 11, 12, 13, 14, 15, 16, 17, 18\n",
        "\n",
        "features = [0, 1, 6, 7, 13] # 11, 8\n",
        "\n",
        "x = user_time_table.iloc[:, features].values\n",
        "y = user_time_table.iloc[:, 4].values"
      ],
      "execution_count": 0,
      "outputs": []
    },
    {
      "cell_type": "code",
      "metadata": {
        "id": "6KuHGEtEH9e7",
        "colab_type": "code",
        "colab": {}
      },
      "source": [
        "# Split data into training and testing (80, 20)\n",
        "\n",
        "from sklearn.model_selection import train_test_split\n",
        "x_train, x_test, y_train, y_test = train_test_split(x, y, test_size=0.2, random_state=0)"
      ],
      "execution_count": 0,
      "outputs": []
    },
    {
      "cell_type": "code",
      "metadata": {
        "id": "j3ABY2MMIBQ0",
        "colab_type": "code",
        "colab": {}
      },
      "source": [
        "# Standardize data\n",
        "\n",
        "from sklearn.preprocessing import StandardScaler\n",
        "sc_x = StandardScaler()\n",
        "x_train = sc_x.fit_transform(x_train)\n",
        "x_test = sc_x.transform(x_test)"
      ],
      "execution_count": 0,
      "outputs": []
    },
    {
      "cell_type": "markdown",
      "metadata": {
        "id": "xuhNK3HqP7hN",
        "colab_type": "text"
      },
      "source": [
        "# SVM (RBF) Model\n",
        "#### Accuracy: 79.4%"
      ]
    },
    {
      "cell_type": "code",
      "metadata": {
        "id": "OToRo9YRIDe-",
        "colab_type": "code",
        "outputId": "b21b4c49-905b-4678-ec45-63b8e1e7cc09",
        "colab": {
          "base_uri": "https://localhost:8080/",
          "height": 82
        }
      },
      "source": [
        "# Fit SVM Model\n",
        "# Features: 0, 1, 6, 7, 13 -> 75.4% Accuracy\n",
        "\n",
        "from sklearn.svm import SVC\n",
        "classifier = SVC(kernel = 'rbf', random_state = 0, C=1.6) # The best key value was found to be 1.6\n",
        "classifier.fit(x_train, y_train)"
      ],
      "execution_count": 0,
      "outputs": [
        {
          "output_type": "execute_result",
          "data": {
            "text/plain": [
              "SVC(C=1.6, break_ties=False, cache_size=200, class_weight=None, coef0=0.0,\n",
              "    decision_function_shape='ovr', degree=3, gamma='scale', kernel='rbf',\n",
              "    max_iter=-1, probability=False, random_state=0, shrinking=True, tol=0.001,\n",
              "    verbose=False)"
            ]
          },
          "metadata": {
            "tags": []
          },
          "execution_count": 29
        }
      ]
    },
    {
      "cell_type": "code",
      "metadata": {
        "id": "7tISNiaJIFcx",
        "colab_type": "code",
        "colab": {}
      },
      "source": [
        "# Predictions\n",
        "\n",
        "y_pred = classifier.predict(x_test)"
      ],
      "execution_count": 0,
      "outputs": []
    },
    {
      "cell_type": "code",
      "metadata": {
        "id": "NVDL0r39IIC8",
        "colab_type": "code",
        "outputId": "fcb2ce23-9b5d-4b0e-91d0-e47faa1ada4d",
        "colab": {
          "base_uri": "https://localhost:8080/",
          "height": 33
        }
      },
      "source": [
        "# SVM (RBF) Model Accuracy\n",
        "\n",
        "from sklearn.metrics import confusion_matrix\n",
        "print(\"SVM (RBF) Accuracy: \" + str((y_test == y_pred).sum() / (len(x_test)) * 100) + \"%\")"
      ],
      "execution_count": 0,
      "outputs": [
        {
          "output_type": "stream",
          "text": [
            "SVM (RBF) Accuracy: 73.71428571428571%\n"
          ],
          "name": "stdout"
        }
      ]
    },
    {
      "cell_type": "markdown",
      "metadata": {
        "id": "Jwf2_qR_e98r",
        "colab_type": "text"
      },
      "source": [
        "# Linear SVM Model\n",
        "#### Accuracy: 81.1 %"
      ]
    },
    {
      "cell_type": "code",
      "metadata": {
        "id": "mmX5SU4BX5MQ",
        "colab_type": "code",
        "outputId": "1fffd4ff-1f8e-4e8a-bf1d-b47a5d9c7ffb",
        "colab": {
          "base_uri": "https://localhost:8080/",
          "height": 82
        }
      },
      "source": [
        "# Fit SVM Model\n",
        "\n",
        "from sklearn.svm import SVC\n",
        "classifier = SVC(kernel = 'linear', random_state = 0)\n",
        "classifier.fit(x_train, y_train)"
      ],
      "execution_count": 0,
      "outputs": [
        {
          "output_type": "execute_result",
          "data": {
            "text/plain": [
              "SVC(C=1.0, break_ties=False, cache_size=200, class_weight=None, coef0=0.0,\n",
              "    decision_function_shape='ovr', degree=3, gamma='scale', kernel='linear',\n",
              "    max_iter=-1, probability=False, random_state=0, shrinking=True, tol=0.001,\n",
              "    verbose=False)"
            ]
          },
          "metadata": {
            "tags": []
          },
          "execution_count": 32
        }
      ]
    },
    {
      "cell_type": "code",
      "metadata": {
        "id": "CcbOidHUYGhb",
        "colab_type": "code",
        "colab": {}
      },
      "source": [
        "# Predictions\n",
        "\n",
        "y_pred = classifier.predict(x_test)"
      ],
      "execution_count": 0,
      "outputs": []
    },
    {
      "cell_type": "code",
      "metadata": {
        "id": "K_rUMX8UYGmq",
        "colab_type": "code",
        "outputId": "ae1072b9-cb02-41dc-b7b5-28bca6e7b8ba",
        "colab": {
          "base_uri": "https://localhost:8080/",
          "height": 33
        }
      },
      "source": [
        "# SVM (Linear Kernel) Model Accuracy\n",
        "\n",
        "from sklearn.metrics import confusion_matrix\n",
        "print(\"SVM (Linear Kernel) Accuracy: \" + str((y_test == y_pred).sum() / (len(x_test)) * 100) + \"%\")"
      ],
      "execution_count": 0,
      "outputs": [
        {
          "output_type": "stream",
          "text": [
            "SVM (Linear Kernel) Accuracy: 71.42857142857143%\n"
          ],
          "name": "stdout"
        }
      ]
    },
    {
      "cell_type": "markdown",
      "metadata": {
        "id": "sgc2MD1pewJt",
        "colab_type": "text"
      },
      "source": [
        "# KNN Model\n",
        "#### Accuracy: 77.7%"
      ]
    },
    {
      "cell_type": "code",
      "metadata": {
        "id": "BQ9b9cMcX5XK",
        "colab_type": "code",
        "outputId": "f03621a3-1b75-4b45-9a16-cc335ee34f3d",
        "colab": {
          "base_uri": "https://localhost:8080/",
          "height": 66
        }
      },
      "source": [
        "# Fit KNN Model\n",
        "\n",
        "from sklearn.neighbors import KNeighborsClassifier\n",
        "classifier = KNeighborsClassifier(n_neighbors=5, metric='minkowski', p=2)\n",
        "classifier.fit(x_train, y_train)"
      ],
      "execution_count": 0,
      "outputs": [
        {
          "output_type": "execute_result",
          "data": {
            "text/plain": [
              "KNeighborsClassifier(algorithm='auto', leaf_size=30, metric='minkowski',\n",
              "                     metric_params=None, n_jobs=None, n_neighbors=5, p=2,\n",
              "                     weights='uniform')"
            ]
          },
          "metadata": {
            "tags": []
          },
          "execution_count": 35
        }
      ]
    },
    {
      "cell_type": "code",
      "metadata": {
        "id": "j2IMI3AZYHWe",
        "colab_type": "code",
        "colab": {}
      },
      "source": [
        "# Predicitions\n",
        "\n",
        "y_pred = classifier.predict(x_test)"
      ],
      "execution_count": 0,
      "outputs": []
    },
    {
      "cell_type": "code",
      "metadata": {
        "id": "PWRMGZ0vYHbg",
        "colab_type": "code",
        "outputId": "00064c6a-1300-492f-fccd-2885e9fb58b3",
        "colab": {
          "base_uri": "https://localhost:8080/",
          "height": 33
        }
      },
      "source": [
        "# KNN Model Accuracy\n",
        "\n",
        "from sklearn.metrics import confusion_matrix\n",
        "print(\"KNN Accuracy: \" + str((y_test == y_pred).sum() / (len(x_test)) * 100) + \"%\")"
      ],
      "execution_count": 0,
      "outputs": [
        {
          "output_type": "stream",
          "text": [
            "KNN Accuracy: 70.28571428571428%\n"
          ],
          "name": "stdout"
        }
      ]
    },
    {
      "cell_type": "markdown",
      "metadata": {
        "id": "tIy5ijHJPKo4",
        "colab_type": "text"
      },
      "source": [
        "# Logistic Regression\n",
        "#### Accuracy: 80.0%"
      ]
    },
    {
      "cell_type": "code",
      "metadata": {
        "id": "FpGL2U7fY7vI",
        "colab_type": "code",
        "cellView": "form",
        "colab": {}
      },
      "source": [
        "#@title Logistic Regression Model\n"
      ],
      "execution_count": 0,
      "outputs": []
    },
    {
      "cell_type": "code",
      "metadata": {
        "id": "fEygBMyYX5uI",
        "colab_type": "code",
        "outputId": "41235fe0-a8ab-43e9-d25c-aae358f5a999",
        "colab": {
          "base_uri": "https://localhost:8080/",
          "height": 98
        }
      },
      "source": [
        "# Fit Linear Regression model \n",
        "# Features: 0, 1, 6, 7, 8, 11, 13 -> 74.3?\n",
        "\n",
        "\n",
        "from sklearn.linear_model import LogisticRegression\n",
        "classifier = LogisticRegression(random_state=0)\n",
        "classifier.fit(x_train, y_train)"
      ],
      "execution_count": 0,
      "outputs": [
        {
          "output_type": "execute_result",
          "data": {
            "text/plain": [
              "LogisticRegression(C=1.0, class_weight=None, dual=False, fit_intercept=True,\n",
              "                   intercept_scaling=1, l1_ratio=None, max_iter=100,\n",
              "                   multi_class='auto', n_jobs=None, penalty='l2',\n",
              "                   random_state=0, solver='lbfgs', tol=0.0001, verbose=0,\n",
              "                   warm_start=False)"
            ]
          },
          "metadata": {
            "tags": []
          },
          "execution_count": 38
        }
      ]
    },
    {
      "cell_type": "code",
      "metadata": {
        "id": "evdrGQoAjUeD",
        "colab_type": "code",
        "outputId": "b9b9bdaf-901e-41d7-b4fc-dda59c980e6a",
        "colab": {
          "base_uri": "https://localhost:8080/",
          "height": 248
        }
      },
      "source": [
        "# Correlation coefficient for selected features\n",
        "\n",
        "coef_data = {'index': features, 'coef' : classifier.coef_.tolist()[0]}\n",
        "coef_df = pd.DataFrame(coef_data)\n",
        "coef_df['coef'] = coef_df['coef']**2 # get rid of negatives\n",
        "coef_df.sort_values(by=['coef'])"
      ],
      "execution_count": 0,
      "outputs": [
        {
          "output_type": "execute_result",
          "data": {
            "text/html": [
              "<div>\n",
              "<style scoped>\n",
              "    .dataframe tbody tr th:only-of-type {\n",
              "        vertical-align: middle;\n",
              "    }\n",
              "\n",
              "    .dataframe tbody tr th {\n",
              "        vertical-align: top;\n",
              "    }\n",
              "\n",
              "    .dataframe thead th {\n",
              "        text-align: right;\n",
              "    }\n",
              "</style>\n",
              "<table border=\"1\" class=\"dataframe\">\n",
              "  <thead>\n",
              "    <tr style=\"text-align: right;\">\n",
              "      <th></th>\n",
              "      <th>index</th>\n",
              "      <th>coef</th>\n",
              "    </tr>\n",
              "  </thead>\n",
              "  <tbody>\n",
              "    <tr>\n",
              "      <th>4</th>\n",
              "      <td>8</td>\n",
              "      <td>0.001043</td>\n",
              "    </tr>\n",
              "    <tr>\n",
              "      <th>5</th>\n",
              "      <td>11</td>\n",
              "      <td>0.023173</td>\n",
              "    </tr>\n",
              "    <tr>\n",
              "      <th>3</th>\n",
              "      <td>7</td>\n",
              "      <td>0.051392</td>\n",
              "    </tr>\n",
              "    <tr>\n",
              "      <th>2</th>\n",
              "      <td>6</td>\n",
              "      <td>0.058504</td>\n",
              "    </tr>\n",
              "    <tr>\n",
              "      <th>0</th>\n",
              "      <td>0</td>\n",
              "      <td>0.088809</td>\n",
              "    </tr>\n",
              "    <tr>\n",
              "      <th>6</th>\n",
              "      <td>13</td>\n",
              "      <td>0.141633</td>\n",
              "    </tr>\n",
              "    <tr>\n",
              "      <th>1</th>\n",
              "      <td>1</td>\n",
              "      <td>0.328947</td>\n",
              "    </tr>\n",
              "  </tbody>\n",
              "</table>\n",
              "</div>"
            ],
            "text/plain": [
              "   index      coef\n",
              "4      8  0.001043\n",
              "5     11  0.023173\n",
              "3      7  0.051392\n",
              "2      6  0.058504\n",
              "0      0  0.088809\n",
              "6     13  0.141633\n",
              "1      1  0.328947"
            ]
          },
          "metadata": {
            "tags": []
          },
          "execution_count": 39
        }
      ]
    },
    {
      "cell_type": "code",
      "metadata": {
        "id": "LiPRAFowYIMu",
        "colab_type": "code",
        "colab": {}
      },
      "source": [
        "# Predictions\n",
        "\n",
        "y_pred = classifier.predict(x_test)"
      ],
      "execution_count": 0,
      "outputs": []
    },
    {
      "cell_type": "code",
      "metadata": {
        "id": "maq_2mxZYIiI",
        "colab_type": "code",
        "outputId": "4c4dc6fc-41ac-4a56-fee7-38db6bfd9b98",
        "colab": {
          "base_uri": "https://localhost:8080/",
          "height": 34
        }
      },
      "source": [
        "# Logistic Regression Model Accuracy\n",
        "\n",
        "print(\"Logistic Regression Accuracy: \" + str((y_test == y_pred).sum() / (len(x_test)) * 100) + \"%\")"
      ],
      "execution_count": 0,
      "outputs": [
        {
          "output_type": "stream",
          "text": [
            "Logistic Regression Accuracy: 73.71428571428571%\n"
          ],
          "name": "stdout"
        }
      ]
    },
    {
      "cell_type": "markdown",
      "metadata": {
        "id": "HIF02vH2ciE5",
        "colab_type": "text"
      },
      "source": [
        "# Baseline Models\n",
        "#### Accuracy1 (check if each user has a median time gap <= the median time gap of all users) ---> 68.6%\n",
        "\n",
        "\n",
        "#### Accuracy2 (see if the second to last workout was in the median time gap) ---> 67.9%"
      ]
    },
    {
      "cell_type": "code",
      "metadata": {
        "id": "OwYtSUL9w43H",
        "colab_type": "code",
        "outputId": "e9634231-2948-419b-f628-a76f27aa7aef",
        "colab": {
          "base_uri": "https://localhost:8080/",
          "height": 34
        }
      },
      "source": [
        "#Our Check: check if each user has a median time gap <= the median time gap of all users\n",
        "\n",
        "median_gap = 1.9372280092592593\n",
        "\n",
        "\n",
        "count = 0\n",
        "for i in range(len(user_time_table['workout_soon'])):\n",
        " if user_time_table['user_median'][i] <= median_gap and user_time_table['workout_soon'][i] == 1:\n",
        "   count += 1\n",
        " if user_time_table['user_median'][i] > median_gap and user_time_table['workout_soon'][i] == 0:\n",
        "   count += 1\n",
        "print('Baseline Percent Accuracy: ' + str((count/len(user_time_table)) * 100) + '%')"
      ],
      "execution_count": 0,
      "outputs": [
        {
          "output_type": "stream",
          "text": [
            "Baseline Percent Accuracy: 68.61397479954181%\n"
          ],
          "name": "stdout"
        }
      ]
    },
    {
      "cell_type": "code",
      "metadata": {
        "id": "SmUyAV_uPJZ2",
        "colab_type": "code",
        "outputId": "6aa32ee7-d97a-498b-9552-9a67e9d73c93",
        "colab": {
          "base_uri": "https://localhost:8080/",
          "height": 34
        }
      },
      "source": [
        "#McAuley Check: see if the second to last workout was in the median time gap\n",
        "\n",
        "count = 0\n",
        "for i in range(len(user_time_table['workout_soon'])):\n",
        " if user_time_table['hrs_to_next1'][i] <= median_gap and user_time_table['workout_soon'][i] == 1:\n",
        "   count += 1\n",
        " if user_time_table['hrs_to_next1'][i] > median_gap and user_time_table['workout_soon'][i] == 0:\n",
        "   count += 1\n",
        "print('Baseline Percent Accuracy: ' + str((count/len(user_time_table)) * 100) + '%')"
      ],
      "execution_count": 0,
      "outputs": [
        {
          "output_type": "stream",
          "text": [
            "Baseline Percent Accuracy: 67.92668957617411%\n"
          ],
          "name": "stdout"
        }
      ]
    },
    {
      "cell_type": "code",
      "metadata": {
        "id": "JlCZFbh5Y3-p",
        "colab_type": "code",
        "colab": {}
      },
      "source": [
        ""
      ],
      "execution_count": 0,
      "outputs": []
    }
  ]
}