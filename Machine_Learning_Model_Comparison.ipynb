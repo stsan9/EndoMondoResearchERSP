{
  "nbformat": 4,
  "nbformat_minor": 0,
  "metadata": {
    "colab": {
      "name": "Machine Learning Model Comparison",
      "provenance": [],
      "collapsed_sections": [
        "xuhNK3HqP7hN"
      ],
      "machine_shape": "hm",
      "include_colab_link": true
    },
    "kernelspec": {
      "name": "python3",
      "display_name": "Python 3"
    }
  },
  "cells": [
    {
      "cell_type": "markdown",
      "metadata": {
        "id": "view-in-github",
        "colab_type": "text"
      },
      "source": [
        "<a href=\"https://colab.research.google.com/github/stsan9/EndoMondoResearchERSP/blob/master/Machine_Learning_Model_Comparison.ipynb\" target=\"_parent\"><img src=\"https://colab.research.google.com/assets/colab-badge.svg\" alt=\"Open In Colab\"/></a>"
      ]
    },
    {
      "cell_type": "code",
      "metadata": {
        "id": "pEdDz-WVHqV5",
        "colab_type": "code",
        "colab": {}
      },
      "source": [
        "import pandas as pd\n",
        "import numpy as np\n",
        "from matplotlib import pyplot as plt\n",
        "import math\n",
        "from random import sample \n",
        "import statistics\n",
        "from datetime import datetime"
      ],
      "execution_count": 0,
      "outputs": []
    },
    {
      "cell_type": "code",
      "metadata": {
        "id": "c9bSQge4HsfH",
        "colab_type": "code",
        "outputId": "7300b6de-0eff-4464-b2d2-a30654663e80",
        "colab": {
          "base_uri": "https://localhost:8080/",
          "height": 122
        }
      },
      "source": [
        "# Mount the google drive file system\n",
        "from google.colab import drive\n",
        "drive.mount('/content/gdrive/')"
      ],
      "execution_count": 2,
      "outputs": [
        {
          "output_type": "stream",
          "text": [
            "Go to this URL in a browser: https://accounts.google.com/o/oauth2/auth?client_id=947318989803-6bn6qk8qdgf4n4g3pfee6491hc0brc4i.apps.googleusercontent.com&redirect_uri=urn%3aietf%3awg%3aoauth%3a2.0%3aoob&response_type=code&scope=email%20https%3a%2f%2fwww.googleapis.com%2fauth%2fdocs.test%20https%3a%2f%2fwww.googleapis.com%2fauth%2fdrive%20https%3a%2f%2fwww.googleapis.com%2fauth%2fdrive.photos.readonly%20https%3a%2f%2fwww.googleapis.com%2fauth%2fpeopleapi.readonly\n",
            "\n",
            "Enter your authorization code:\n",
            "··········\n",
            "Mounted at /content/gdrive/\n"
          ],
          "name": "stdout"
        }
      ]
    },
    {
      "cell_type": "code",
      "metadata": {
        "id": "cnjgwz02Eygl",
        "colab_type": "code",
        "outputId": "a2302fe9-40b5-4f67-cc56-ae10b429c598",
        "colab": {
          "base_uri": "https://localhost:8080/",
          "height": 131
        }
      },
      "source": [
        "path = '/content/gdrive/My Drive/McAuley/UserTimeTable.csv'\n",
        "user_time_table = pd.read_csv(path)\n",
        "user_time_table.head(2)"
      ],
      "execution_count": 4,
      "outputs": [
        {
          "output_type": "execute_result",
          "data": {
            "text/html": [
              "<div>\n",
              "<style scoped>\n",
              "    .dataframe tbody tr th:only-of-type {\n",
              "        vertical-align: middle;\n",
              "    }\n",
              "\n",
              "    .dataframe tbody tr th {\n",
              "        vertical-align: top;\n",
              "    }\n",
              "\n",
              "    .dataframe thead th {\n",
              "        text-align: right;\n",
              "    }\n",
              "</style>\n",
              "<table border=\"1\" class=\"dataframe\">\n",
              "  <thead>\n",
              "    <tr style=\"text-align: right;\">\n",
              "      <th></th>\n",
              "      <th>user_median</th>\n",
              "      <th>recent_workouts</th>\n",
              "      <th>workout_soon</th>\n",
              "      <th>recent_sport</th>\n",
              "      <th>recent_heart_rate</th>\n",
              "      <th>recent_speed</th>\n",
              "      <th>recent_distance</th>\n",
              "      <th>recent_altitude</th>\n",
              "      <th>good_users</th>\n",
              "      <th>hrs_to_next1</th>\n",
              "      <th>hrs_to_next2</th>\n",
              "      <th>gender_female</th>\n",
              "      <th>gender_male</th>\n",
              "      <th>gender_unknown</th>\n",
              "      <th>months_to_next1</th>\n",
              "      <th>months_to_next2</th>\n",
              "      <th>recent_month1</th>\n",
              "      <th>recent_month2</th>\n",
              "      <th>time_int_deviation</th>\n",
              "    </tr>\n",
              "  </thead>\n",
              "  <tbody>\n",
              "    <tr>\n",
              "      <th>0</th>\n",
              "      <td>71.240139</td>\n",
              "      <td>0</td>\n",
              "      <td>0</td>\n",
              "      <td>1</td>\n",
              "      <td>133.15</td>\n",
              "      <td>21.559784</td>\n",
              "      <td>71.566504</td>\n",
              "      <td>25.6136</td>\n",
              "      <td>10921915</td>\n",
              "      <td>0.637222</td>\n",
              "      <td>189.626111</td>\n",
              "      <td>0</td>\n",
              "      <td>1</td>\n",
              "      <td>0</td>\n",
              "      <td>0.000885</td>\n",
              "      <td>0.263370</td>\n",
              "      <td>8</td>\n",
              "      <td>8</td>\n",
              "      <td>122.811904</td>\n",
              "    </tr>\n",
              "    <tr>\n",
              "      <th>1</th>\n",
              "      <td>83.151667</td>\n",
              "      <td>0</td>\n",
              "      <td>0</td>\n",
              "      <td>3</td>\n",
              "      <td>158.36</td>\n",
              "      <td>15.441569</td>\n",
              "      <td>16.110704</td>\n",
              "      <td>38.3092</td>\n",
              "      <td>4969375</td>\n",
              "      <td>42.661389</td>\n",
              "      <td>1.004444</td>\n",
              "      <td>0</td>\n",
              "      <td>1</td>\n",
              "      <td>0</td>\n",
              "      <td>0.059252</td>\n",
              "      <td>0.001395</td>\n",
              "      <td>3</td>\n",
              "      <td>2</td>\n",
              "      <td>154.344158</td>\n",
              "    </tr>\n",
              "  </tbody>\n",
              "</table>\n",
              "</div>"
            ],
            "text/plain": [
              "   user_median  recent_workouts  ...  recent_month2  time_int_deviation\n",
              "0    71.240139                0  ...              8          122.811904\n",
              "1    83.151667                0  ...              2          154.344158\n",
              "\n",
              "[2 rows x 19 columns]"
            ]
          },
          "metadata": {
            "tags": []
          },
          "execution_count": 4
        }
      ]
    },
    {
      "cell_type": "code",
      "metadata": {
        "id": "7zGFvk0mdH5-",
        "colab_type": "code",
        "colab": {}
      },
      "source": [
        "def time_scale(num):\n",
        "  return num/60/60"
      ],
      "execution_count": 0,
      "outputs": []
    },
    {
      "cell_type": "code",
      "metadata": {
        "id": "ieciQX1YdLuW",
        "colab_type": "code",
        "colab": {}
      },
      "source": [
        "all_users=dataframe[\"userId\"].unique()\n",
        "saved_stamps = list(dataframe['time_start'])\n",
        "times = []\n",
        "for user in all_users:\n",
        "  user_data = dataframe.loc[dataframe[\"userId\"] == user].sort_values(\"time_start\")\n",
        "  arr = np.diff(user_data[\"time_start\"])\n",
        "  arr=np.append(arr,[0])\n",
        "  user_data[\"time_start\"]=arr.tolist()\n",
        "  indexNames = dataframe[dataframe[\"userId\"] == user].index\n",
        "  dataframe.drop(indexNames,inplace=True)\n",
        "  dataframe = dataframe.append(user_data,ignore_index = True)\n",
        "\n",
        "dataframe = dataframe.rename( columns= { \"time_start\" : \"hrs_to_next\" } )\n",
        "dataframe['time_start'] = saved_stamps\n",
        "dataframe['hrs_to_next'] = dataframe['hrs_to_next'].apply(time_scale)"
      ],
      "execution_count": 0,
      "outputs": []
    },
    {
      "cell_type": "code",
      "metadata": {
        "id": "nBvgL_JIfKzg",
        "colab_type": "code",
        "outputId": "63a6f053-261c-4afb-b47a-97be02cdda41",
        "colab": {
          "base_uri": "https://localhost:8080/",
          "height": 34
        }
      },
      "source": [
        "df = dataframe.copy()\n",
        "df = df[df['hrs_to_next'] != 0]\n",
        "median_gap = np.median(df['hrs_to_next'])\n",
        "print(median_gap/24)"
      ],
      "execution_count": 0,
      "outputs": [
        {
          "output_type": "stream",
          "text": [
            "1.9372280092592593\n"
          ],
          "name": "stdout"
        }
      ]
    },
    {
      "cell_type": "code",
      "metadata": {
        "id": "XCoREETGGbdp",
        "colab_type": "code",
        "colab": {}
      },
      "source": [
        "#Converting hrs_to_next to month ranges\n",
        "def hrs_to_month(num):\n",
        "  return num/24/30\n",
        "dataframe[\"months_to_next\"]=dataframe[\"hrs_to_next\"].apply(hrs_to_month)"
      ],
      "execution_count": 0,
      "outputs": []
    },
    {
      "cell_type": "code",
      "metadata": {
        "id": "PvnsrA4FGeiv",
        "colab_type": "code",
        "colab": {}
      },
      "source": [
        "#Converting time_start to number of month\n",
        "def extract_month(num):\n",
        "  date=datetime.fromtimestamp(num)\n",
        "  return date.month\n",
        "dataframe[\"month\"]=dataframe[\"time_start\"].apply(extract_month)"
      ],
      "execution_count": 0,
      "outputs": []
    },
    {
      "cell_type": "code",
      "metadata": {
        "id": "3VGSKjpxwVtG",
        "colab_type": "code",
        "colab": {}
      },
      "source": [
        "user_time_table = pd.DataFrame(columns=['userId', 'median_hrs_to_next', 'workout_in_median'])\n",
        "\n",
        "variable_dict = {'user_median': [], 'recent_workouts': [], 'workout_soon': [], 'recent_sport': [], 'recent_heart_rate': [], 'recent_speed': [], 'recent_distance': [],\n",
        "                 'recent_altitude': [], 'good_users': [], 'hrs_to_next1': [], 'hrs_to_next2': [], 'gender_female': [], 'gender_male': [], 'gender_unknown': [], 'months_to_next1': [],\n",
        "                 'months_to_next2': [], 'recent_month1': [], 'recent_month2': [], 'time_int_deviation': []}\n",
        "\n",
        "for user in all_users:\n",
        "  user_data = dataframe.loc[dataframe[\"userId\"] == user].loc[dataframe['hrs_to_next'] != 0].sort_values(\"time_start\", ascending=False)\n",
        "  user_data['time_int_deviation'] = pd.DataFrame.std(user_data.hrs_to_next)   # calculate time deviation per user here\n",
        "  if len(user_data) >= 20:\n",
        "    variable_dict['good_users'].append(user)\n",
        "    variable_dict['user_median'].append(np.median(user_data['hrs_to_next']))\n",
        "    workouts = user_data[user_data['time_start'] >= (user_data['time_start'].iloc[1] - median_gap*60*60)]\n",
        "    variable_dict['recent_workouts'].append(len(workouts) - 2)\n",
        "    variable_dict['recent_sport'].append(user_data['sport'].iloc[1])\n",
        "    variable_dict['workout_soon'].append(int(user_data['hrs_to_next'].iloc[1] <= median_gap))\n",
        "    variable_dict['recent_heart_rate'].append(user_data['average_heart_rate'].iloc[1])\n",
        "    variable_dict['recent_speed'].append(user_data['dervided_speed (km/h)'].iloc[1])\n",
        "    variable_dict['recent_distance'].append(user_data['derived_distance (km)'].iloc[1])\n",
        "    variable_dict['recent_altitude'].append(user_data['average_altitude'].iloc[1])\n",
        "    variable_dict['hrs_to_next1'].append(user_data['hrs_to_next'].iloc[2])\n",
        "    variable_dict['hrs_to_next2'].append(user_data['hrs_to_next'].iloc[3])\n",
        "    variable_dict['months_to_next1'].append(user_data['months_to_next'].iloc[2])\n",
        "    variable_dict['months_to_next2'].append(user_data['months_to_next'].iloc[3])\n",
        "    variable_dict['gender_female'].append(user_data['gender_female'].iloc[1])\n",
        "    variable_dict['gender_male'].append(user_data['gender_male'].iloc[1])\n",
        "    variable_dict['gender_unknown'].append(user_data['gender_unknown'].iloc[1])\n",
        "    variable_dict['recent_month1'].append(user_data['month'].iloc[2])\n",
        "    variable_dict['recent_month2'].append(user_data['month'].iloc[3])\n",
        "    variable_dict['time_int_deviation'].append(user_data['time_int_deviation'].iloc[1])\n",
        "\n",
        "user_time_table = pd.DataFrame.from_dict(variable_dict)"
      ],
      "execution_count": 0,
      "outputs": []
    },
    {
      "cell_type": "code",
      "metadata": {
        "id": "Yqj9woppeENv",
        "colab_type": "code",
        "colab": {}
      },
      "source": [
        "user_time_table.to_csv(r'/content/gdrive/My Drive/McAuley/UserTimeTable.csv', index = False)"
      ],
      "execution_count": 0,
      "outputs": []
    },
    {
      "cell_type": "code",
      "metadata": {
        "id": "Ddk8VwmrYNcL",
        "colab_type": "code",
        "colab": {}
      },
      "source": [
        "user_median: False,  recent_speed: True, recent_distance: False,  recent_altitude: True,  good_users: True, \n",
        "hrs_to_next1: False, months_to_next1: False, months_to_next2: False, time_int_deviation: False]\n",
        "\n",
        "0, 5, 6, 7, 8, 9, 14, 15, 18\n",
        "\n",
        "\n",
        "\n",
        "\n",
        "-0.60260127  -0.25570828  0.30269045 -0.31051816\n",
        "    0.23870308 -0.41139014 -0.12942762 \n",
        "   -0.41139014 -0.12942762  0.13250006 -0.18616737 \n",
        "\n",
        "0, 4, 5, 6, 8, 9, 10, 14, 15, 16, 17"
      ],
      "execution_count": 0,
      "outputs": []
    },
    {
      "cell_type": "code",
      "metadata": {
        "id": "KE2sC92xfZb7",
        "colab_type": "code",
        "outputId": "586ae86f-544c-4366-f2fc-1b97cc2ee81b",
        "colab": {
          "base_uri": "https://localhost:8080/",
          "height": 439
        }
      },
      "source": [
        "user_time_table"
      ],
      "execution_count": 5,
      "outputs": [
        {
          "output_type": "execute_result",
          "data": {
            "text/html": [
              "<div>\n",
              "<style scoped>\n",
              "    .dataframe tbody tr th:only-of-type {\n",
              "        vertical-align: middle;\n",
              "    }\n",
              "\n",
              "    .dataframe tbody tr th {\n",
              "        vertical-align: top;\n",
              "    }\n",
              "\n",
              "    .dataframe thead th {\n",
              "        text-align: right;\n",
              "    }\n",
              "</style>\n",
              "<table border=\"1\" class=\"dataframe\">\n",
              "  <thead>\n",
              "    <tr style=\"text-align: right;\">\n",
              "      <th></th>\n",
              "      <th>user_median</th>\n",
              "      <th>recent_workouts</th>\n",
              "      <th>workout_soon</th>\n",
              "      <th>recent_sport</th>\n",
              "      <th>recent_heart_rate</th>\n",
              "      <th>recent_speed</th>\n",
              "      <th>recent_distance</th>\n",
              "      <th>recent_altitude</th>\n",
              "      <th>good_users</th>\n",
              "      <th>hrs_to_next1</th>\n",
              "      <th>hrs_to_next2</th>\n",
              "      <th>gender_female</th>\n",
              "      <th>gender_male</th>\n",
              "      <th>gender_unknown</th>\n",
              "      <th>months_to_next1</th>\n",
              "      <th>months_to_next2</th>\n",
              "      <th>recent_month1</th>\n",
              "      <th>recent_month2</th>\n",
              "      <th>time_int_deviation</th>\n",
              "    </tr>\n",
              "  </thead>\n",
              "  <tbody>\n",
              "    <tr>\n",
              "      <th>0</th>\n",
              "      <td>71.240139</td>\n",
              "      <td>0</td>\n",
              "      <td>0</td>\n",
              "      <td>1</td>\n",
              "      <td>133.150</td>\n",
              "      <td>21.559784</td>\n",
              "      <td>71.566504</td>\n",
              "      <td>25.613600</td>\n",
              "      <td>10921915</td>\n",
              "      <td>0.637222</td>\n",
              "      <td>189.626111</td>\n",
              "      <td>0</td>\n",
              "      <td>1</td>\n",
              "      <td>0</td>\n",
              "      <td>0.000885</td>\n",
              "      <td>0.263370</td>\n",
              "      <td>8</td>\n",
              "      <td>8</td>\n",
              "      <td>122.811904</td>\n",
              "    </tr>\n",
              "    <tr>\n",
              "      <th>1</th>\n",
              "      <td>83.151667</td>\n",
              "      <td>0</td>\n",
              "      <td>0</td>\n",
              "      <td>3</td>\n",
              "      <td>158.360</td>\n",
              "      <td>15.441569</td>\n",
              "      <td>16.110704</td>\n",
              "      <td>38.309200</td>\n",
              "      <td>4969375</td>\n",
              "      <td>42.661389</td>\n",
              "      <td>1.004444</td>\n",
              "      <td>0</td>\n",
              "      <td>1</td>\n",
              "      <td>0</td>\n",
              "      <td>0.059252</td>\n",
              "      <td>0.001395</td>\n",
              "      <td>3</td>\n",
              "      <td>2</td>\n",
              "      <td>154.344158</td>\n",
              "    </tr>\n",
              "    <tr>\n",
              "      <th>2</th>\n",
              "      <td>48.513056</td>\n",
              "      <td>0</td>\n",
              "      <td>1</td>\n",
              "      <td>1</td>\n",
              "      <td>129.540</td>\n",
              "      <td>19.769798</td>\n",
              "      <td>25.211984</td>\n",
              "      <td>18.770000</td>\n",
              "      <td>430859</td>\n",
              "      <td>25.537222</td>\n",
              "      <td>263.652222</td>\n",
              "      <td>0</td>\n",
              "      <td>1</td>\n",
              "      <td>0</td>\n",
              "      <td>0.035468</td>\n",
              "      <td>0.366184</td>\n",
              "      <td>7</td>\n",
              "      <td>7</td>\n",
              "      <td>1052.916741</td>\n",
              "    </tr>\n",
              "    <tr>\n",
              "      <th>3</th>\n",
              "      <td>170.656667</td>\n",
              "      <td>0</td>\n",
              "      <td>0</td>\n",
              "      <td>5</td>\n",
              "      <td>164.216</td>\n",
              "      <td>12.761924</td>\n",
              "      <td>11.974939</td>\n",
              "      <td>349.229566</td>\n",
              "      <td>279317</td>\n",
              "      <td>457.178056</td>\n",
              "      <td>310.076111</td>\n",
              "      <td>1</td>\n",
              "      <td>0</td>\n",
              "      <td>0</td>\n",
              "      <td>0.634970</td>\n",
              "      <td>0.430661</td>\n",
              "      <td>6</td>\n",
              "      <td>5</td>\n",
              "      <td>1676.756945</td>\n",
              "    </tr>\n",
              "    <tr>\n",
              "      <th>4</th>\n",
              "      <td>83.536250</td>\n",
              "      <td>0</td>\n",
              "      <td>0</td>\n",
              "      <td>3</td>\n",
              "      <td>155.834</td>\n",
              "      <td>11.850943</td>\n",
              "      <td>15.498399</td>\n",
              "      <td>618.792000</td>\n",
              "      <td>3905196</td>\n",
              "      <td>133.382500</td>\n",
              "      <td>124.712500</td>\n",
              "      <td>0</td>\n",
              "      <td>1</td>\n",
              "      <td>0</td>\n",
              "      <td>0.185253</td>\n",
              "      <td>0.173212</td>\n",
              "      <td>12</td>\n",
              "      <td>10</td>\n",
              "      <td>4890.654515</td>\n",
              "    </tr>\n",
              "    <tr>\n",
              "      <th>...</th>\n",
              "      <td>...</td>\n",
              "      <td>...</td>\n",
              "      <td>...</td>\n",
              "      <td>...</td>\n",
              "      <td>...</td>\n",
              "      <td>...</td>\n",
              "      <td>...</td>\n",
              "      <td>...</td>\n",
              "      <td>...</td>\n",
              "      <td>...</td>\n",
              "      <td>...</td>\n",
              "      <td>...</td>\n",
              "      <td>...</td>\n",
              "      <td>...</td>\n",
              "      <td>...</td>\n",
              "      <td>...</td>\n",
              "      <td>...</td>\n",
              "      <td>...</td>\n",
              "      <td>...</td>\n",
              "    </tr>\n",
              "    <tr>\n",
              "      <th>875</th>\n",
              "      <td>44.947917</td>\n",
              "      <td>0</td>\n",
              "      <td>1</td>\n",
              "      <td>3</td>\n",
              "      <td>158.080</td>\n",
              "      <td>12.843435</td>\n",
              "      <td>6.393176</td>\n",
              "      <td>63.724000</td>\n",
              "      <td>4101</td>\n",
              "      <td>49.293056</td>\n",
              "      <td>25.586389</td>\n",
              "      <td>0</td>\n",
              "      <td>1</td>\n",
              "      <td>0</td>\n",
              "      <td>0.068463</td>\n",
              "      <td>0.035537</td>\n",
              "      <td>4</td>\n",
              "      <td>4</td>\n",
              "      <td>909.842827</td>\n",
              "    </tr>\n",
              "    <tr>\n",
              "      <th>876</th>\n",
              "      <td>73.405694</td>\n",
              "      <td>1</td>\n",
              "      <td>1</td>\n",
              "      <td>1</td>\n",
              "      <td>135.606</td>\n",
              "      <td>19.431514</td>\n",
              "      <td>80.370900</td>\n",
              "      <td>74.558118</td>\n",
              "      <td>1875839</td>\n",
              "      <td>43.576667</td>\n",
              "      <td>13.663611</td>\n",
              "      <td>0</td>\n",
              "      <td>1</td>\n",
              "      <td>0</td>\n",
              "      <td>0.060523</td>\n",
              "      <td>0.018977</td>\n",
              "      <td>7</td>\n",
              "      <td>7</td>\n",
              "      <td>106.096150</td>\n",
              "    </tr>\n",
              "    <tr>\n",
              "      <th>877</th>\n",
              "      <td>334.048889</td>\n",
              "      <td>0</td>\n",
              "      <td>0</td>\n",
              "      <td>3</td>\n",
              "      <td>154.418</td>\n",
              "      <td>9.522620</td>\n",
              "      <td>10.268559</td>\n",
              "      <td>724.509600</td>\n",
              "      <td>3743021</td>\n",
              "      <td>70.734444</td>\n",
              "      <td>168.317500</td>\n",
              "      <td>0</td>\n",
              "      <td>1</td>\n",
              "      <td>0</td>\n",
              "      <td>0.098242</td>\n",
              "      <td>0.233774</td>\n",
              "      <td>8</td>\n",
              "      <td>8</td>\n",
              "      <td>1738.123009</td>\n",
              "    </tr>\n",
              "    <tr>\n",
              "      <th>878</th>\n",
              "      <td>50.630139</td>\n",
              "      <td>1</td>\n",
              "      <td>0</td>\n",
              "      <td>3</td>\n",
              "      <td>134.726</td>\n",
              "      <td>12.025299</td>\n",
              "      <td>14.874627</td>\n",
              "      <td>9.969200</td>\n",
              "      <td>431375</td>\n",
              "      <td>9537.523333</td>\n",
              "      <td>10120.676111</td>\n",
              "      <td>0</td>\n",
              "      <td>1</td>\n",
              "      <td>0</td>\n",
              "      <td>13.246560</td>\n",
              "      <td>14.056495</td>\n",
              "      <td>12</td>\n",
              "      <td>12</td>\n",
              "      <td>948.297247</td>\n",
              "    </tr>\n",
              "    <tr>\n",
              "      <th>879</th>\n",
              "      <td>83.720278</td>\n",
              "      <td>1</td>\n",
              "      <td>0</td>\n",
              "      <td>1</td>\n",
              "      <td>113.518</td>\n",
              "      <td>6.193348</td>\n",
              "      <td>7.062137</td>\n",
              "      <td>14.380400</td>\n",
              "      <td>69</td>\n",
              "      <td>654.561389</td>\n",
              "      <td>786.826111</td>\n",
              "      <td>0</td>\n",
              "      <td>1</td>\n",
              "      <td>0</td>\n",
              "      <td>0.909113</td>\n",
              "      <td>1.092814</td>\n",
              "      <td>12</td>\n",
              "      <td>12</td>\n",
              "      <td>1315.970615</td>\n",
              "    </tr>\n",
              "  </tbody>\n",
              "</table>\n",
              "<p>880 rows × 19 columns</p>\n",
              "</div>"
            ],
            "text/plain": [
              "     user_median  recent_workouts  ...  recent_month2  time_int_deviation\n",
              "0      71.240139                0  ...              8          122.811904\n",
              "1      83.151667                0  ...              2          154.344158\n",
              "2      48.513056                0  ...              7         1052.916741\n",
              "3     170.656667                0  ...              5         1676.756945\n",
              "4      83.536250                0  ...             10         4890.654515\n",
              "..           ...              ...  ...            ...                 ...\n",
              "875    44.947917                0  ...              4          909.842827\n",
              "876    73.405694                1  ...              7          106.096150\n",
              "877   334.048889                0  ...              8         1738.123009\n",
              "878    50.630139                1  ...             12          948.297247\n",
              "879    83.720278                1  ...             12         1315.970615\n",
              "\n",
              "[880 rows x 19 columns]"
            ]
          },
          "metadata": {
            "tags": []
          },
          "execution_count": 5
        }
      ]
    },
    {
      "cell_type": "markdown",
      "metadata": {
        "id": "uzLKJPiXbCyV",
        "colab_type": "text"
      },
      "source": [
        "Covariance Matrix And Correlation Coefficient"
      ]
    },
    {
      "cell_type": "code",
      "metadata": {
        "id": "mYa-M4E2bCNj",
        "colab_type": "code",
        "outputId": "f82a34a0-e0c2-46fa-e90c-138c9ced1c07",
        "colab": {
          "base_uri": "https://localhost:8080/",
          "height": 658
        }
      },
      "source": [
        "covar = pd.DataFrame.cov(user_time_table)\n",
        "covar"
      ],
      "execution_count": 6,
      "outputs": [
        {
          "output_type": "execute_result",
          "data": {
            "text/html": [
              "<div>\n",
              "<style scoped>\n",
              "    .dataframe tbody tr th:only-of-type {\n",
              "        vertical-align: middle;\n",
              "    }\n",
              "\n",
              "    .dataframe tbody tr th {\n",
              "        vertical-align: top;\n",
              "    }\n",
              "\n",
              "    .dataframe thead th {\n",
              "        text-align: right;\n",
              "    }\n",
              "</style>\n",
              "<table border=\"1\" class=\"dataframe\">\n",
              "  <thead>\n",
              "    <tr style=\"text-align: right;\">\n",
              "      <th></th>\n",
              "      <th>user_median</th>\n",
              "      <th>recent_workouts</th>\n",
              "      <th>workout_soon</th>\n",
              "      <th>recent_sport</th>\n",
              "      <th>recent_heart_rate</th>\n",
              "      <th>recent_speed</th>\n",
              "      <th>recent_distance</th>\n",
              "      <th>recent_altitude</th>\n",
              "      <th>good_users</th>\n",
              "      <th>hrs_to_next1</th>\n",
              "      <th>hrs_to_next2</th>\n",
              "      <th>gender_female</th>\n",
              "      <th>gender_male</th>\n",
              "      <th>gender_unknown</th>\n",
              "      <th>months_to_next1</th>\n",
              "      <th>months_to_next2</th>\n",
              "      <th>recent_month1</th>\n",
              "      <th>recent_month2</th>\n",
              "      <th>time_int_deviation</th>\n",
              "    </tr>\n",
              "  </thead>\n",
              "  <tbody>\n",
              "    <tr>\n",
              "      <th>user_median</th>\n",
              "      <td>3.154593e+03</td>\n",
              "      <td>-9.406107</td>\n",
              "      <td>-5.673297</td>\n",
              "      <td>11.890315</td>\n",
              "      <td>85.058679</td>\n",
              "      <td>-5.614111e+01</td>\n",
              "      <td>-3.785737e+01</td>\n",
              "      <td>-5.307765e+02</td>\n",
              "      <td>-1.719057e+07</td>\n",
              "      <td>7.797431e+03</td>\n",
              "      <td>3.460679e+03</td>\n",
              "      <td>1.246619</td>\n",
              "      <td>-1.303268</td>\n",
              "      <td>0.056649</td>\n",
              "      <td>10.829765</td>\n",
              "      <td>4.806498</td>\n",
              "      <td>-36.650200</td>\n",
              "      <td>-39.358831</td>\n",
              "      <td>1.234153e+04</td>\n",
              "    </tr>\n",
              "    <tr>\n",
              "      <th>recent_workouts</th>\n",
              "      <td>-9.406107e+00</td>\n",
              "      <td>0.464971</td>\n",
              "      <td>0.033845</td>\n",
              "      <td>-0.081461</td>\n",
              "      <td>0.040686</td>\n",
              "      <td>3.445799e-01</td>\n",
              "      <td>5.609921e-01</td>\n",
              "      <td>1.093392e+01</td>\n",
              "      <td>-1.400513e+05</td>\n",
              "      <td>-1.305565e+01</td>\n",
              "      <td>-4.392911e+00</td>\n",
              "      <td>-0.002736</td>\n",
              "      <td>0.005068</td>\n",
              "      <td>-0.002332</td>\n",
              "      <td>-0.018133</td>\n",
              "      <td>-0.006101</td>\n",
              "      <td>0.189766</td>\n",
              "      <td>0.226492</td>\n",
              "      <td>-4.512913e+01</td>\n",
              "    </tr>\n",
              "    <tr>\n",
              "      <th>workout_soon</th>\n",
              "      <td>-5.673297e+00</td>\n",
              "      <td>0.033845</td>\n",
              "      <td>0.215088</td>\n",
              "      <td>-0.041880</td>\n",
              "      <td>-0.838347</td>\n",
              "      <td>2.390393e-01</td>\n",
              "      <td>-2.947958e-01</td>\n",
              "      <td>8.928971e+00</td>\n",
              "      <td>2.591460e+05</td>\n",
              "      <td>-4.988173e+01</td>\n",
              "      <td>-3.029884e+01</td>\n",
              "      <td>0.001635</td>\n",
              "      <td>-0.004551</td>\n",
              "      <td>0.002915</td>\n",
              "      <td>-0.069280</td>\n",
              "      <td>-0.042082</td>\n",
              "      <td>0.050128</td>\n",
              "      <td>0.047142</td>\n",
              "      <td>-3.135154e+01</td>\n",
              "    </tr>\n",
              "    <tr>\n",
              "      <th>recent_sport</th>\n",
              "      <td>1.189032e+01</td>\n",
              "      <td>-0.081461</td>\n",
              "      <td>-0.041880</td>\n",
              "      <td>7.364607</td>\n",
              "      <td>-2.478905</td>\n",
              "      <td>-8.556338e+00</td>\n",
              "      <td>-1.690896e+01</td>\n",
              "      <td>4.589206e+01</td>\n",
              "      <td>-2.128590e+05</td>\n",
              "      <td>7.545869e+01</td>\n",
              "      <td>1.227370e+02</td>\n",
              "      <td>0.057611</td>\n",
              "      <td>-0.054297</td>\n",
              "      <td>-0.003313</td>\n",
              "      <td>0.104804</td>\n",
              "      <td>0.170468</td>\n",
              "      <td>0.188464</td>\n",
              "      <td>0.111370</td>\n",
              "      <td>1.015473e+02</td>\n",
              "    </tr>\n",
              "    <tr>\n",
              "      <th>recent_heart_rate</th>\n",
              "      <td>8.505868e+01</td>\n",
              "      <td>0.040686</td>\n",
              "      <td>-0.838347</td>\n",
              "      <td>-2.478905</td>\n",
              "      <td>376.571560</td>\n",
              "      <td>-1.815157e+00</td>\n",
              "      <td>-4.819259e+01</td>\n",
              "      <td>4.139101e+01</td>\n",
              "      <td>-8.001741e+04</td>\n",
              "      <td>1.010504e+03</td>\n",
              "      <td>8.076837e+02</td>\n",
              "      <td>-0.025215</td>\n",
              "      <td>0.000395</td>\n",
              "      <td>0.024820</td>\n",
              "      <td>1.403478</td>\n",
              "      <td>1.121783</td>\n",
              "      <td>-0.632259</td>\n",
              "      <td>0.052851</td>\n",
              "      <td>3.914928e+02</td>\n",
              "    </tr>\n",
              "    <tr>\n",
              "      <th>recent_speed</th>\n",
              "      <td>-5.614111e+01</td>\n",
              "      <td>0.344580</td>\n",
              "      <td>0.239039</td>\n",
              "      <td>-8.556338</td>\n",
              "      <td>-1.815157</td>\n",
              "      <td>5.556937e+01</td>\n",
              "      <td>9.878825e+01</td>\n",
              "      <td>-2.132157e+02</td>\n",
              "      <td>-2.682690e+06</td>\n",
              "      <td>-4.592033e+02</td>\n",
              "      <td>-6.905316e+01</td>\n",
              "      <td>-0.246749</td>\n",
              "      <td>0.217677</td>\n",
              "      <td>0.029072</td>\n",
              "      <td>-0.637782</td>\n",
              "      <td>-0.095907</td>\n",
              "      <td>-0.110332</td>\n",
              "      <td>-0.008974</td>\n",
              "      <td>-3.190841e+02</td>\n",
              "    </tr>\n",
              "    <tr>\n",
              "      <th>recent_distance</th>\n",
              "      <td>-3.785737e+01</td>\n",
              "      <td>0.560992</td>\n",
              "      <td>-0.294796</td>\n",
              "      <td>-16.908962</td>\n",
              "      <td>-48.192588</td>\n",
              "      <td>9.878825e+01</td>\n",
              "      <td>4.411417e+02</td>\n",
              "      <td>-1.518836e+02</td>\n",
              "      <td>-4.072674e+06</td>\n",
              "      <td>-9.734242e+02</td>\n",
              "      <td>1.619671e+01</td>\n",
              "      <td>-0.266722</td>\n",
              "      <td>0.241474</td>\n",
              "      <td>0.025247</td>\n",
              "      <td>-1.351978</td>\n",
              "      <td>0.022495</td>\n",
              "      <td>-1.246407</td>\n",
              "      <td>-0.902069</td>\n",
              "      <td>1.895114e+01</td>\n",
              "    </tr>\n",
              "    <tr>\n",
              "      <th>recent_altitude</th>\n",
              "      <td>-5.307765e+02</td>\n",
              "      <td>10.933919</td>\n",
              "      <td>8.928971</td>\n",
              "      <td>45.892061</td>\n",
              "      <td>41.391009</td>\n",
              "      <td>-2.132157e+02</td>\n",
              "      <td>-1.518836e+02</td>\n",
              "      <td>1.207535e+05</td>\n",
              "      <td>3.449861e+07</td>\n",
              "      <td>1.237876e+04</td>\n",
              "      <td>-7.885905e+01</td>\n",
              "      <td>-2.844776</td>\n",
              "      <td>2.101933</td>\n",
              "      <td>0.742843</td>\n",
              "      <td>17.192718</td>\n",
              "      <td>-0.109526</td>\n",
              "      <td>-18.741725</td>\n",
              "      <td>-17.970593</td>\n",
              "      <td>1.178864e+02</td>\n",
              "    </tr>\n",
              "    <tr>\n",
              "      <th>good_users</th>\n",
              "      <td>-1.719057e+07</td>\n",
              "      <td>-140051.300941</td>\n",
              "      <td>259146.038680</td>\n",
              "      <td>-212859.004820</td>\n",
              "      <td>-80017.410550</td>\n",
              "      <td>-2.682690e+06</td>\n",
              "      <td>-4.072674e+06</td>\n",
              "      <td>3.449861e+07</td>\n",
              "      <td>1.646367e+13</td>\n",
              "      <td>-1.655419e+08</td>\n",
              "      <td>-2.479321e+08</td>\n",
              "      <td>58440.413611</td>\n",
              "      <td>-66625.107353</td>\n",
              "      <td>8184.693743</td>\n",
              "      <td>-229919.270007</td>\n",
              "      <td>-344350.184663</td>\n",
              "      <td>-6100.222939</td>\n",
              "      <td>-17133.462013</td>\n",
              "      <td>-2.625102e+08</td>\n",
              "    </tr>\n",
              "    <tr>\n",
              "      <th>hrs_to_next1</th>\n",
              "      <td>7.797431e+03</td>\n",
              "      <td>-13.055650</td>\n",
              "      <td>-49.881733</td>\n",
              "      <td>75.458694</td>\n",
              "      <td>1010.503839</td>\n",
              "      <td>-4.592033e+02</td>\n",
              "      <td>-9.734242e+02</td>\n",
              "      <td>1.237876e+04</td>\n",
              "      <td>-1.655419e+08</td>\n",
              "      <td>1.164824e+06</td>\n",
              "      <td>2.266761e+05</td>\n",
              "      <td>2.468660</td>\n",
              "      <td>-8.762241</td>\n",
              "      <td>6.293582</td>\n",
              "      <td>1617.810673</td>\n",
              "      <td>314.827874</td>\n",
              "      <td>-29.077429</td>\n",
              "      <td>-48.300187</td>\n",
              "      <td>1.160213e+05</td>\n",
              "    </tr>\n",
              "    <tr>\n",
              "      <th>hrs_to_next2</th>\n",
              "      <td>3.460679e+03</td>\n",
              "      <td>-4.392911</td>\n",
              "      <td>-30.298838</td>\n",
              "      <td>122.737028</td>\n",
              "      <td>807.683691</td>\n",
              "      <td>-6.905316e+01</td>\n",
              "      <td>1.619671e+01</td>\n",
              "      <td>-7.885905e+01</td>\n",
              "      <td>-2.479321e+08</td>\n",
              "      <td>2.266761e+05</td>\n",
              "      <td>9.280050e+05</td>\n",
              "      <td>-7.937281</td>\n",
              "      <td>9.326996</td>\n",
              "      <td>-1.389716</td>\n",
              "      <td>314.827874</td>\n",
              "      <td>1288.895832</td>\n",
              "      <td>64.098677</td>\n",
              "      <td>48.204612</td>\n",
              "      <td>7.223990e+04</td>\n",
              "    </tr>\n",
              "    <tr>\n",
              "      <th>gender_female</th>\n",
              "      <td>1.246619e+00</td>\n",
              "      <td>-0.002736</td>\n",
              "      <td>0.001635</td>\n",
              "      <td>0.057611</td>\n",
              "      <td>-0.025215</td>\n",
              "      <td>-2.467494e-01</td>\n",
              "      <td>-2.667215e-01</td>\n",
              "      <td>-2.844776e+00</td>\n",
              "      <td>5.844041e+04</td>\n",
              "      <td>2.468660e+00</td>\n",
              "      <td>-7.937281e+00</td>\n",
              "      <td>0.072343</td>\n",
              "      <td>-0.071362</td>\n",
              "      <td>-0.000981</td>\n",
              "      <td>0.003429</td>\n",
              "      <td>-0.011024</td>\n",
              "      <td>-0.011024</td>\n",
              "      <td>-0.026798</td>\n",
              "      <td>4.212102e+00</td>\n",
              "    </tr>\n",
              "    <tr>\n",
              "      <th>gender_male</th>\n",
              "      <td>-1.303268e+00</td>\n",
              "      <td>0.005068</td>\n",
              "      <td>-0.004551</td>\n",
              "      <td>-0.054297</td>\n",
              "      <td>0.000395</td>\n",
              "      <td>2.176773e-01</td>\n",
              "      <td>2.414740e-01</td>\n",
              "      <td>2.101933e+00</td>\n",
              "      <td>-6.662511e+04</td>\n",
              "      <td>-8.762241e+00</td>\n",
              "      <td>9.326996e+00</td>\n",
              "      <td>-0.071362</td>\n",
              "      <td>0.082739</td>\n",
              "      <td>-0.011377</td>\n",
              "      <td>-0.012170</td>\n",
              "      <td>0.012954</td>\n",
              "      <td>0.040645</td>\n",
              "      <td>0.055538</td>\n",
              "      <td>-2.532832e+00</td>\n",
              "    </tr>\n",
              "    <tr>\n",
              "      <th>gender_unknown</th>\n",
              "      <td>5.664908e-02</td>\n",
              "      <td>-0.002332</td>\n",
              "      <td>0.002915</td>\n",
              "      <td>-0.003313</td>\n",
              "      <td>0.024820</td>\n",
              "      <td>2.907206e-02</td>\n",
              "      <td>2.524747e-02</td>\n",
              "      <td>7.428431e-01</td>\n",
              "      <td>8.184694e+03</td>\n",
              "      <td>6.293582e+00</td>\n",
              "      <td>-1.389716e+00</td>\n",
              "      <td>-0.000981</td>\n",
              "      <td>-0.011377</td>\n",
              "      <td>0.012358</td>\n",
              "      <td>0.008741</td>\n",
              "      <td>-0.001930</td>\n",
              "      <td>-0.029622</td>\n",
              "      <td>-0.028740</td>\n",
              "      <td>-1.679270e+00</td>\n",
              "    </tr>\n",
              "    <tr>\n",
              "      <th>months_to_next1</th>\n",
              "      <td>1.082977e+01</td>\n",
              "      <td>-0.018133</td>\n",
              "      <td>-0.069280</td>\n",
              "      <td>0.104804</td>\n",
              "      <td>1.403478</td>\n",
              "      <td>-6.377824e-01</td>\n",
              "      <td>-1.351978e+00</td>\n",
              "      <td>1.719272e+01</td>\n",
              "      <td>-2.299193e+05</td>\n",
              "      <td>1.617811e+03</td>\n",
              "      <td>3.148279e+02</td>\n",
              "      <td>0.003429</td>\n",
              "      <td>-0.012170</td>\n",
              "      <td>0.008741</td>\n",
              "      <td>2.246959</td>\n",
              "      <td>0.437261</td>\n",
              "      <td>-0.040385</td>\n",
              "      <td>-0.067084</td>\n",
              "      <td>1.611407e+02</td>\n",
              "    </tr>\n",
              "    <tr>\n",
              "      <th>months_to_next2</th>\n",
              "      <td>4.806498e+00</td>\n",
              "      <td>-0.006101</td>\n",
              "      <td>-0.042082</td>\n",
              "      <td>0.170468</td>\n",
              "      <td>1.121783</td>\n",
              "      <td>-9.590716e-02</td>\n",
              "      <td>2.249543e-02</td>\n",
              "      <td>-1.095265e-01</td>\n",
              "      <td>-3.443502e+05</td>\n",
              "      <td>3.148279e+02</td>\n",
              "      <td>1.288896e+03</td>\n",
              "      <td>-0.011024</td>\n",
              "      <td>0.012954</td>\n",
              "      <td>-0.001930</td>\n",
              "      <td>0.437261</td>\n",
              "      <td>1.790133</td>\n",
              "      <td>0.089026</td>\n",
              "      <td>0.066951</td>\n",
              "      <td>1.003332e+02</td>\n",
              "    </tr>\n",
              "    <tr>\n",
              "      <th>recent_month1</th>\n",
              "      <td>-3.665020e+01</td>\n",
              "      <td>0.189766</td>\n",
              "      <td>0.050128</td>\n",
              "      <td>0.188464</td>\n",
              "      <td>-0.632259</td>\n",
              "      <td>-1.103315e-01</td>\n",
              "      <td>-1.246407e+00</td>\n",
              "      <td>-1.874173e+01</td>\n",
              "      <td>-6.100223e+03</td>\n",
              "      <td>-2.907743e+01</td>\n",
              "      <td>6.409868e+01</td>\n",
              "      <td>-0.011024</td>\n",
              "      <td>0.040645</td>\n",
              "      <td>-0.029622</td>\n",
              "      <td>-0.040385</td>\n",
              "      <td>0.089026</td>\n",
              "      <td>10.567679</td>\n",
              "      <td>9.955240</td>\n",
              "      <td>-1.951796e+02</td>\n",
              "    </tr>\n",
              "    <tr>\n",
              "      <th>recent_month2</th>\n",
              "      <td>-3.935883e+01</td>\n",
              "      <td>0.226492</td>\n",
              "      <td>0.047142</td>\n",
              "      <td>0.111370</td>\n",
              "      <td>0.052851</td>\n",
              "      <td>-8.974427e-03</td>\n",
              "      <td>-9.020693e-01</td>\n",
              "      <td>-1.797059e+01</td>\n",
              "      <td>-1.713346e+04</td>\n",
              "      <td>-4.830019e+01</td>\n",
              "      <td>4.820461e+01</td>\n",
              "      <td>-0.026798</td>\n",
              "      <td>0.055538</td>\n",
              "      <td>-0.028740</td>\n",
              "      <td>-0.067084</td>\n",
              "      <td>0.066951</td>\n",
              "      <td>9.955240</td>\n",
              "      <td>10.757006</td>\n",
              "      <td>-2.348616e+02</td>\n",
              "    </tr>\n",
              "    <tr>\n",
              "      <th>time_int_deviation</th>\n",
              "      <td>1.234153e+04</td>\n",
              "      <td>-45.129130</td>\n",
              "      <td>-31.351540</td>\n",
              "      <td>101.547278</td>\n",
              "      <td>391.492832</td>\n",
              "      <td>-3.190841e+02</td>\n",
              "      <td>1.895114e+01</td>\n",
              "      <td>1.178864e+02</td>\n",
              "      <td>-2.625102e+08</td>\n",
              "      <td>1.160213e+05</td>\n",
              "      <td>7.223990e+04</td>\n",
              "      <td>4.212102</td>\n",
              "      <td>-2.532832</td>\n",
              "      <td>-1.679270</td>\n",
              "      <td>161.140680</td>\n",
              "      <td>100.333191</td>\n",
              "      <td>-195.179594</td>\n",
              "      <td>-234.861640</td>\n",
              "      <td>2.671424e+05</td>\n",
              "    </tr>\n",
              "  </tbody>\n",
              "</table>\n",
              "</div>"
            ],
            "text/plain": [
              "                     user_median  ...  time_int_deviation\n",
              "user_median         3.154593e+03  ...        1.234153e+04\n",
              "recent_workouts    -9.406107e+00  ...       -4.512913e+01\n",
              "workout_soon       -5.673297e+00  ...       -3.135154e+01\n",
              "recent_sport        1.189032e+01  ...        1.015473e+02\n",
              "recent_heart_rate   8.505868e+01  ...        3.914928e+02\n",
              "recent_speed       -5.614111e+01  ...       -3.190841e+02\n",
              "recent_distance    -3.785737e+01  ...        1.895114e+01\n",
              "recent_altitude    -5.307765e+02  ...        1.178864e+02\n",
              "good_users         -1.719057e+07  ...       -2.625102e+08\n",
              "hrs_to_next1        7.797431e+03  ...        1.160213e+05\n",
              "hrs_to_next2        3.460679e+03  ...        7.223990e+04\n",
              "gender_female       1.246619e+00  ...        4.212102e+00\n",
              "gender_male        -1.303268e+00  ...       -2.532832e+00\n",
              "gender_unknown      5.664908e-02  ...       -1.679270e+00\n",
              "months_to_next1     1.082977e+01  ...        1.611407e+02\n",
              "months_to_next2     4.806498e+00  ...        1.003332e+02\n",
              "recent_month1      -3.665020e+01  ...       -1.951796e+02\n",
              "recent_month2      -3.935883e+01  ...       -2.348616e+02\n",
              "time_int_deviation  1.234153e+04  ...        2.671424e+05\n",
              "\n",
              "[19 rows x 19 columns]"
            ]
          },
          "metadata": {
            "tags": []
          },
          "execution_count": 6
        }
      ]
    },
    {
      "cell_type": "code",
      "metadata": {
        "id": "8DeOmBKtb01D",
        "colab_type": "code",
        "outputId": "de4b3766-c507-49b5-821d-f8d2d99dbcde",
        "colab": {
          "base_uri": "https://localhost:8080/",
          "height": 638
        }
      },
      "source": [
        "df1 = user_time_table.corr(method ='pearson') # pearson a\n",
        "df1.iloc[:, [0, 5, 6, 7, 8, 9, 14, 15, 16]]"
      ],
      "execution_count": 7,
      "outputs": [
        {
          "output_type": "execute_result",
          "data": {
            "text/html": [
              "<div>\n",
              "<style scoped>\n",
              "    .dataframe tbody tr th:only-of-type {\n",
              "        vertical-align: middle;\n",
              "    }\n",
              "\n",
              "    .dataframe tbody tr th {\n",
              "        vertical-align: top;\n",
              "    }\n",
              "\n",
              "    .dataframe thead th {\n",
              "        text-align: right;\n",
              "    }\n",
              "</style>\n",
              "<table border=\"1\" class=\"dataframe\">\n",
              "  <thead>\n",
              "    <tr style=\"text-align: right;\">\n",
              "      <th></th>\n",
              "      <th>user_median</th>\n",
              "      <th>recent_speed</th>\n",
              "      <th>recent_distance</th>\n",
              "      <th>recent_altitude</th>\n",
              "      <th>good_users</th>\n",
              "      <th>hrs_to_next1</th>\n",
              "      <th>months_to_next1</th>\n",
              "      <th>months_to_next2</th>\n",
              "      <th>recent_month1</th>\n",
              "    </tr>\n",
              "  </thead>\n",
              "  <tbody>\n",
              "    <tr>\n",
              "      <th>user_median</th>\n",
              "      <td>1.000000</td>\n",
              "      <td>-0.134089</td>\n",
              "      <td>-0.032091</td>\n",
              "      <td>-0.027195</td>\n",
              "      <td>-0.075432</td>\n",
              "      <td>0.128632</td>\n",
              "      <td>0.128632</td>\n",
              "      <td>0.063961</td>\n",
              "      <td>-0.200731</td>\n",
              "    </tr>\n",
              "    <tr>\n",
              "      <th>recent_workouts</th>\n",
              "      <td>-0.245598</td>\n",
              "      <td>0.067789</td>\n",
              "      <td>0.039170</td>\n",
              "      <td>0.046144</td>\n",
              "      <td>-0.050619</td>\n",
              "      <td>-0.017740</td>\n",
              "      <td>-0.017740</td>\n",
              "      <td>-0.006688</td>\n",
              "      <td>0.085608</td>\n",
              "    </tr>\n",
              "    <tr>\n",
              "      <th>workout_soon</th>\n",
              "      <td>-0.217799</td>\n",
              "      <td>0.069142</td>\n",
              "      <td>-0.030264</td>\n",
              "      <td>0.055404</td>\n",
              "      <td>0.137712</td>\n",
              "      <td>-0.099656</td>\n",
              "      <td>-0.099656</td>\n",
              "      <td>-0.067818</td>\n",
              "      <td>0.033249</td>\n",
              "    </tr>\n",
              "    <tr>\n",
              "      <th>recent_sport</th>\n",
              "      <td>0.078009</td>\n",
              "      <td>-0.422956</td>\n",
              "      <td>-0.296656</td>\n",
              "      <td>0.048665</td>\n",
              "      <td>-0.019331</td>\n",
              "      <td>0.025763</td>\n",
              "      <td>0.025763</td>\n",
              "      <td>0.046949</td>\n",
              "      <td>0.021363</td>\n",
              "    </tr>\n",
              "    <tr>\n",
              "      <th>recent_heart_rate</th>\n",
              "      <td>0.078041</td>\n",
              "      <td>-0.012548</td>\n",
              "      <td>-0.118241</td>\n",
              "      <td>0.006138</td>\n",
              "      <td>-0.001016</td>\n",
              "      <td>0.048249</td>\n",
              "      <td>0.048249</td>\n",
              "      <td>0.043206</td>\n",
              "      <td>-0.010023</td>\n",
              "    </tr>\n",
              "    <tr>\n",
              "      <th>recent_speed</th>\n",
              "      <td>-0.134089</td>\n",
              "      <td>1.000000</td>\n",
              "      <td>0.630955</td>\n",
              "      <td>-0.082310</td>\n",
              "      <td>-0.088693</td>\n",
              "      <td>-0.057076</td>\n",
              "      <td>-0.057076</td>\n",
              "      <td>-0.009616</td>\n",
              "      <td>-0.004553</td>\n",
              "    </tr>\n",
              "    <tr>\n",
              "      <th>recent_distance</th>\n",
              "      <td>-0.032091</td>\n",
              "      <td>0.630955</td>\n",
              "      <td>1.000000</td>\n",
              "      <td>-0.020810</td>\n",
              "      <td>-0.047789</td>\n",
              "      <td>-0.042942</td>\n",
              "      <td>-0.042942</td>\n",
              "      <td>0.000801</td>\n",
              "      <td>-0.018255</td>\n",
              "    </tr>\n",
              "    <tr>\n",
              "      <th>recent_altitude</th>\n",
              "      <td>-0.027195</td>\n",
              "      <td>-0.082310</td>\n",
              "      <td>-0.020810</td>\n",
              "      <td>1.000000</td>\n",
              "      <td>0.024467</td>\n",
              "      <td>0.033006</td>\n",
              "      <td>0.033006</td>\n",
              "      <td>-0.000236</td>\n",
              "      <td>-0.016591</td>\n",
              "    </tr>\n",
              "    <tr>\n",
              "      <th>good_users</th>\n",
              "      <td>-0.075432</td>\n",
              "      <td>-0.088693</td>\n",
              "      <td>-0.047789</td>\n",
              "      <td>0.024467</td>\n",
              "      <td>1.000000</td>\n",
              "      <td>-0.037802</td>\n",
              "      <td>-0.037802</td>\n",
              "      <td>-0.063430</td>\n",
              "      <td>-0.000462</td>\n",
              "    </tr>\n",
              "    <tr>\n",
              "      <th>hrs_to_next1</th>\n",
              "      <td>0.128632</td>\n",
              "      <td>-0.057076</td>\n",
              "      <td>-0.042942</td>\n",
              "      <td>0.033006</td>\n",
              "      <td>-0.037802</td>\n",
              "      <td>1.000000</td>\n",
              "      <td>1.000000</td>\n",
              "      <td>0.218022</td>\n",
              "      <td>-0.008288</td>\n",
              "    </tr>\n",
              "    <tr>\n",
              "      <th>hrs_to_next2</th>\n",
              "      <td>0.063961</td>\n",
              "      <td>-0.009616</td>\n",
              "      <td>0.000801</td>\n",
              "      <td>-0.000236</td>\n",
              "      <td>-0.063430</td>\n",
              "      <td>0.218022</td>\n",
              "      <td>0.218022</td>\n",
              "      <td>1.000000</td>\n",
              "      <td>0.020468</td>\n",
              "    </tr>\n",
              "    <tr>\n",
              "      <th>gender_female</th>\n",
              "      <td>0.082521</td>\n",
              "      <td>-0.123066</td>\n",
              "      <td>-0.047214</td>\n",
              "      <td>-0.030437</td>\n",
              "      <td>0.053549</td>\n",
              "      <td>0.008504</td>\n",
              "      <td>0.008504</td>\n",
              "      <td>-0.030634</td>\n",
              "      <td>-0.012608</td>\n",
              "    </tr>\n",
              "    <tr>\n",
              "      <th>gender_male</th>\n",
              "      <td>-0.080669</td>\n",
              "      <td>0.101518</td>\n",
              "      <td>0.039969</td>\n",
              "      <td>0.021029</td>\n",
              "      <td>-0.057085</td>\n",
              "      <td>-0.028225</td>\n",
              "      <td>-0.028225</td>\n",
              "      <td>0.033660</td>\n",
              "      <td>0.043468</td>\n",
              "    </tr>\n",
              "    <tr>\n",
              "      <th>gender_unknown</th>\n",
              "      <td>0.009073</td>\n",
              "      <td>0.035082</td>\n",
              "      <td>0.010813</td>\n",
              "      <td>0.019230</td>\n",
              "      <td>0.018145</td>\n",
              "      <td>0.052456</td>\n",
              "      <td>0.052456</td>\n",
              "      <td>-0.012977</td>\n",
              "      <td>-0.081969</td>\n",
              "    </tr>\n",
              "    <tr>\n",
              "      <th>months_to_next1</th>\n",
              "      <td>0.128632</td>\n",
              "      <td>-0.057076</td>\n",
              "      <td>-0.042942</td>\n",
              "      <td>0.033006</td>\n",
              "      <td>-0.037802</td>\n",
              "      <td>1.000000</td>\n",
              "      <td>1.000000</td>\n",
              "      <td>0.218022</td>\n",
              "      <td>-0.008288</td>\n",
              "    </tr>\n",
              "    <tr>\n",
              "      <th>months_to_next2</th>\n",
              "      <td>0.063961</td>\n",
              "      <td>-0.009616</td>\n",
              "      <td>0.000801</td>\n",
              "      <td>-0.000236</td>\n",
              "      <td>-0.063430</td>\n",
              "      <td>0.218022</td>\n",
              "      <td>0.218022</td>\n",
              "      <td>1.000000</td>\n",
              "      <td>0.020468</td>\n",
              "    </tr>\n",
              "    <tr>\n",
              "      <th>recent_month1</th>\n",
              "      <td>-0.200731</td>\n",
              "      <td>-0.004553</td>\n",
              "      <td>-0.018255</td>\n",
              "      <td>-0.016591</td>\n",
              "      <td>-0.000462</td>\n",
              "      <td>-0.008288</td>\n",
              "      <td>-0.008288</td>\n",
              "      <td>0.020468</td>\n",
              "      <td>1.000000</td>\n",
              "    </tr>\n",
              "    <tr>\n",
              "      <th>recent_month2</th>\n",
              "      <td>-0.213661</td>\n",
              "      <td>-0.000367</td>\n",
              "      <td>-0.013095</td>\n",
              "      <td>-0.015768</td>\n",
              "      <td>-0.001287</td>\n",
              "      <td>-0.013645</td>\n",
              "      <td>-0.013645</td>\n",
              "      <td>0.015257</td>\n",
              "      <td>0.933719</td>\n",
              "    </tr>\n",
              "    <tr>\n",
              "      <th>time_int_deviation</th>\n",
              "      <td>0.425134</td>\n",
              "      <td>-0.082816</td>\n",
              "      <td>0.001746</td>\n",
              "      <td>0.000656</td>\n",
              "      <td>-0.125173</td>\n",
              "      <td>0.207987</td>\n",
              "      <td>0.207987</td>\n",
              "      <td>0.145088</td>\n",
              "      <td>-0.116164</td>\n",
              "    </tr>\n",
              "  </tbody>\n",
              "</table>\n",
              "</div>"
            ],
            "text/plain": [
              "                    user_median  recent_speed  ...  months_to_next2  recent_month1\n",
              "user_median            1.000000     -0.134089  ...         0.063961      -0.200731\n",
              "recent_workouts       -0.245598      0.067789  ...        -0.006688       0.085608\n",
              "workout_soon          -0.217799      0.069142  ...        -0.067818       0.033249\n",
              "recent_sport           0.078009     -0.422956  ...         0.046949       0.021363\n",
              "recent_heart_rate      0.078041     -0.012548  ...         0.043206      -0.010023\n",
              "recent_speed          -0.134089      1.000000  ...        -0.009616      -0.004553\n",
              "recent_distance       -0.032091      0.630955  ...         0.000801      -0.018255\n",
              "recent_altitude       -0.027195     -0.082310  ...        -0.000236      -0.016591\n",
              "good_users            -0.075432     -0.088693  ...        -0.063430      -0.000462\n",
              "hrs_to_next1           0.128632     -0.057076  ...         0.218022      -0.008288\n",
              "hrs_to_next2           0.063961     -0.009616  ...         1.000000       0.020468\n",
              "gender_female          0.082521     -0.123066  ...        -0.030634      -0.012608\n",
              "gender_male           -0.080669      0.101518  ...         0.033660       0.043468\n",
              "gender_unknown         0.009073      0.035082  ...        -0.012977      -0.081969\n",
              "months_to_next1        0.128632     -0.057076  ...         0.218022      -0.008288\n",
              "months_to_next2        0.063961     -0.009616  ...         1.000000       0.020468\n",
              "recent_month1         -0.200731     -0.004553  ...         0.020468       1.000000\n",
              "recent_month2         -0.213661     -0.000367  ...         0.015257       0.933719\n",
              "time_int_deviation     0.425134     -0.082816  ...         0.145088      -0.116164\n",
              "\n",
              "[19 rows x 9 columns]"
            ]
          },
          "metadata": {
            "tags": []
          },
          "execution_count": 7
        }
      ]
    },
    {
      "cell_type": "code",
      "metadata": {
        "id": "aXHNkSd5H3Xw",
        "colab_type": "code",
        "colab": {}
      },
      "source": [
        "# Best results: 0, 5, 6, 7, 8, 9, 14, 15, 18\n",
        "# All the features: 0, 1, 2, 3, 4, 5, 6, 7, 8, 9, 10, 11, 12, 13, 14, 15, 16, 17, 18\n",
        "\n",
        "\n",
        "x = user_time_table.iloc[:, [0, 5, 6, 7, 8, 9, 14, 15, 18]].values\n",
        "y = user_time_table.iloc[:, 2].values"
      ],
      "execution_count": 0,
      "outputs": []
    },
    {
      "cell_type": "code",
      "metadata": {
        "id": "6KuHGEtEH9e7",
        "colab_type": "code",
        "colab": {}
      },
      "source": [
        "from sklearn.model_selection import train_test_split\n",
        "x_train, x_test, y_train, y_test = train_test_split(x, y, test_size=0.2, random_state=0)"
      ],
      "execution_count": 0,
      "outputs": []
    },
    {
      "cell_type": "code",
      "metadata": {
        "id": "j3ABY2MMIBQ0",
        "colab_type": "code",
        "colab": {}
      },
      "source": [
        "from sklearn.preprocessing import StandardScaler\n",
        "sc_x = StandardScaler()\n",
        "x_train = sc_x.fit_transform(x_train)\n",
        "x_test = sc_x.transform(x_test)"
      ],
      "execution_count": 0,
      "outputs": []
    },
    {
      "cell_type": "markdown",
      "metadata": {
        "id": "xuhNK3HqP7hN",
        "colab_type": "text"
      },
      "source": [
        "# Hide"
      ]
    },
    {
      "cell_type": "code",
      "metadata": {
        "id": "eTWHbH_DYR7i",
        "colab_type": "code",
        "cellView": "both",
        "colab": {}
      },
      "source": [
        "#@title SVM Model (RBF Kernel)\n"
      ],
      "execution_count": 0,
      "outputs": []
    },
    {
      "cell_type": "code",
      "metadata": {
        "id": "OToRo9YRIDe-",
        "colab_type": "code",
        "outputId": "10086d33-4824-42f6-c6bf-8ad297c398a8",
        "colab": {
          "base_uri": "https://localhost:8080/",
          "height": 85
        }
      },
      "source": [
        "from sklearn.svm import SVC\n",
        "classifier = SVC(kernel = 'rbf', random_state = 0)\n",
        "classifier.fit(x_train, y_train)"
      ],
      "execution_count": 61,
      "outputs": [
        {
          "output_type": "execute_result",
          "data": {
            "text/plain": [
              "SVC(C=1.0, break_ties=False, cache_size=200, class_weight=None, coef0=0.0,\n",
              "    decision_function_shape='ovr', degree=3, gamma='scale', kernel='rbf',\n",
              "    max_iter=-1, probability=False, random_state=0, shrinking=True, tol=0.001,\n",
              "    verbose=False)"
            ]
          },
          "metadata": {
            "tags": []
          },
          "execution_count": 61
        }
      ]
    },
    {
      "cell_type": "code",
      "metadata": {
        "id": "7tISNiaJIFcx",
        "colab_type": "code",
        "colab": {}
      },
      "source": [
        "y_pred = classifier.predict(x_test)"
      ],
      "execution_count": 0,
      "outputs": []
    },
    {
      "cell_type": "code",
      "metadata": {
        "id": "NVDL0r39IIC8",
        "colab_type": "code",
        "outputId": "9c3b54aa-a4d6-4bf6-bd98-3d49663e25a0",
        "colab": {
          "base_uri": "https://localhost:8080/",
          "height": 136
        }
      },
      "source": [
        "from sklearn.metrics import confusion_matrix\n",
        "cm = confusion_matrix(y_test, y_pred)\n",
        "print(cm)\n",
        "print(cm[0][0])\n",
        "print(cm[1][1])\n",
        "print(cm[0][1])\n",
        "print(cm[1][0])\n",
        "print(\"SVM Accuracy (RBF): \" + str((cm[0][0]+cm[1][1])/(cm[0][1]+cm[1][0]+cm[0][0]+cm[1][1])*100) + \"%\")"
      ],
      "execution_count": 0,
      "outputs": [
        {
          "output_type": "stream",
          "text": [
            "[[116   4]\n",
            " [ 48   8]]\n",
            "116\n",
            "8\n",
            "4\n",
            "48\n",
            "SVM Accuracy (RBF): 72.09302325581395%\n"
          ],
          "name": "stdout"
        }
      ]
    },
    {
      "cell_type": "code",
      "metadata": {
        "id": "Oucqyq2_YvBU",
        "colab_type": "code",
        "cellView": "form",
        "colab": {}
      },
      "source": [
        "#@title SVM Model (Linear Kernel)\n"
      ],
      "execution_count": 0,
      "outputs": []
    },
    {
      "cell_type": "code",
      "metadata": {
        "id": "mmX5SU4BX5MQ",
        "colab_type": "code",
        "outputId": "2ce2ef85-fdb4-4151-ab7a-57697a74afe4",
        "colab": {
          "base_uri": "https://localhost:8080/",
          "height": 85
        }
      },
      "source": [
        "from sklearn.svm import SVC\n",
        "classifier = SVC(kernel = 'linear', random_state = 0)\n",
        "classifier.fit(x_train, y_train)"
      ],
      "execution_count": 0,
      "outputs": [
        {
          "output_type": "execute_result",
          "data": {
            "text/plain": [
              "SVC(C=1.0, break_ties=False, cache_size=200, class_weight=None, coef0=0.0,\n",
              "    decision_function_shape='ovr', degree=3, gamma='scale', kernel='linear',\n",
              "    max_iter=-1, probability=False, random_state=0, shrinking=True, tol=0.001,\n",
              "    verbose=False)"
            ]
          },
          "metadata": {
            "tags": []
          },
          "execution_count": 339
        }
      ]
    },
    {
      "cell_type": "code",
      "metadata": {
        "id": "CcbOidHUYGhb",
        "colab_type": "code",
        "colab": {}
      },
      "source": [
        "y_pred = classifier.predict(x_test)"
      ],
      "execution_count": 0,
      "outputs": []
    },
    {
      "cell_type": "code",
      "metadata": {
        "id": "K_rUMX8UYGmq",
        "colab_type": "code",
        "outputId": "e59aeb4f-fbe3-4512-ba6f-27a122c10422",
        "colab": {
          "base_uri": "https://localhost:8080/",
          "height": 136
        }
      },
      "source": [
        "from sklearn.metrics import confusion_matrix\n",
        "cm = confusion_matrix(y_test, y_pred)\n",
        "print(cm)\n",
        "print(cm[0][0])\n",
        "print(cm[1][1])\n",
        "print(cm[0][1])\n",
        "print(cm[1][0])\n",
        "print(\"SVC Accuracy (Linear): \" + str((cm[0][0]+cm[1][1])/(cm[0][1]+cm[1][0]+cm[0][0]+cm[1][1])*100) + \"%\")"
      ],
      "execution_count": 0,
      "outputs": [
        {
          "output_type": "stream",
          "text": [
            "[[120   0]\n",
            " [ 56   0]]\n",
            "120\n",
            "0\n",
            "0\n",
            "56\n",
            "SVC Accuracy (Linear): 68.18181818181817%\n"
          ],
          "name": "stdout"
        }
      ]
    },
    {
      "cell_type": "code",
      "metadata": {
        "id": "EJ0p5bmsY3ju",
        "colab_type": "code",
        "cellView": "form",
        "colab": {}
      },
      "source": [
        "#@title KNN Model\n"
      ],
      "execution_count": 0,
      "outputs": []
    },
    {
      "cell_type": "code",
      "metadata": {
        "id": "BQ9b9cMcX5XK",
        "colab_type": "code",
        "outputId": "46efdef2-e5f6-41d3-9674-9e51dd48cc90",
        "colab": {
          "base_uri": "https://localhost:8080/",
          "height": 68
        }
      },
      "source": [
        "from sklearn.neighbors import KNeighborsClassifier\n",
        "classifier = KNeighborsClassifier(n_neighbors=5, metric='minkowski', p=2)\n",
        "classifier.fit(x_train, y_train)"
      ],
      "execution_count": 0,
      "outputs": [
        {
          "output_type": "execute_result",
          "data": {
            "text/plain": [
              "KNeighborsClassifier(algorithm='auto', leaf_size=30, metric='minkowski',\n",
              "                     metric_params=None, n_jobs=None, n_neighbors=5, p=2,\n",
              "                     weights='uniform')"
            ]
          },
          "metadata": {
            "tags": []
          },
          "execution_count": 342
        }
      ]
    },
    {
      "cell_type": "code",
      "metadata": {
        "id": "j2IMI3AZYHWe",
        "colab_type": "code",
        "colab": {}
      },
      "source": [
        "y_pred = classifier.predict(x_test)"
      ],
      "execution_count": 0,
      "outputs": []
    },
    {
      "cell_type": "code",
      "metadata": {
        "id": "PWRMGZ0vYHbg",
        "colab_type": "code",
        "outputId": "04847d62-dbb6-436b-9991-dba8fc7dad81",
        "colab": {
          "base_uri": "https://localhost:8080/",
          "height": 136
        }
      },
      "source": [
        "from sklearn.metrics import confusion_matrix\n",
        "cm = confusion_matrix(y_test, y_pred)\n",
        "print(cm)\n",
        "print(cm[0][0])\n",
        "print(cm[1][1])\n",
        "print(cm[0][1])\n",
        "print(cm[1][0])\n",
        "print(\"KNN Accuracy: \" + str((cm[0][0]+cm[1][1])/(cm[0][1]+cm[1][0]+cm[0][0]+cm[1][1])*100) + \"%\")"
      ],
      "execution_count": 0,
      "outputs": [
        {
          "output_type": "stream",
          "text": [
            "[[103  17]\n",
            " [ 36  20]]\n",
            "103\n",
            "20\n",
            "17\n",
            "36\n",
            "KNN Accuracy: 71.09826589595376%\n"
          ],
          "name": "stdout"
        }
      ]
    },
    {
      "cell_type": "markdown",
      "metadata": {
        "id": "tIy5ijHJPKo4",
        "colab_type": "text"
      },
      "source": [
        "# Logistic Regression\n"
      ]
    },
    {
      "cell_type": "code",
      "metadata": {
        "id": "FpGL2U7fY7vI",
        "colab_type": "code",
        "cellView": "form",
        "colab": {}
      },
      "source": [
        "#@title Logistic Regression Model\n"
      ],
      "execution_count": 0,
      "outputs": []
    },
    {
      "cell_type": "code",
      "metadata": {
        "id": "fEygBMyYX5uI",
        "colab_type": "code",
        "outputId": "c03ba6ec-d1c1-4da0-e6c6-0a106abed41e",
        "colab": {
          "base_uri": "https://localhost:8080/",
          "height": 51
        }
      },
      "source": [
        "from sklearn.linear_model import LogisticRegression\n",
        "classifier = LogisticRegression(random_state=0)\n",
        "classifier.fit(x_train, y_train)\n",
        "column_labels = user_time_table.columns\n",
        "row_labels = ['Correlation']\n",
        "print(classifier.coef_)\n",
        "# df = pd.DataFrame(classifier.coef_, columns=column_labels, index=row_labels)\n",
        "# df\n",
        "# df = df.iloc[0].sort_values()\n",
        "# df.head()"
      ],
      "execution_count": 171,
      "outputs": [
        {
          "output_type": "stream",
          "text": [
            "[[-0.63756184 -0.23677173  0.26254581 -0.28270095  0.24071207 -0.3866086\n",
            "  -0.13738963 -0.3866086  -0.13738963  0.12467257 -0.17834826]]\n"
          ],
          "name": "stdout"
        }
      ]
    },
    {
      "cell_type": "code",
      "metadata": {
        "id": "evdrGQoAjUeD",
        "colab_type": "code",
        "outputId": "224fb8d9-e48d-4be7-9b44-92b74f2cd4c8",
        "colab": {
          "base_uri": "https://localhost:8080/",
          "height": 102
        }
      },
      "source": [
        "from sklearn.linear_model import LogisticRegression\n",
        "classifier = LogisticRegression(random_state=0)\n",
        "classifier.fit(x_train, y_train)"
      ],
      "execution_count": 172,
      "outputs": [
        {
          "output_type": "execute_result",
          "data": {
            "text/plain": [
              "LogisticRegression(C=1.0, class_weight=None, dual=False, fit_intercept=True,\n",
              "                   intercept_scaling=1, l1_ratio=None, max_iter=100,\n",
              "                   multi_class='auto', n_jobs=None, penalty='l2',\n",
              "                   random_state=0, solver='lbfgs', tol=0.0001, verbose=0,\n",
              "                   warm_start=False)"
            ]
          },
          "metadata": {
            "tags": []
          },
          "execution_count": 172
        }
      ]
    },
    {
      "cell_type": "code",
      "metadata": {
        "id": "LEkRyNGZXGdt",
        "colab_type": "code",
        "colab": {
          "base_uri": "https://localhost:8080/",
          "height": 51
        },
        "outputId": "d70a252c-de6d-4b24-9789-e83fb0d514cc"
      },
      "source": [
        "np.round(classifier.coef_, decimals=2) > 0"
      ],
      "execution_count": 173,
      "outputs": [
        {
          "output_type": "execute_result",
          "data": {
            "text/plain": [
              "array([[False, False,  True, False,  True, False, False, False, False,\n",
              "         True, False]])"
            ]
          },
          "metadata": {
            "tags": []
          },
          "execution_count": 173
        }
      ]
    },
    {
      "cell_type": "code",
      "metadata": {
        "id": "LiPRAFowYIMu",
        "colab_type": "code",
        "colab": {}
      },
      "source": [
        "y_pred = classifier.predict(x_test)"
      ],
      "execution_count": 0,
      "outputs": []
    },
    {
      "cell_type": "code",
      "metadata": {
        "id": "maq_2mxZYIiI",
        "colab_type": "code",
        "outputId": "d3fa3570-9929-4d43-e63a-cdc6670e901f",
        "colab": {
          "base_uri": "https://localhost:8080/",
          "height": 153
        }
      },
      "source": [
        "from sklearn.metrics import confusion_matrix\n",
        "cm = confusion_matrix(y_test, y_pred)\n",
        "print(cm)\n",
        "print(cm[0][0])\n",
        "print(cm[1][1])\n",
        "print(cm[0][1])\n",
        "print(cm[1][0])\n",
        "print(\"Accuracy: \" + str((y_test == y_pred).sum() / (len(x_test)) * 100) + \"%\")\n",
        "print(\"Logistic Regression Accuracy: \" + str((cm[0][0]+cm[1][1])/(cm[0][1]+cm[1][0]+cm[0][0]+cm[1][1])*100) + \"%\")"
      ],
      "execution_count": 175,
      "outputs": [
        {
          "output_type": "stream",
          "text": [
            "[[110  10]\n",
            " [ 45  11]]\n",
            "110\n",
            "11\n",
            "10\n",
            "45\n",
            "Accuracy: 68.75%\n",
            "Logistic Regression Accuracy: 68.75%\n"
          ],
          "name": "stdout"
        }
      ]
    },
    {
      "cell_type": "code",
      "metadata": {
        "id": "OwYtSUL9w43H",
        "colab_type": "code",
        "outputId": "2b6852cd-1b97-47ed-b594-fa3e8c579350",
        "colab": {
          "base_uri": "https://localhost:8080/",
          "height": 34
        }
      },
      "source": [
        "#Our Check: check if each user has a median time gap <= the median time gap of all users\n",
        "count = 0\n",
        "for i in range(len(user_time_table['workout_soon'])):\n",
        " if user_time_table['user_median'][i] <= median_gap and user_time_table['workout_soon'][i] == 1:\n",
        "   count += 1\n",
        " if user_time_table['user_median'][i] > median_gap and user_time_table['workout_soon'][i] == 0:\n",
        "   count += 1\n",
        "print('Baseline Percent Accuracy: ' + str((count/len(user_time_table)) * 100) + '%')"
      ],
      "execution_count": 0,
      "outputs": [
        {
          "output_type": "stream",
          "text": [
            "Baseline Percent Accuracy: 69.54545454545455%\n"
          ],
          "name": "stdout"
        }
      ]
    },
    {
      "cell_type": "code",
      "metadata": {
        "id": "SmUyAV_uPJZ2",
        "colab_type": "code",
        "outputId": "dbea5f9b-bf60-4763-90c6-05c2a34a43da",
        "colab": {
          "base_uri": "https://localhost:8080/",
          "height": 34
        }
      },
      "source": [
        "#McAuley Check: see if the second to last workout was in the median time gap\n",
        "count = 0\n",
        "for i in range(len(user_time_table['workout_soon'])):\n",
        " if user_time_table['hrs_to_next1'][i] <= median_gap and user_time_table['workout_soon'][i] == 1:\n",
        "   count += 1\n",
        " if user_time_table['hrs_to_next1'][i] > median_gap and user_time_table['workout_soon'][i] == 0:\n",
        "   count += 1\n",
        "print('Baseline Percent Accuracy: ' + str((count/len(user_time_table)) * 100) + '%')"
      ],
      "execution_count": 0,
      "outputs": [
        {
          "output_type": "stream",
          "text": [
            "Baseline Percent Accuracy: 66.81818181818183%\n"
          ],
          "name": "stdout"
        }
      ]
    },
    {
      "cell_type": "code",
      "metadata": {
        "id": "574H4D3GIJuz",
        "colab_type": "code",
        "outputId": "7b18766d-443c-41e6-b591-c07f5b793565",
        "colab": {
          "base_uri": "https://localhost:8080/",
          "height": 335
        }
      },
      "source": [
        "# Visualising the Training set results\n",
        "from matplotlib.colors import ListedColormap\n",
        "X_set, y_set = x_train, y_train\n",
        "X1, X2 = np.meshgrid(np.arange(start = X_set[:, 0].min() - 1, stop = X_set[:, 0].max() + 1, step = 0.01),\n",
        "                     np.arange(start = X_set[:, 1].min() - 1, stop = X_set[:, 1].max() + 1, step = 0.01))\n",
        "# plt.contourf(X1, X2, classifier.predict(np.array([X1.ravel(), X2.ravel()]).T).reshape(X1.shape),\n",
        "#              alpha = 0.75, cmap = ListedColormap(('red', 'blue')))\n",
        "plt.xlim(X1.min(), X1.max())\n",
        "plt.ylim(X2.min(), X2.max())\n",
        "for i, j in enumerate(np.unique(y_set)):\n",
        "    plt.scatter(X_set[y_set == j, 0], X_set[y_set == j, 1],\n",
        "                c = ListedColormap(('red', 'blue'))(i), label = j, s=15, edgecolors='k')\n",
        "plt.title('SVM-RBF (Training set)')\n",
        "plt.legend()\n",
        "plt.show()"
      ],
      "execution_count": 0,
      "outputs": [
        {
          "output_type": "stream",
          "text": [
            "'c' argument looks like a single numeric RGB or RGBA sequence, which should be avoided as value-mapping will have precedence in case its length matches with 'x' & 'y'.  Please use a 2-D array with a single row if you really want to specify the same RGB or RGBA value for all points.\n",
            "'c' argument looks like a single numeric RGB or RGBA sequence, which should be avoided as value-mapping will have precedence in case its length matches with 'x' & 'y'.  Please use a 2-D array with a single row if you really want to specify the same RGB or RGBA value for all points.\n"
          ],
          "name": "stderr"
        },
        {
          "output_type": "display_data",
          "data": {
            "image/png": "[encoded data removed]",
            "text/plain": [
              "<Figure size 432x288 with 1 Axes>"
            ]
          },
          "metadata": {
            "tags": []
          }
        }
      ]
    },
    {
      "cell_type": "code",
      "metadata": {
        "id": "BE6pRH42IMqN",
        "colab_type": "code",
        "outputId": "cc00d62a-0cf2-4c69-a7ac-0642a232395b",
        "colab": {
          "base_uri": "https://localhost:8080/",
          "height": 335
        }
      },
      "source": [
        "# Visualising the Test set results\n",
        "from matplotlib.colors import ListedColormap\n",
        "X_set, y_set = x_test, y_test\n",
        "X1, X2 = np.meshgrid(np.arange(start = X_set[:, 0].min() - 1, stop = X_set[:, 0].max() + 1, step = 0.01),\n",
        "                     np.arange(start = X_set[:, 1].min() - 1, stop = X_set[:, 1].max() + 1, step = 0.01))\n",
        "# plt.contourf(X1, X2, classifier.predict(np.array([X1.ravel(), X2.ravel()]).T).reshape(X1.shape),\n",
        "#              alpha = 0.75, cmap = ListedColormap(('red', 'blue')))\n",
        "plt.xlim(X1.min(), X1.max())\n",
        "plt.ylim(X2.min(), X2.max())\n",
        "for i, j in enumerate(np.unique(y_set)):\n",
        "    plt.scatter(X_set[y_set == j, 0], X_set[y_set == j, 1],\n",
        "                c = ListedColormap(('red', 'blue'))(i), label = j, s=15, edgecolors='k')\n",
        "plt.title('SVM-RBF (Test set)')\n",
        "plt.legend()\n",
        "plt.show()"
      ],
      "execution_count": 0,
      "outputs": [
        {
          "output_type": "stream",
          "text": [
            "'c' argument looks like a single numeric RGB or RGBA sequence, which should be avoided as value-mapping will have precedence in case its length matches with 'x' & 'y'.  Please use a 2-D array with a single row if you really want to specify the same RGB or RGBA value for all points.\n",
            "'c' argument looks like a single numeric RGB or RGBA sequence, which should be avoided as value-mapping will have precedence in case its length matches with 'x' & 'y'.  Please use a 2-D array with a single row if you really want to specify the same RGB or RGBA value for all points.\n"
          ],
          "name": "stderr"
        },
        {
          "output_type": "display_data",
          "data": {
            "image/png": "[encoded data removed]",
            "text/plain": [
              "<Figure size 432x288 with 1 Axes>"
            ]
          },
          "metadata": {
            "tags": []
          }
        }
      ]
    }
  ]
}